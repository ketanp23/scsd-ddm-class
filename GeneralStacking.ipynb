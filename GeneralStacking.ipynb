{
  "nbformat": 4,
  "nbformat_minor": 0,
  "metadata": {
    "colab": {
      "provenance": [],
      "authorship_tag": "ABX9TyN20yLYfByjrDKFC8VmnKjx",
      "include_colab_link": true
    },
    "kernelspec": {
      "name": "python3",
      "display_name": "Python 3"
    },
    "language_info": {
      "name": "python"
    }
  },
  "cells": [
    {
      "cell_type": "markdown",
      "metadata": {
        "id": "view-in-github",
        "colab_type": "text"
      },
      "source": [
        "<a href=\"https://colab.research.google.com/github/ketanp23/scsd-ddm-class/blob/main/GeneralStacking.ipynb\" target=\"_parent\"><img src=\"https://colab.research.google.com/assets/colab-badge.svg\" alt=\"Open In Colab\"/></a>"
      ]
    },
    {
      "cell_type": "code",
      "execution_count": 1,
      "metadata": {
        "colab": {
          "base_uri": "https://localhost:8080/"
        },
        "id": "idUTXYWjLuGf",
        "outputId": "bc701906-59ff-4210-ef4f-b85100dc564f"
      },
      "outputs": [
        {
          "output_type": "stream",
          "name": "stdout",
          "text": [
            "Accuracy: 0.9133333333333333\n"
          ]
        }
      ],
      "source": [
        "from sklearn.datasets import load_iris\n",
        "from sklearn.model_selection import cross_val_predict\n",
        "from sklearn.linear_model import LogisticRegression\n",
        "from sklearn.ensemble import RandomForestClassifier, GradientBoostingClassifier\n",
        "from mlxtend.classifier import StackingClassifier\n",
        "from sklearn.metrics import accuracy_score\n",
        "\n",
        "# Load the iris dataset\n",
        "iris = load_iris()\n",
        "X, y = iris.data, iris.target\n",
        "\n",
        "# Define the base models\n",
        "rf = RandomForestClassifier(n_estimators=10, random_state=42)\n",
        "gb = GradientBoostingClassifier(random_state=42)\n",
        "\n",
        "# Define the meta-model\n",
        "lr = LogisticRegression()\n",
        "\n",
        "# Define the stacking classifier\n",
        "stack = StackingClassifier(classifiers=[rf, gb], meta_classifier=lr)\n",
        "\n",
        "# Use cross-validation to generate predictions for the meta-model\n",
        "y_pred = cross_val_predict(stack, X, y, cv=5)\n",
        "\n",
        "# Evaluate the performance of the stacked model\n",
        "acc = accuracy_score(y, y_pred)\n",
        "print(f\"Accuracy: {acc}\")"
      ]
    }
  ]
}