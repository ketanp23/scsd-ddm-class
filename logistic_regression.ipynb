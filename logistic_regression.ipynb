{
  "nbformat": 4,
  "nbformat_minor": 0,
  "metadata": {
    "colab": {
      "provenance": [],
      "toc_visible": true,
      "machine_shape": "hm",
      "include_colab_link": true
    },
    "kernelspec": {
      "name": "python3",
      "display_name": "Python 3"
    }
  },
  "cells": [
    {
      "cell_type": "markdown",
      "metadata": {
        "id": "view-in-github",
        "colab_type": "text"
      },
      "source": [
        "<a href=\"https://colab.research.google.com/github/ketanp23/scsd-ddm-class/blob/main/logistic_regression.ipynb\" target=\"_parent\"><img src=\"https://colab.research.google.com/assets/colab-badge.svg\" alt=\"Open In Colab\"/></a>"
      ]
    },
    {
      "cell_type": "markdown",
      "metadata": {
        "id": "0MRC0e0KhQ0S"
      },
      "source": [
        "# Logistic Regression"
      ]
    },
    {
      "cell_type": "markdown",
      "metadata": {
        "id": "LWd1UlMnhT2s"
      },
      "source": [
        "## Importing the libraries"
      ]
    },
    {
      "cell_type": "code",
      "metadata": {
        "id": "YvGPUQaHhXfL"
      },
      "source": [
        "import numpy as np\n",
        "import matplotlib.pyplot as plt\n",
        "import pandas as pd"
      ],
      "execution_count": null,
      "outputs": []
    },
    {
      "cell_type": "markdown",
      "metadata": {
        "id": "K1VMqkGvhc3-"
      },
      "source": [
        "## Importing the dataset"
      ]
    },
    {
      "cell_type": "code",
      "metadata": {
        "id": "M52QDmyzhh9s"
      },
      "source": [
        "dataset = pd.read_csv('Social_Network_Ads.csv')\n",
        "X = dataset.iloc[:, :-1].values\n",
        "y = dataset.iloc[:, -1].values"
      ],
      "execution_count": null,
      "outputs": []
    },
    {
      "cell_type": "markdown",
      "metadata": {
        "id": "YvxIPVyMhmKp"
      },
      "source": [
        "## Splitting the dataset into the Training set and Test set"
      ]
    },
    {
      "cell_type": "code",
      "metadata": {
        "id": "AVzJWAXIhxoC"
      },
      "source": [
        "from sklearn.model_selection import train_test_split\n",
        "X_train, X_test, y_train, y_test = train_test_split(X, y, test_size = 0.25, random_state = 0)"
      ],
      "execution_count": null,
      "outputs": []
    },
    {
      "cell_type": "code",
      "metadata": {
        "id": "P3nS3-6r1i2B",
        "outputId": "75d6e0cf-d13b-42cf-a353-888682415d37",
        "colab": {
          "base_uri": "https://localhost:8080/",
          "height": 1000
        }
      },
      "source": [
        "print(X_train)"
      ],
      "execution_count": null,
      "outputs": [
        {
          "output_type": "stream",
          "text": [
            "[[    44  39000]\n",
            " [    32 120000]\n",
            " [    38  50000]\n",
            " [    32 135000]\n",
            " [    52  21000]\n",
            " [    53 104000]\n",
            " [    39  42000]\n",
            " [    38  61000]\n",
            " [    36  50000]\n",
            " [    36  63000]\n",
            " [    35  25000]\n",
            " [    35  50000]\n",
            " [    42  73000]\n",
            " [    47  49000]\n",
            " [    59  29000]\n",
            " [    49  65000]\n",
            " [    45 131000]\n",
            " [    31  89000]\n",
            " [    46  82000]\n",
            " [    47  51000]\n",
            " [    26  15000]\n",
            " [    60 102000]\n",
            " [    38 112000]\n",
            " [    40 107000]\n",
            " [    42  53000]\n",
            " [    35  59000]\n",
            " [    48  41000]\n",
            " [    48 134000]\n",
            " [    38 113000]\n",
            " [    29 148000]\n",
            " [    26  15000]\n",
            " [    60  42000]\n",
            " [    24  19000]\n",
            " [    42 149000]\n",
            " [    46  96000]\n",
            " [    28  59000]\n",
            " [    39  96000]\n",
            " [    28  89000]\n",
            " [    41  72000]\n",
            " [    45  26000]\n",
            " [    33  69000]\n",
            " [    20  82000]\n",
            " [    31  74000]\n",
            " [    42  80000]\n",
            " [    35  72000]\n",
            " [    33 149000]\n",
            " [    40  71000]\n",
            " [    51 146000]\n",
            " [    46  79000]\n",
            " [    35  75000]\n",
            " [    38  51000]\n",
            " [    36  75000]\n",
            " [    37  78000]\n",
            " [    38  61000]\n",
            " [    60 108000]\n",
            " [    20  82000]\n",
            " [    57  74000]\n",
            " [    42  65000]\n",
            " [    26  80000]\n",
            " [    46 117000]\n",
            " [    35  61000]\n",
            " [    21  68000]\n",
            " [    28  44000]\n",
            " [    41  87000]\n",
            " [    37  33000]\n",
            " [    27  90000]\n",
            " [    39  42000]\n",
            " [    28 123000]\n",
            " [    31 118000]\n",
            " [    25  87000]\n",
            " [    35  71000]\n",
            " [    37  70000]\n",
            " [    35  39000]\n",
            " [    47  23000]\n",
            " [    35 147000]\n",
            " [    48 138000]\n",
            " [    26  86000]\n",
            " [    25  79000]\n",
            " [    52 138000]\n",
            " [    51  23000]\n",
            " [    35  60000]\n",
            " [    33 113000]\n",
            " [    30 107000]\n",
            " [    48  33000]\n",
            " [    41  80000]\n",
            " [    48  96000]\n",
            " [    31  18000]\n",
            " [    31  71000]\n",
            " [    43 129000]\n",
            " [    59  76000]\n",
            " [    18  44000]\n",
            " [    36 118000]\n",
            " [    42  90000]\n",
            " [    47  30000]\n",
            " [    26  43000]\n",
            " [    40  78000]\n",
            " [    46  59000]\n",
            " [    59  42000]\n",
            " [    46  74000]\n",
            " [    35  91000]\n",
            " [    28  59000]\n",
            " [    40  57000]\n",
            " [    59 143000]\n",
            " [    57  26000]\n",
            " [    52  38000]\n",
            " [    47 113000]\n",
            " [    53 143000]\n",
            " [    35  27000]\n",
            " [    58 101000]\n",
            " [    45  45000]\n",
            " [    23  82000]\n",
            " [    46  23000]\n",
            " [    42  65000]\n",
            " [    28  84000]\n",
            " [    38  59000]\n",
            " [    26  84000]\n",
            " [    29  28000]\n",
            " [    37  71000]\n",
            " [    22  55000]\n",
            " [    48  35000]\n",
            " [    49  28000]\n",
            " [    38  65000]\n",
            " [    27  17000]\n",
            " [    46  28000]\n",
            " [    48 141000]\n",
            " [    26  17000]\n",
            " [    35  97000]\n",
            " [    39  59000]\n",
            " [    24  27000]\n",
            " [    32  18000]\n",
            " [    46  88000]\n",
            " [    35  58000]\n",
            " [    56  60000]\n",
            " [    47  34000]\n",
            " [    40  72000]\n",
            " [    32 100000]\n",
            " [    19  21000]\n",
            " [    25  90000]\n",
            " [    35  88000]\n",
            " [    28  32000]\n",
            " [    50  20000]\n",
            " [    40  59000]\n",
            " [    50  44000]\n",
            " [    35  72000]\n",
            " [    40 142000]\n",
            " [    46  32000]\n",
            " [    39  71000]\n",
            " [    20  74000]\n",
            " [    29  75000]\n",
            " [    31  76000]\n",
            " [    47  25000]\n",
            " [    40  61000]\n",
            " [    34 112000]\n",
            " [    38  80000]\n",
            " [    42  75000]\n",
            " [    47  47000]\n",
            " [    39  75000]\n",
            " [    19  25000]\n",
            " [    37  80000]\n",
            " [    36  60000]\n",
            " [    41  52000]\n",
            " [    36 125000]\n",
            " [    48  29000]\n",
            " [    36 126000]\n",
            " [    51 134000]\n",
            " [    27  57000]\n",
            " [    38  71000]\n",
            " [    39  61000]\n",
            " [    22  27000]\n",
            " [    33  60000]\n",
            " [    48  74000]\n",
            " [    58  23000]\n",
            " [    53  72000]\n",
            " [    32 117000]\n",
            " [    54  70000]\n",
            " [    30  80000]\n",
            " [    58  95000]\n",
            " [    26  52000]\n",
            " [    45  79000]\n",
            " [    24  55000]\n",
            " [    40  75000]\n",
            " [    33  28000]\n",
            " [    44 139000]\n",
            " [    22  18000]\n",
            " [    33  51000]\n",
            " [    43 133000]\n",
            " [    24  32000]\n",
            " [    46  22000]\n",
            " [    35  55000]\n",
            " [    54 104000]\n",
            " [    48 119000]\n",
            " [    35  53000]\n",
            " [    37 144000]\n",
            " [    23  66000]\n",
            " [    37 137000]\n",
            " [    31  58000]\n",
            " [    33  41000]\n",
            " [    45  22000]\n",
            " [    30  15000]\n",
            " [    19  19000]\n",
            " [    49  74000]\n",
            " [    39 122000]\n",
            " [    35  73000]\n",
            " [    39  71000]\n",
            " [    24  23000]\n",
            " [    41  72000]\n",
            " [    29  83000]\n",
            " [    54  26000]\n",
            " [    35  44000]\n",
            " [    37  75000]\n",
            " [    29  47000]\n",
            " [    31  68000]\n",
            " [    42  54000]\n",
            " [    30 135000]\n",
            " [    52 114000]\n",
            " [    50  36000]\n",
            " [    56 133000]\n",
            " [    29  61000]\n",
            " [    30  89000]\n",
            " [    26  16000]\n",
            " [    33  31000]\n",
            " [    41  72000]\n",
            " [    36  33000]\n",
            " [    55 125000]\n",
            " [    48 131000]\n",
            " [    41  71000]\n",
            " [    30  62000]\n",
            " [    37  72000]\n",
            " [    41  63000]\n",
            " [    58  47000]\n",
            " [    30 116000]\n",
            " [    20  49000]\n",
            " [    37  74000]\n",
            " [    41  59000]\n",
            " [    49  89000]\n",
            " [    28  79000]\n",
            " [    53  82000]\n",
            " [    40  57000]\n",
            " [    60  34000]\n",
            " [    35 108000]\n",
            " [    21  72000]\n",
            " [    38  71000]\n",
            " [    39 106000]\n",
            " [    37  57000]\n",
            " [    26  72000]\n",
            " [    35  23000]\n",
            " [    54 108000]\n",
            " [    30  17000]\n",
            " [    39 134000]\n",
            " [    29  43000]\n",
            " [    33  43000]\n",
            " [    35  38000]\n",
            " [    41  45000]\n",
            " [    41  72000]\n",
            " [    39 134000]\n",
            " [    27 137000]\n",
            " [    21  16000]\n",
            " [    26  32000]\n",
            " [    31  66000]\n",
            " [    39  73000]\n",
            " [    41  79000]\n",
            " [    47  50000]\n",
            " [    41  30000]\n",
            " [    37  93000]\n",
            " [    60  46000]\n",
            " [    25  22000]\n",
            " [    28  37000]\n",
            " [    38  55000]\n",
            " [    36  54000]\n",
            " [    20  36000]\n",
            " [    56 104000]\n",
            " [    40  57000]\n",
            " [    42 108000]\n",
            " [    20  23000]\n",
            " [    40  65000]\n",
            " [    47  20000]\n",
            " [    18  86000]\n",
            " [    35  79000]\n",
            " [    57  33000]\n",
            " [    34  72000]\n",
            " [    49  39000]\n",
            " [    27  31000]\n",
            " [    19  70000]\n",
            " [    39  79000]\n",
            " [    26  81000]\n",
            " [    25  80000]\n",
            " [    28  85000]\n",
            " [    55  39000]\n",
            " [    50  88000]\n",
            " [    49  88000]\n",
            " [    52 150000]\n",
            " [    35  65000]\n",
            " [    42  54000]\n",
            " [    34  43000]\n",
            " [    37  52000]\n",
            " [    48  30000]\n",
            " [    29  43000]\n",
            " [    36  52000]\n",
            " [    27  54000]\n",
            " [    26 118000]]\n"
          ],
          "name": "stdout"
        }
      ]
    },
    {
      "cell_type": "code",
      "metadata": {
        "id": "8dpDLojm1mVG",
        "outputId": "7ae11087-76ab-4027-c94e-9eb18f7573bf",
        "colab": {
          "base_uri": "https://localhost:8080/",
          "height": 171
        }
      },
      "source": [
        "print(y_train)"
      ],
      "execution_count": null,
      "outputs": [
        {
          "output_type": "stream",
          "text": [
            "[0 1 0 1 1 1 0 0 0 0 0 0 1 1 1 0 1 0 0 1 0 1 0 1 0 0 1 1 1 1 0 1 0 1 0 0 1\n",
            " 0 0 1 0 0 0 0 0 1 1 1 1 0 0 0 1 0 1 0 1 0 0 1 0 0 0 1 0 0 0 1 1 0 0 1 0 1\n",
            " 1 1 0 0 1 1 0 0 1 1 0 1 0 0 1 1 0 1 1 1 0 0 0 0 0 1 0 0 1 1 1 1 1 0 1 1 0\n",
            " 1 0 0 0 0 0 0 0 1 1 0 0 1 0 0 1 0 0 0 1 0 1 1 0 1 0 0 0 0 1 0 0 0 1 1 0 0\n",
            " 0 0 1 0 1 0 0 0 1 0 0 0 0 1 1 1 0 0 0 0 0 0 1 1 1 1 1 0 1 0 0 0 0 0 1 0 0\n",
            " 0 0 0 0 1 1 0 1 0 1 0 0 1 0 0 0 1 0 0 0 0 0 1 0 0 0 0 0 1 0 1 1 0 0 0 0 0\n",
            " 0 1 1 0 0 0 0 1 0 0 0 0 1 0 1 0 1 0 0 0 1 0 0 0 1 0 1 0 0 0 0 0 1 1 0 0 0\n",
            " 0 0 1 0 1 1 0 0 0 0 0 1 0 1 0 0 1 0 0 1 0 1 0 0 0 0 0 0 1 1 1 1 0 0 0 0 1\n",
            " 0 0 0 0]\n"
          ],
          "name": "stdout"
        }
      ]
    },
    {
      "cell_type": "code",
      "metadata": {
        "id": "qbb7i0DH1qui",
        "outputId": "94e717d7-fa9a-4e22-9c68-d43421cbfb92",
        "colab": {
          "base_uri": "https://localhost:8080/",
          "height": 1000
        }
      },
      "source": [
        "print(X_test)"
      ],
      "execution_count": null,
      "outputs": [
        {
          "output_type": "stream",
          "text": [
            "[[    30  87000]\n",
            " [    38  50000]\n",
            " [    35  75000]\n",
            " [    30  79000]\n",
            " [    35  50000]\n",
            " [    27  20000]\n",
            " [    31  15000]\n",
            " [    36 144000]\n",
            " [    18  68000]\n",
            " [    47  43000]\n",
            " [    30  49000]\n",
            " [    28  55000]\n",
            " [    37  55000]\n",
            " [    39  77000]\n",
            " [    20  86000]\n",
            " [    32 117000]\n",
            " [    37  77000]\n",
            " [    19  85000]\n",
            " [    55 130000]\n",
            " [    35  22000]\n",
            " [    35  47000]\n",
            " [    47 144000]\n",
            " [    41  51000]\n",
            " [    47 105000]\n",
            " [    23  28000]\n",
            " [    49 141000]\n",
            " [    28  87000]\n",
            " [    29  80000]\n",
            " [    37  62000]\n",
            " [    32  86000]\n",
            " [    21  88000]\n",
            " [    37  79000]\n",
            " [    57  60000]\n",
            " [    37  53000]\n",
            " [    24  58000]\n",
            " [    18  52000]\n",
            " [    22  81000]\n",
            " [    34  43000]\n",
            " [    31  34000]\n",
            " [    49  36000]\n",
            " [    27  88000]\n",
            " [    41  52000]\n",
            " [    27  84000]\n",
            " [    35  20000]\n",
            " [    43 112000]\n",
            " [    27  58000]\n",
            " [    37  80000]\n",
            " [    52  90000]\n",
            " [    26  30000]\n",
            " [    49  86000]\n",
            " [    57 122000]\n",
            " [    34  25000]\n",
            " [    35  57000]\n",
            " [    34 115000]\n",
            " [    59  88000]\n",
            " [    45  32000]\n",
            " [    29  83000]\n",
            " [    26  80000]\n",
            " [    49  28000]\n",
            " [    23  20000]\n",
            " [    32  18000]\n",
            " [    60  42000]\n",
            " [    19  76000]\n",
            " [    36  99000]\n",
            " [    19  26000]\n",
            " [    60  83000]\n",
            " [    24  89000]\n",
            " [    27  58000]\n",
            " [    40  47000]\n",
            " [    42  70000]\n",
            " [    32 150000]\n",
            " [    35  77000]\n",
            " [    22  63000]\n",
            " [    45  22000]\n",
            " [    27  89000]\n",
            " [    18  82000]\n",
            " [    42  79000]\n",
            " [    40  60000]\n",
            " [    53  34000]\n",
            " [    47 107000]\n",
            " [    58 144000]\n",
            " [    59  83000]\n",
            " [    24  55000]\n",
            " [    26  35000]\n",
            " [    58  38000]\n",
            " [    42  80000]\n",
            " [    40  75000]\n",
            " [    59 130000]\n",
            " [    46  41000]\n",
            " [    41  60000]\n",
            " [    42  64000]\n",
            " [    37 146000]\n",
            " [    23  48000]\n",
            " [    25  33000]\n",
            " [    24  84000]\n",
            " [    27  96000]\n",
            " [    23  63000]\n",
            " [    48  33000]\n",
            " [    48  90000]\n",
            " [    42 104000]]\n"
          ],
          "name": "stdout"
        }
      ]
    },
    {
      "cell_type": "code",
      "metadata": {
        "id": "kj1hnFAR1s5w",
        "outputId": "ec9924c4-6d8a-4f20-dbf9-272fbaa24f92",
        "colab": {
          "base_uri": "https://localhost:8080/",
          "height": 68
        }
      },
      "source": [
        "print(y_test)"
      ],
      "execution_count": null,
      "outputs": [
        {
          "output_type": "stream",
          "text": [
            "[0 0 0 0 0 0 0 1 0 0 0 0 0 0 0 0 0 0 1 0 0 1 0 1 0 1 0 0 0 0 0 1 1 0 0 0 0\n",
            " 0 0 1 0 0 0 0 1 0 0 1 0 1 1 0 0 0 1 1 0 0 1 0 0 1 0 1 0 1 0 0 0 0 1 0 0 1\n",
            " 0 0 0 0 1 1 1 0 0 0 1 1 0 1 1 0 0 1 0 0 0 1 0 1 1 1]\n"
          ],
          "name": "stdout"
        }
      ]
    },
    {
      "cell_type": "markdown",
      "metadata": {
        "id": "kW3c7UYih0hT"
      },
      "source": [
        "## Feature Scaling\n",
        "\n",
        "![Screenshot 2025-06-29 at 8.37.26 AM.png](data:image/png;base64,iVBORw0KGgoAAAANSUhEUgAABcwAAALICAYAAABCe7OPAAAMTGlDQ1BJQ0MgUHJvZmlsZQAASImVVwdYU8kWnltSIQQIREBK6E0QkRJASggtgPQiiEpIAoQSY0JQsaOLCq5dRLCiqyCKHRCxYVcWxe5aFgsqK+tiwa68CQF02Ve+N983d/77z5l/zjl37p07ANDb+VJpDqoJQK4kTxYT7M8al5TMInUCItAHANgAe75ALuVERYXDOzDQ/r28uwkQZXvNQan1z/7/WrSEIrkAACQK4jShXJAL8UEA8CaBVJYHAFEKefOpeVIlXg2xjgw6CHGVEmeocJMSp6nwlT6buBguxE8AIKvz+bIMADS6Ic/KF2RAHTqMFjhJhGIJxH4Q++TmThZCPFcZMbSBc9KV+uy0H3Qy/qaZNqjJ52cMYlUsfYUcIJZLc/jT/890/O+Sm6MYmMMaVvVMWUiMMmaYtyfZk8OUWB3iD5K0iEiItQFAcbGwz16JmZmKkHiVPWojkHNhzgAT4jHynFhePx8j5AeEQWwIcbokJyK836YwXRyktIH5Q8vEebw4iPUgrhLJA2P7bU7IJscMzHszXcbl9PPP+bI+H5T63xTZ8RyVPqadKeL162OOBZlxiRBTIQ7IFydEQKwBcYQ8Ozas3yalIJMbMWAjU8QoY7GAWCaSBPur9LHSdFlQTL/9zlz5QOzYiUwxL6IfX83LjAtR5Qp7IuD3+Q9jwbpFEk78gI5IPi58IBahKCBQFTtOFkniY1U8rifN849RjcXtpDlR/fa4vygnWMmbQRwnz48dGJufBxenSh8vkuZFxan8xMuz+KFRKn/wvSAccEEAYAEFrGlgMsgC4tau+i54p+oJAnwgAxlABBz6mYERiX09EniNBQXgT4hEQD44zr+vVwTyIf91CKvkxIOc6uoA0vv7lCrZ4CnEuSAM5MB7RZ+SZNCDBPAEMuJ/eMSHVQBjyIFV2f/v+QH2O8OBTHg/oxiYkUUfsCQGEgOIIcQgoi1ugPvgXng4vPrB6oyzcY+BOL7bE54S2giPCDcI7YQ7k8SFsiFejgXtUD+oPz9pP+YHt4Karrg/7g3VoTLOxA2AA+4C5+HgvnBmV8hy+/1WZoU1RPtvEfzwhPrtKE4UlDKM4kexGTpSw07DdVBFmesf86PyNW0w39zBnqHzc3/IvhC2YUMtsUXYAewcdhK7gDVh9YCFHccasBbsqBIPrrgnfStuYLaYPn+yoc7QNfP9ySozKXeqcep0+qLqyxNNy1O+jNzJ0ukycUZmHosDdwwRiycROI5gOTs5uwKg3H9Un7c30X37CsJs+c7N/x0A7+O9vb1HvnOhxwHY5w4/CYe/czZsuLWoAXD+sEAhy1dxuPJCgF8OOnz79IExMIf7mwNwBm7AC/iBQBAKIkEcSAITofeZcJ3LwFQwE8wDRaAELAdrQDnYBLaCKrAb7Af1oAmcBGfBJXAF3AB34erpAC9AN3gHPiMIQkJoCAPRR0wQS8QecUbYiA8SiIQjMUgSkopkIBJEgcxE5iMlyEqkHNmCVCP7kMPISeQC0obcQR4inchr5BOKoeqoDmqEWqEjUTbKQcPQOHQCmoFOQQvQBehStAytRHehdehJ9BJ6A21HX6A9GMDUMCZmijlgbIyLRWLJWDomw2ZjxVgpVonVYo3wOV/D2rEu7CNOxBk4C3eAKzgEj8cF+BR8Nr4EL8er8Dr8NH4Nf4h3498INIIhwZ7gSeARxhEyCFMJRYRSwnbCIcIZ+C51EN4RiUQm0ZroDt/FJGIWcQZxCXEDcQ/xBLGN+JjYQyKR9En2JG9SJIlPyiMVkdaRdpGOk66SOkgfyGpkE7IzOYicTJaQC8ml5J3kY+Sr5GfkzxRNiiXFkxJJEVKmU5ZRtlEaKZcpHZTPVC2qNdWbGkfNos6jllFrqWeo96hv1NTUzNQ81KLVxGpz1crU9qqdV3uo9lFdW91Onaueoq5QX6q+Q/2E+h31NzQazYrmR0um5dGW0qppp2gPaB80GBqOGjwNocYcjQqNOo2rGi/pFLolnUOfSC+gl9IP0C/TuzQpmlaaXE2+5mzNCs3Dmrc0e7QYWqO0IrVytZZo7dS6oPVcm6RtpR2oLdReoL1V+5T2YwbGMGdwGQLGfMY2xhlGhw5Rx1qHp5OlU6KzW6dVp1tXW9dFN0F3mm6F7lHddibGtGLymDnMZcz9zJvMT8OMhnGGiYYtHlY77Oqw93rD9fz0RHrFenv0buh90mfpB+pn66/Qr9e/b4Ab2BlEG0w12GhwxqBruM5wr+GC4cXD9w//zRA1tDOMMZxhuNWwxbDHyNgo2EhqtM7olFGXMdPYzzjLeLXxMeNOE4aJj4nYZLXJcZM/WLosDiuHVcY6zeo2NTQNMVWYbjFtNf1sZm0Wb1ZotsfsvjnVnG2ebr7avNm828LEYqzFTIsai98sKZZsy0zLtZbnLN9bWVslWi20qrd6bq1nzbMusK6xvmdDs/G1mWJTaXPdlmjLts223WB7xQ61c7XLtKuwu2yP2rvZi+032LeNIIzwGCEZUTniloO6A8ch36HG4aEj0zHcsdCx3vHlSIuRySNXjDw38puTq1OO0zanu6O0R4WOKhzVOOq1s52zwLnC+fpo2uig0XNGN4x+5WLvInLZ6HLbleE61nWha7PrVzd3N5lbrVunu4V7qvt691tsHXYUewn7vAfBw99jjkeTx0dPN888z/2ef3k5eGV77fR6PsZ6jGjMtjGPvc28+d5bvNt9WD6pPpt92n1Nffm+lb6P/Mz9hH7b/Z5xbDlZnF2cl/5O/jL/Q/7vuZ7cWdwTAVhAcEBxQGugdmB8YHnggyCzoIygmqDuYNfgGcEnQgghYSErQm7xjHgCXjWvO9Q9dFbo6TD1sNiw8rBH4XbhsvDGsejY0LGrxt6LsIyQRNRHgkhe5KrI+1HWUVOijkQTo6OiK6KfxoyKmRlzLpYROyl2Z+y7OP+4ZXF3423iFfHNCfSElITqhPeJAYkrE9vHjRw3a9ylJIMkcVJDMik5IXl7cs/4wPFrxnekuKYUpdycYD1h2oQLEw0m5kw8Ook+iT/pQCohNTF1Z+oXfiS/kt+Txktbn9Yt4ArWCl4I/YSrhZ0ib9FK0bN07/SV6c8zvDNWZXRm+maWZnaJueJy8auskKxNWe+zI7N3ZPfmJObsySXnpuYelmhLsiWnJxtPnja5TWovLZK2T/GcsmZKtyxMtl2OyCfIG/J04I9+i8JG8ZPiYb5PfkX+h6kJUw9M05ommdYy3W764unPCoIKfpmBzxDMaJ5pOnPezIezOLO2zEZmp81unmM+Z8GcjrnBc6vmUedlz/u10KlwZeHb+YnzGxcYLZi74PFPwT/VFGkUyYpuLfRauGkRvki8qHXx6MXrFn8rFhZfLHEqKS35skSw5OLPo34u+7l3afrS1mVuyzYuJy6XLL+5wndF1UqtlQUrH68au6puNWt18eq3ayatuVDqUrppLXWtYm17WXhZwzqLdcvXfSnPLL9R4V+xZ73h+sXr328Qbri60W9j7SajTSWbPm0Wb769JXhLXaVVZelW4tb8rU+3JWw79wv7l+rtBttLtn/dIdnRXhVTdbravbp6p+HOZTVojaKmc1fKriu7A3Y31DrUbtnD3FOyF+xV7P1jX+q+m/vD9jcfYB+oPWh5cP0hxqHiOqRuel13fWZ9e0NSQ9vh0MPNjV6Nh444HtnRZNpUcVT36LJj1GMLjvUeLzjec0J6outkxsnHzZOa754ad+r66ejTrWfCzpw/G3T21DnOuePnvc83XfC8cPgi+2L9JbdLdS2uLYd+df31UKtba91l98sNVzyuNLaNaTt21ffqyWsB185e512/dCPiRtvN+Ju3b6Xcar8tvP38Ts6dV7/l//b57tx7hHvF9zXvlz4wfFD5u+3ve9rd2o8+DHjY8ij20d3HgscvnsiffOlY8JT2tPSZybPq587PmzqDOq/8Mf6PjhfSF5+7iv7U+nP9S5uXB//y+6ule1x3xyvZq97XS97ov9nx1uVtc09Uz4N3ue8+vy/+oP+h6iP747lPiZ+efZ76hfSl7Kvt18ZvYd/u9eb29kr5Mn7frwAGlEebdABe7wCAlgQAA54bqeNV58O+gqjOtH0I/CesOkP2FTcAauE/fXQX/Lu5BcDebQBYQX16CgBRNADiPAA6evRgHTjL9Z07lYUIzwabo7+m5aaBf1NUZ9If/B7aAqWqCxja/guu84Mn/lg0fQAAAIplWElmTU0AKgAAAAgABAEaAAUAAAABAAAAPgEbAAUAAAABAAAARgEoAAMAAAABAAIAAIdpAAQAAAABAAAATgAAAAAAAACQAAAAAQAAAJAAAAABAAOShgAHAAAAEgAAAHigAgAEAAAAAQAABcygAwAEAAAAAQAAAsgAAAAAQVNDSUkAAABTY3JlZW5zaG90E5Q9mAAAAAlwSFlzAAAWJQAAFiUBSVIk8AAAAddpVFh0WE1MOmNvbS5hZG9iZS54bXAAAAAAADx4OnhtcG1ldGEgeG1sbnM6eD0iYWRvYmU6bnM6bWV0YS8iIHg6eG1wdGs9IlhNUCBDb3JlIDYuMC4wIj4KICAgPHJkZjpSREYgeG1sbnM6cmRmPSJodHRwOi8vd3d3LnczLm9yZy8xOTk5LzAyLzIyLXJkZi1zeW50YXgtbnMjIj4KICAgICAgPHJkZjpEZXNjcmlwdGlvbiByZGY6YWJvdXQ9IiIKICAgICAgICAgICAgeG1sbnM6ZXhpZj0iaHR0cDovL25zLmFkb2JlLmNvbS9leGlmLzEuMC8iPgogICAgICAgICA8ZXhpZjpQaXhlbFlEaW1lbnNpb24+NzEyPC9leGlmOlBpeGVsWURpbWVuc2lvbj4KICAgICAgICAgPGV4aWY6UGl4ZWxYRGltZW5zaW9uPjE0ODQ8L2V4aWY6UGl4ZWxYRGltZW5zaW9uPgogICAgICAgICA8ZXhpZjpVc2VyQ29tbWVudD5TY3JlZW5zaG90PC9leGlmOlVzZXJDb21tZW50PgogICAgICA8L3JkZjpEZXNjcmlwdGlvbj4KICAgPC9yZGY6UkRGPgo8L3g6eG1wbWV0YT4Kh6TPjwAAABxpRE9UAAAAAgAAAAAAAAFkAAAAKAAAAWQAAAFkAACSuWzbKzsAAEAASURBVHgB7N0FnBVVG8fxh+5QkFQJJQWRkpJOAQmVlpIWVBoFpKREaVAkJCxKSroRBGlRLDqklO5Y4D1neGd2Zvbeu3fZXdm9+5vP533vxJn6zkX0P+c+J1amTJnuCxMCCCCAAAIIIIAAAggggAACCCCAAAIIIIAAAjFcIBaBeQz/BnD7CCCAAAIIIIAAAggggAACCCCAAAIIIIAAAoYAgTlfBAQQQAABBBBAAAEEEEAAAQQQQAABBBBAAAEElACBOV8DBBBAAAEEEEAAAQQQQAABBBBAAAEEEEAAAQSUAIE5XwMEEEAAAQQQQAABBBBAAAEEEEAAAQQQQAABBJQAgTlfAwQQQAABBBBAAAEEEEAAAQQQQAABBBBAAAEElACBOV8DBBBAAAEEEEAAAQQQQAABBBBAAAEEEEAAAQSUAIE5XwMEEEAAAQQQQAABBBBAAAEEEEAAAQQQQAABBJQAgTlfAwQQQAABBBBAAAEEEEAAAQQQQAABBBBAAAEElACBOV8DBBBAAAEEEEAAAQQQQAABBBBAAAEEEEAAAQSUAIE5XwMEEEAAAQQQQAABBBBAAAEEEEAAAQQQQAABBJQAgTlfAwQQQAABBBBAAAEEEEAAAQQQQAABBBBAAAEElACBOV8DBBBAAAEEEEAAAQQQQAABBBBAAAEEEEAAAQSUAIE5XwMEEEAAAQQQQAABBBBAAAEEEEAAAQQQQAABBJQAgTlfAwQQQAABBBBAAAEEEEAAAQQQQAABBBBAAAEElACBOV8DBBBAAAEEEEAAAQQQQAABBBBAAAEEEEAAAQSUAIE5XwMEEEAAAQQQQAABBBBAAAEEEEAAAQQQQAABBJQAgTlfAwQQQAABBBBAAAEEEEAAAQQQQAABBBBAAAEElACBOV8DBBBAAAEEEEAAAQQQQAABBBBAAAEEEEAAAQSUQEAG5iVLlpU4ceNaD3jTxnUSFBRkLfuaSZUqteR9Pr+jyeYfN8jt27cd62LKQuzYcaRBw6ZSt94bcvzYURk1cogcOLAvptz+I7/PPHnySeon0ljXcfrUSfnzz9+sZWYQQAABBBBAAAEEEEAAAQQQQAABBBBAIOIEAi4wr1e/sbz3/gCHULWXS8rJk3871nlbeKNxC+nStbdjc/WqpeTEieOOdTFlYczYyVKyVPng271/XyqUf1HOnTsbvI65SBNYsmyjZMjwpHX8Q4f2y2u1K1nLzCCAAAIIIIAAAggggAACCCCAAAIIIIBAxAkEXGDepGkr6dS5p0OIwNzB4fdC/Pjx5aetf0is2LEd+yxcMFv69e3hWMdC5AgQmEeOK0dFAAEEEEAAAQQQQAABBBBAAAEEEEDAkwCBuUuFHubBIIkTJ5YfN+9VhXtiBa9Uc+vXrZJOHVs71umF3XsOO9YN/2SgfPXlFMc6FsImQGAeNi9aI4AAAggggAACCCCAAAIIIIAAAgggEB4BAnOXHoG5E+TLr+ZLnrwvOFbWea2yxzrm7sBc1zufPm2iY18WwiZAYB42L1ojgAACCCCAAAIIIIAAAggggAACCCAQHgECc5cegbkTJF36DNKz5wApVryUXLxwQaZOnSDffD3V2ej/SwTmHlnCtZLAPFx87IwAAggggAACCCCAAAIIIIAAAggggECYBAjMXVwE5i6QMCwSmIcBy8+mBOZ+QtEMAQQQQAABBBBAAAEEEEAAAQQQQACBCBAgMHchhicw1zW/c+Z8TrJnzyWpUj8hJ/4+Ln/t+0P2q/8FBQW5zhR4i4EcmKdKldp4ts9myyGJEiWWw4cOyJ9//iZHjzrrtj/MU82Q4UkpUaK0JE2aTA4fOSg/bFgj9+7dMw4VmYF53LhxpUCBFyV/gcJy+fIl2fvrz/LHH3v9+q7qfVOkSCnnzp19mFtmHwQQQAABBBBAAAEEEEAAAQQQQAABBKKkAIG567E8TGBeunR5eat9F8meI5fraA8W76vw86etP8onwz6UQ4f2O9o8n6+AfPrpNMe61auXS7++3R3rzIXkyVPI4iUbJHbs2OYq2bJlo3Tr2t5ats/Ejx9fVq76SXTAaU7r16+S3r26mIs+P5s2ay2tWnWw2pz557S8VruSsVy4cDEZOepza1sSFfjapzu3b8vt27esVfZ9rZUeZt5q31kaNmzm2DJo0AeybOlCxzpz4eWqNaVXrw/NReNz7NiPZdbMLx3rzIWXSpaVoUNHm4vG50cf9ZfvF33nWKeN9fehceOWkvqJNI5t5sLNmzdkyeIFos936eIFc7Xjs227jvLGG29a69asWSF9+3STV1+rL92695GECRNZ2/TM/HkzZUD/9411YQnMPbndvXtXGjWsKX//fcw6R+s270jTpq0kcZKk1jr7zOlTJ6Rfvx6y9acf7auNeW2in3mJl8pInDhx1UuhY9JXfVd37tgaoi0rEEAAAQQQQAABBBBAAAEEEEAAAQQQiG4CBOauJxaWwDx27Dgy/tOpUrRYSddRvC9+PmG0TPhslNVAB9nbtv8lsWwB+PVrV6VE8bxWG/tMq9YdjHDevi4o6I4ULpjdvsqaf6XGazLgw0+sZT2zcMFsFcj3cKzztvDee/2kXoOm1mYd/hfI/4yxXL58FflkxGfWttBmbly/JsWL5QmtmehAe+y4Lxztdu/aJm82r+dYZy54GphU9wB/tXZFs4njc/SYSVKqdAXHurZt3nAExGnSpJOvvlkgTzyR1tHO28KdO7el4zutZPPmH0I06T/gY6lR83Vr/fFjR+Tgwf1Spqzn67M/H38D8zZt3xUdzLunn3/eIc2b1jFW6x7sk7+YKTly5HY387j88+7t0rxZXce2evUby3vvD3CsO6UC9qpVXnKsYwEBBBBAAAEEEEAAAQQQQAABBBBAAIHoKEBg7npq/gbmOujWYaYOVsM6rVu7Ujp3amPtNmfuMnk2W05rWc+8Uq20o1ewuXHe/FWSJeuz5qL12fGdlrJBlfJwT59P/EpeLFLCsVr3EHf3dHc0sC08isBcn37bjr8kXrz41pXcvnVLirzoNDI3bt+5T/Wgj2cuPvi8f18KF8rusbzID5v2SLJkya32uif8i4VzWMtZs2aTmbMXO85vbQxlZuiQPiF6trsD87t3g4ze2d4OFdbAvGWr9tK+Q9cQh3O/ZFizdrs8rkrLhGWa+e00+Whof2uXBYvWSKZMWa1lc6bayyXl5Mm/zUU+EUAAAQQQQAABBBBAAAEEEEAAAQQQiJYCMSIw3/rTJrlx44ZfDyhTpiwhAunqVUvJiRPHHfuPV2VUiqu60x4nFdZeuXrFEcq62308bIB88/VUY3WTJi2lU5dejiYzpk+UkSOGONbp8ipbt/0pEiuWY71e2KJ6Nr/VLrgnuNlg80+/GTW3zeUrVy5LqZfymYuhfkZkYH5e1bsuX65wqOfUDSZPmSkFCxVxtK1ft5r89dfvjnVly1WSESODy8LYNw78sKd8N/db+ypJmzadLF+5xbFumyqX06b1G8Y6/auBNeu2ScqUjzvamAu6J3nQnTuSKHESc5XjU/fAf/21Ko4XEu7A3LGDuaC+M+ZzDUtg/uab7eTtd0OW79mx/Sdp1bKBeXSpXr22fDhohLVszKhz/vPvGflt7y+iS/3okkL2FwlmY7v7pxNmSDHXLyr0PRcrmltuqZcaTAgggAACCCCAAAIIIIAAAggggAACCERngRgRmIf3AbkDc11KY+SoiSEOe1KF6h9//KE1aGOCBAmkcpVXRIfO7oBVh4zlyhaSi6rutR4s9MfNe63AVB/46NFDUqtGecc56tRpJD17D3SsMxd0Le1iRZylNrJkeUbmLVhtNjE+V65YLD26v+1Y52vBV2Cu61nrATDNadPmX81Z43PSxLEyfVqw061bNz32+Hbs9P8FXZd88JDg0jV69dw5X8uggb0dzT0FuGYDPYhl4zdqm4vGZ/sOXaSlrSa7Xtm1cztZs2a5sX3goOFSrfqrxrz9/37ctF7Vmh8hv//24B5Tp04jr9dpKG1UPXAz6Dbbn/33H6lYITjs9xWYb/xhjcye/bVs2rhOkqia4g0bNVPfn7XWiwFfJVl0ffmOnR7UOjfPrT93bN+iwvKG9lUyaPAIqVrNadFatdmu2ton+4uKGzeuG+bjxw23wvBs2XPK7DnL7LuoUjabpG2bxo51LCCAAAIIIIAAAggggAACCCCAAAIIIBAdBQjM/Xhq7sB89pylki27c4BPXZda18wOCgoKcUTdq3n+wjWOcFk3mj3rSxkyuI/RftH36+SppzMb88b/qd6/BQtkk3v37lrrvvx6geTJ4713eBMVDv+qQmJz6t6jrzRo2MxcND4bN6ole/fucazzteArMHfvt3vPYceqUSOHOAJzx8ZQFnQYr8uy6IElzclTrewtW38PMWim2d5TbXd3SRt3G3cpGH2shQvmeB2E1ejhPmJCiNBc1w3X9cP15C0w178w0L808DV5C8w9lQ7Sx7H3lrcfV/fC19dqTvqFjS5D4+n72q//MPU92h2id765b86cz0mnzu9L+vQZZZb6Dn/7zTT1Pb1nbuYTAQQQQAABBBBAAAEEEEAAAQQQQACBaCtAYO7Ho7MH5rp0xYYfdjsCUl1qpHKlYh7DR/Pw6dJnkMVLNjgCYHt5lLfad5ZWrZ09v99TPcFXqB7hevIUIOtBNO091929x/X5Mj75tHkJqizNdSle9Dlr2Z+ZRxWY62v75ttFkiu3bfBT9RKhaJFcVm/nF14oJFOnz7FuQ5dLiadrmdtK1th7j2vDHTv3OwZY3fPzTmnW9HXjGHpgTh1u2yfdA/ydt1vaV4WYr1y5ugwdNtaxfvu2zdK6VSNjnafA/Df10uIN9fIitMlTYK7LzHTr/uBFi33/n7ZslHZtm9hXWfNVXq4hQ4aOtpb1zJnTJ40e+xtV73YmBBBAAAEEEEAAAQQQQAABBBBAAAEEEFDRYqZMmVTx5MCZmjRtpXq/9nTc0MWL5+XWzZuOdd4WkiZNJknU/+yTPTAvXbq8jBoz2b5ZPhrSV2bOnOFY52lhzNgpUrJUOcemgvmfMXrnpkz5mKzbsMuxbfOPG6T9W82MdeUrVJFPhn9mbb9y+ZIsXbJA6jVo6lhXquQLxrIelHT7jn2O8PiHDavl3XdaWe39mXmUgXmdum9Iz14fOi7zwwHvy7zvZhrrPho2TipVrmZt16VB0qZNL5lVKRpzspcL8VTvvM8HXeX7Rd8ZzQcNHqnKljhD7Irli8jZs/+Yh/P6uW7DTkfd8/PnVb32sg/qtXsKzD0NDurp4O7A3NuAobocUDVVa9/bpGuz79y13/F9MNteU/X29+zZZZSlWb5skVy/ft3cxCcCCCCAAAIIIIAAAggggAACCCCAAAIxSiBGBObVXi4pJ0/+7deD9VTqwh6YexpkseiLOa1ez75O8kqN12TAh584mrxWu5I1QOTyFT9K2nQZrO3Xr12VEsUf9LD+fOJX8mKREtY23Zt8zOhhsnjpD9Y6PVOrRjlV//ywx0Ee27Z5Q9Wb/tHRPrSFRxmYexrk1D6Y5Q+b9jgGqdS9ybNkfUbad+hq3dZtNRBlEfV89DRq9CQpXaaCtU2XJSlUMLtV9mba9LmS74WC1nb9UsJ8AWGt9DIzeswkKVU6+Nh3bt82Sp7o5p4C8wpq8NNz6pcJoU3uwNxbe/1dKVumoNxW5/U2eat57mivevEfOnzAKKWzaOFcxyYWEEAAAQQQQAABBBBAAAEEEEAAAQQQCHQBAnPXEw4tMO/9wSB57fWGwXupgDH/C1mDl33M5c9fSL6YFlxCRDft3KmNrFu70thLl9lo2Ki54whmWL91258SXw0iak5mvXJ3z2ZzYMwJn38pRYq+ZDYXe4BrrfRj5lEG5vryvpu/UrJmzWZdqTm4aaZMWWTBorXWerMWuf6FwMYff7HW65k3m9WR3bt3yA8bf5ZkqqSOOf31529Sv151c1EWfr9Wnn46i7WsX7Loly3+TL3UYKyvq0FZrcn2vXAH5ua1Wm19zPgbmOtD+PMLgldfqy+9ew9ylKXxdvq//vpd9MCgl9WLAyYEEEAAAQQQQAABBBBAAAEEEEAAAQRiggCBuesphxaYe6o1XjD/s1YvZdfhHIueal03alhDfv/tV6OdrnO+bLmzB/j0aZ+rIHSNTJk62zqWGRrrFe4w9uy//0jFCkVk85a9jvrm3gaDtA7qZeZRB+aeevTXrfOy1KvX2PHiYq8a7LSxGvRUT+6QefWqpfLJxx/K8pVbHHfpLqXjrpluL6vi2NHDwsefjJcKFataW+yhuPsZ2bdZO3iZcd+Ll2bW6nc6vCmh1SRPmDCRtG7zttR+tZ6jjIx1ENtMWF4a2HZjFgEEEEAAAQQQQAABBBBAAAEEEEAAgWgpQGDuemyhBeaeQm9/Qkp9mr79hkqt2vUcZ3SXc1mzbrs8/nhqq83Ro4dk/74/HWHsj5vWS4f2D3qiZ8ueU2bPWWa11zO6R7W7J7t98EtH41AWHnVgniRJUtmke4zbBvKcM/srKVu2kqR+Io119QP69ZD58x+8VOjY6T1p2qyNtU0Prjrr2+nS0j6oquoBrku12EuYfDL8Uylf4WVrP12ypVjR3H6V23EPsHr50kUpXSq/cazICMzXrV0hFy9eUKF3fet69Ywe2LVs6QJ+XbNur30rVapq1G7Pl6+gxIsfX692TCOHD5IZM5x1+x0NWEAAAQQQQAABBBBAAAEEEEAAAQQQQCBABAjMXQ8ytMDcUy9wd2kP1yGNRT0Ip665nShRYmuzpzIp/fp/JDVr1bXa6NBWh6CJVbBpTm+rXsSbNq4zF+XHzb86tute5vYwOSw9mq2D/n8mPIH55EnjZPy44e5Dhnl5iarTniHjU9Z+uue3/aWCNnqxcA4JCgoy2qROnUZWrdlqtdcz587+K6lSP2GtO3zogLxau6K1rGc89Wb/YsqnMnbMx4527gVdMkaXjrFPupxJ/boPBiSN6MBc95jv1rW9xI4dW9at3ynJU6S0n1p+2rJR2rVt4lhnLujBZYuoWvgrVA1896QHBtXfP11r3z7t3rVN3mzufNFj3848AggggAACCCCAAAIIIIAAAggggAACgSJAYO56kqEF5rq5e3BOvW7pkvnSq2dnPRti0kHkPBWoZsrsrHXuqea0p/DVfsA7d9RgkoVy2FeJu2e0Y6Na2PPzTmnW9HX3ar+WwxOY+/MiwZ+LePudbvJmi7e8Nj2w/0+p83pwz3DdcPWabY6A3L3zWDVg6hdffOZYrUuV6FI2sVQQbU2qJ3qfPt3k+0XfWavsMxlVkD933grR+9qnPh90tfaJyMD81KkTUrVKcG36AgUKO8r1mNfQtUs7WbN6ubkouXLnle7dP5AXXihk9NYfNXKIMbCn1cA2s2Xr7477OXP6pFSpHDzgbHJVB759hy6SNGlSmTdvluzc4Xw5YTsUswgggAACCCCAAAIIIIAAAggggAACCEQrAQJz1+PyJzBv0rSVdOrc07WnyMoVS+SD3p0dZT50uDht+lzJkvXZEO3rvFZZDhzYF2K97omeLFnyEOv1ip93b5fmzYJ7oOt1ngYT1evNyR7emuv8/QxLYL5tx18SL15wSY+7d4NkQP/3ZdHCuZJC9Wxu1rS1jB79kb+nttqlSpVaVq/dbi27ZzyFvyEG4bTvpELwl0o8L9euXbWvNea/mDpL8hd40bletR86tK/MmvmlY/2zz2aXGV/Nd/xqQDe4feuWUe7FbByRgfmhQ/vltdqVzEMbnyNGTpCy5So71ulrKFumgFy/fl2KFy8l4z+b7tgu6p7eatdUtqje6PYpS5Zn5Lt5Kx0vDey95Z988mn5fvF6R4mcpUsWqJdFneyHYR4BBBBAAAEEEEAAAQQQQAABBBBAAIFoKUBg7nps/gTmehd3mRDrMCqI/PfsP3L+3FlJnz5jiHIZZrtVK5dI924dzEXH57CPx0nFSg/KeTg2qIXeKphcogJK9+TuFWxu1+VKChXM7tegpOY+9s+wBOYrVm2RNGnS2Xc35vU16F7b+rNA/mdCbPdnxarVWx1lZqx9lHeJ4nmMYNhap2aeeiqTLNLBrofp5InjUq1qKQ9bRB577HHR92EP/s2G+gXA338fk6A7dySjCo7dvcrNdj3f7yjLli40F0MMzBqWEjnuQT89BebxVd3x9T/sDhHc79j+k7Rq2cC4Dm897i9ePC/bt21Rftck7/P5JUvmZxxhud5Z138fOrSfcZyRoyZKmbLOUjb6fooVyW2VxDEa8n8IIIAAAggggAACCCCAAAIIIIAAAghEQwECc9dD8zcw13Wyly7f6DFYdR0yxOK//56RKpWKqxD7XohtesXz+QrI9BkhS4D4Cr8/VT2Ii6mexO4pvGVRwhKYt2jZXjq83dV9CdZyeALz93sOkLr1GlvHMmdOqAC7erXS5qLjc4MKkd31vXWD0Gqrl69QRZW5cZZrcRzYx4KnFyGR3cNcX44OsXWY7Z7M8D5Pnnzy5dchX7S427uXdQmgkqo3/i3VY11Pi75fJ089ndmYt/9fjepl5Pjxo/ZVzCOAAAIIIIAAAggggAACCCCAAAIIIBDtBAjMXY/M38Bc75Yhw5PypSrJ8bgqGeLvtHfvHmn5Zj0rgPS2n6ce477C75Ily8qYcV+EONxHQ/rKzJkzQqz3d0VYAnN9TG+Bqt4WnsBc1wpfrAb/dE++BuUcNHiEVK1W272LlCtTUC5cOB9ivX2F9hyuSp146mlub2efn/ntNPloaH/7KmP+vwjM9YkmTf5GChUu5ji/Hli2XNlCcvXqFaldu6707D1Q4saN52jjbUEPrvqmKv9z9Ohhq0nTZq2lY6f3rWU9o39NUb5cYcc6FhBAAAEEEEAAAQQQQAABBBBAAAEEEIiOAjEiMC9buoBcvHjBr+dTq1Zd6dvfWWe7uirfcUKV8fA06QE9e/b6UKpVr+W1RIfeT5e+mDb1c68DLbqPPW78VCnxUhnH6o+HDZBvvp7qWGdfcNcQ13Wqi7yY01FT3d7en/mwBubao0/fwVKzZh1HnWt9rhuq7EfxYnn8Oa3HNus37DJqods3VlBB7TkV2HqacuZ8Tr6dtdix6Z9/Tkvlis5Q2dHAtpA2bTrp13+YFClSIkSZElszOXrkkOhn8+OPG+yrrfke7/WV+g2aWcthKckyb/4qR/17TyVZzAMnSZJU1q3fKfFUiRb7pAcs1XXs9aRLzkz4/CvJniOXvYlzXn1vNmxYI507tQ1Rykc/32++XSg5lK2erly5LB8OeF9WrVzqPAZLCCCAAAIIIIAAAggggAACCCCAAAIIREOBgAvMH+UzqFipqjz/fAHJlCmz3L17T/0vSI4dOyKbNq6TXbu8D1r5KK85Ms+dLXtOyZrlWaO29qHDB+SXPbsi83SRduwECRJILdU7O1u2nEZdeh14X716VY4cOahqlS8y6ppH2skj6cD6ngoVKmr8L4PqvZ8kSRLRv374acsm+eWXXV7LBZmXowdiTZHiMdEBPhMCCCCAAAIIIIAAAggggAACCCCAAAKBIkBgHihPkvtAAAEEEEAAAQQQQAABBBBAAAEEEEAAAQQQCJcAgXm4+NgZAQQQQAABBBBAAAEEEEAAAQQQQAABBBBAIFAECMwD5UlyHwgggAACCCCAAAIIIIAAAggggAACCCCAAALhEiAwDxcfOyOAAAIIIIAAAggggAACCCCAAAIIIIAAAggEigCBeaA8Se4DAQQQQAABBBBAAAEEEEAAAQQQQAABBBBAIFwCBObh4mNnBBBAAAEEEEAAAQQQQAABBBBAAAEEEEAAgUARIDAPlCfJfSCAAAIIIIAAAggggAACCCCAAAIIIIAAAgiES4DAPFx87IwAAggggAACCCCAAAIIIIAAAggggAACCCAQKAIE5oHyJLkPBBBAAAEEEEAAAQQQQAABBBBAAAEEEEAAgXAJEJiHi4+dEUAAAQQQQAABBBBAAAEEEEAAAQQQQAABBAJFgMA8UJ4k94EAAggggAACCCCAAAIIIIAAAggggAACCCAQLgEC83DxsTMCCCCAAAIIIIAAAggggAACCCCAAAIIIIBAoAgQmAfKk+Q+EEAAAQQQQAABBBBAAAEEEEAAAQQQQAABBMIlQGAeLj52RgABBBBAAAEEEEAAAQQQQAABBBBAAAEEEAgUAQLzQHmS3AcCCCCAAAIIIIAAAggggAACCCCAAAIIIIBAuAQIzMPFx84IIIAAAggggAACCCCAAAIIIIAAAggggAACgSJAYB4oT5L7QAABBBBAAAEEEEAAAQQQQAABBBBAAAEEEAiXAIF5uPjYGQEEEEAAAQQQQAABBBBAAAEEEEAAAQQQQCBQBAjMA+VJch8IIIAAAggggAACCCCAAAIIIIAAAggggAAC4RIgMA8XHzsjgAACCCCAAAIIIIAAAggggAACCCCAAAIIBIoAgXmgPEnuAwEEEEAAAQQQQAABBBBAAAEEEEAAAQQQQCBcAgTm4eJjZwQQQAABBBBAAAEEEEAAAQQQQAABBBBAAIFAESAwD5QnyX0ggAACCCCAAAIIIIAAAggggAACCCCAAAIIhEuAwDxcfOyMAAIIIIAAAggggAACCCCAAAIIIIAAAgggECgCBOaB8iS5DwQQQAABBBBAAAEEEEAAAQQQQAABBBBAAIFwCRCYh4uPnRFAAAEEEEAAAQQQQAABBBBAAAEEEEAAAQQCRYDAPFCeJPeBAAIIIIAAAggggAACCCCAAAIIIIAAAgggEC4BAvNw8bEzAggggAACCCCAAAIIIIAAAggggAACCCCAQKAIEJgHypPkPhBAAAEEEEAAAQQQQAABBBBAAAEEEEAAAQTCJUBgHi4+dkYAAQQQQAABBBBAAAEEEEAAAQQQQAABBBAIFAEC80B5ktwHAggggAACCCCAAAIIIIAAAggggAACCCCAQLgECMzDxcfOCCCAAAIIIIAAAggggAACCCCAAAIIIIAAAoEiQGAeKE+S+0AAAQQQQAABBBBAAAEEEEAAAQQQQAABBBAIlwCBebj42BkBBBBAAAEEEEAAAQQQQAABBBBAAAEEEEAgUAQIzAPlSXIfCCCAAAIIIIAAAggggAACCCCAAAIIIIAAAuESIDAPFx87I4AAAggggAACCCCAAAIIIIAAAggggAACCASKAIF5oDxJ7gMBBCyB2HHiS/wESSRu3IQSO05caz0zCCCAQHQTuHc3SIKCbsrtW9fk3t3b0e3yuV4EEEAAAQQQQAABBBBAINoJEJhHu0fGBSOAgC+BBIlSSoKEyXw1YRsCCCAQLQVu3bwit25cjJbXzkUjgAACCCCAAAIIIIAAAtFFgMA8ujwprhMBBEIVSJQklcSLnzjUdjRAAAEEoqvAndvX5ca1c9H18rluBBBAAAEEEEAAAQQQQCDKCxCYR/lHxAUigIA/AvQs90eJNgggEAgC9DQPhKfIPSCAAAIIIIAAAggggEBUFSAwj6pPhutCAAG/BXTN8qTJ0/rdnoYIIIBAdBe4evkMNc2j+0Pk+hFAAAEEEEAAAQQQQCBKChCYR8nHwkUhgEBYBBImfkwN8pk0LLt4bJsuXTpJkiSJHDt2TO7cueOxDSsjRqB27drS4s2W1sEGDxkkmzdvtpZjwkxEGMSPH1+yZM4iZ8+dlXPnArtMR/du3aVK5So+vxqfTfhM5syd47NNoGy8feuq3Lx+IVBuh/tAAAEEEEAAAQQQQAABBKKMQEAF5i+VLCtx48YNF+6ZM6flj99/NY6RLn0GyZnzOWP+ypXLsnPH1nAdO6rsnDhxYilf4WUpUaK0xIoVW86cOSkL5s+RQ4f2R5VLDLjrSJgwkRQt9pJ1Xz9sWCP37t2zlh/1THT/TiRNnl5ixwn7n/28efJKp06dJH269KIN1B8I61HcV8/n6rVrsnfvXlm2bKls3LQxSj0z60Kj6cw7b78jr732unX1Y8aOke++m2stx4SZhzHQf8e9+867UqJ4CUmRIoXEjRfPQXXnzm05c/qMbNj4gyxcuED98/2MY3t0Xhg6ZKgUK1bc5y18/fVXMnHSRJ9tAmXjvbtBcvXyKb9vJ0eO3NK2XUc5fvyIfD5hjFy7dtXvfWmIAAIIIIAAAggggAACCMQkgYAJzGvXrit9+n0U7md39OghqVWjvHGcJUt/kAwZnzLmr6v/sCxRPG+4j/8oD6ADwW++/V4yZc4a4jJOnjgu1aqWCrGeFREj0K//R1KzVl3rYCVLPC9Xr16xlh/VTKB8J5I/9uDPqb+OKVOmlP79+ssLL+T3dxe5GxQk5SqU87v9F1O+kGTJkhvtjxw5LN26d/N735jQ8GHC4kBzCavBK9VfkQ4dOoh+AefvtGjRQhk+Yri/zaN0u8GDBqsXvcEvHj1dbEwKzPX9X75w3BNDiHV58uSTL79eYK2/fOmilC7l/z//rB2ZQQABBBBAAAEEEEAAAQRigEDABOb16zeRHu/3D/cjswfmy1f8KGnTZTCOGd0D81SpUsvceSskZcrHPRoRmHtkibCVgwaPlKrValnHiwqBeSB9J8ISmOseugvmLZBkyR+E2dZD8WOmdBn/XyqtX7teYsWObRz18uVL8kqNV/w4Q8xpEtawOBBlwmLQoH4Dadu2XZgZtm79Sbr36B7m/aLiDgkTJlR/h6V0XNrr6lcKdeoEv4wkMHfwWAufTZihfuVU0lrWM82b1pGff97hWMcCAggggAACCCCAAAIIIICAKkCQKVOm+4EAQWDu+ynOnL1E9M+x7dNd9XNuPcVRpSwIzO0yET8fFQPzQPpOhCUwHzrkI1XWoZjjId+6eVM2/LBBDhw8INevXZfs2bNL1qzPyDNZs0oiXarl/xOBuSkR/s+whMXhP1vUPIK/BtmyZZPJEyc7SgbpO9q3b5/s2rVTjhw5IqmfSC05c+SUzJkyy5NPPmm1DaTA3NNTbNiwobRp3dbaRGBuUThmen8wSF57vaFjXbWXS8rJk3871rGAAAIIIIAAAggggAACCCAQQIF50qTJJOsz2Tw+0ySJk8inqneVOe399Wf5+OMPzUXH56WLF+To0cPGukDqYb595z5V3z241u24sZ/IlMnjjfvMmjWbJE+egp5mjm9CxC5ExcA8kL4T/gbmefM+L+PGjnM83OXLl8tHw4Z6rU+uy2C0bNFSUj72mBCYO+jCteBvWByuk0Txnf01mDH9S1Evt6270S942rVvJwcPHrTW2WdSp35CunbpKsWKFpWt27YGTA9z+z2a8wTm/pVkSZHyMVmqyswlTvJgcOQtWzbKW22bmIx8IoAAAggggAACCCCAAAII2AQCpoe57Z5CzOowfeOPv1jrly5ZIL16drKWvc0ESmCe+7m88vU3i6zb3PjDGnnn7ZbWMjORLxDVAvNA+074G5h3aN/BUb7hwIH90qJlC7++ALly5ZI//vjDr7a6ESVZfFP5Gxb7Pkr03uqvwdo169QvgeJYN/uWCst/++03a9nbjB4UNEmSJKoX8UlvTaL9egJz/wJz80HnzfuCXLhwXv7++5i5ik8EEEAAAQQQQAABBBBAAAGXAIG5C8S+GCiBeYuW7aXD212tW+vbp5ssWjjXWmYm8gWiWmAeaN8JfwPz8eM+lTx58lgPfNjHH8mSJUus5YedyZw5c4hdp0+dbpXFuHH9urR9K7hshLuxLqkR2qRrr5cqWUqViskqGTM+KWnSPCE3VU9jHeLv+WWP7NmzR27fvh3aYYztugdy0qRJjHl9jNOnTxvzOmCtV6++ZM2SxagVffz4cdn9827ZtGmTXL582a9jm4309RYsUFAN0lhCnn32WTl06JCsXbdWlRDZZTTxNyw2j6c/I9LAfty0adNKokQPBtK8ceOGnDlzxtpcrGgxKV68uDz11FNGaH3ixAn5de+vfn1vIsLgueeek0/Hf2Zdz39RDz9+/PiSL18+ef755yVXjlyqLFEiFbCekMOHD8kPG38IUwD/Qr4XjONkzJhRtLMO/g+onvG//vKL7Ni5I8zfKwvi/zOREZjrlwxFXiwi+fPnN0oznTt3Tn75dY9s2bJF9PMP62T/58P58+ete46txjioWbOm5M6VWzJkyCC3bt2So8eOyY/qz5u28Wfyd9BPf45FGwQQQAABBBBAAAEEEEAAgQcCBOY+vgm+AnNdxiRfvvySIeNTcvTIIdm2bYv888+D0MnHIT1u0oMv5smTT7KrYOLevfvqZ/b75I/ff1WhzcMdz32SVq07yFvtu1ir27RqpK53s7Uc2oz+j/rMmZ+RXLmeU59Z5eKli7Lvrz/kd3WN165dDW13n9vTpc8gpUuXl4QJE8mhg/tl48Z1PtvrjUnUT8qLFntJsmXLqepNX1WB4W+yc+dWryU1MmR4UvK9UFCyZHlG/v3njPz00yY5fvxoqOeJyAZhDcz1ryLy5Ssguie4DlF+/WW36lH6i9+BaGjXHmjfCX8D8wXzF8hjjwUPfOtvT11fnjpUHDvGWebFV3tP2xo3eUOOqaDM09SsaTMpX768PP3U01YA76mdXnfq1Cn1cqyDnD37r7cmxvoli5eqwPxBaYagO3ekfMXyMqD/ACldqrTHc9wNCpI+ffvIph83+TyuuVFfc/NmzT0e6/69ezJ8xHD15zGLvKYGbDSnMWPHyHffeX6RFxkG5nn15+pVqyVevPjGKl3upFKVSlKoYCHp06ePpEjhHGTS3E+3GzlqpCxbvsxc5fiMKIOaNWpK587B//w+fvyYvNH4Dce5ImpBB9ojPhkhT6qXA74mfQ1ffPGF8QLEU7tyZcvJ66+/Ljmy55C48YJLgXlqq19Q9O7dy++A2H2MiAzMdbA9csRIefzxVO7TWMv6hcU7776jXh48KN1mbfAyo1+0fPXl19bWP/74Xdq2ayuN32gsTZs2tb53VoP/z5w7e1a6dOsS6nkiMzDXf9cWL1FKsqu/a3Wput27d6gXBmHr0e6+L5YRQAABBBBAAAEEEEAAgeggQGDu4yl5CsyrV68tHTu9L6lUD033pAfRnDF9kowZPcy9yeNylZdrSMeOPSRtugwet5/99x+ZPn2i+o/tKR63+1r5xdRZauDCXEaT+PETSDzVY9Ccbty4Lvfu3jUX5fKVy1K1ykvWsjmjg8UuXXtJpUrVHfub2/Xngf1/ymh1v5t8BN2TJn9rhO26/Z49u6T9W81EO/bsPVD16gweUFFv/2hIX5k5c4YUKFBYxowNvu/mzevKqZMnVND2mbz4YvEQQdxtFSrPUFbjx4/QhzGmgoWKyIABHxsvNcx15qcO7XQNd3t7c5v+XPj9Wkn1eGpjlXnN9u3ueR38z5273Fr94YCesmLFYmvZ38C8efO20rJVe6vOrHWA/89cu3pFhg0b8FC/EIju3wm3hX3Z38B8zuy5qmd2GmvXiRM/V+WKgsMsa0MYZnQP2tGjx4Rhj5BNmzZrYgzcGHKLyIZ1G0J83z21M9fpAPyDvh/I5s3eX4otW7JMfcce9DDXYfhB1ftbD3Qa2tS/fz+vIam578APB0pJ1RPe53T/vuxX5XCyZQs+p6/APDIM7NfnDsyHfjRU+vbpG6r7jh3b1T8jg8Ns85gRaaB7tw8ZPNQ8tPpVwQ2pXKWytRxRMzrAbfFmC4mlXpD6M5kvWjy1nT1rtupNns7TJq/r9J9D/ecxrFNEBeaNGzeWlm+qUmWxYoV6Cfrvj08/+1Rmz5kdatunn35avpzxldVOB+b79++XGupFSGjTyJEjZMHCBT6bhSUwX7Fqi+gxXfS0adN6ea/HOyGOrV+QfzjwE6lQoarET5AgxHZ976tWLZX+/XrIdfXLGfekB2Bv91YnY1yUP/7YK506to6wl//uc7GMAAIIIIAAAggggAACCESWAIG5D1l7YK4HA9269UepVLm6jz0ebDpy+KDUeb2KBKkgytOk/4P084lfSaHCxTxtDrFu/74/VG+02kZP4xAbvazQ/2GcJo1/gUVQ0B0pXDA4uNKHLFO2onz8yXjHQKFeTmWs/lH9x/c7b7fw2Mvb7nj06CEVsv8l5Su87PFwwz7qL99+M83odT5qzGSrzcAPe0rXbh8YPdGtlR5mzPrsOlSf8PmXoYY/v6gAv2mT10Icaeu2P62wQF9zrRrlQ7Sxr8iUKYssWLTWWjV71pcq5OpjLYcWmOte8LPnLJUkqme5P9OxY4elUYOaclUF6P5O0f074es+/Q3MR44YpV7GFLAOpUuYNGjYINQe2dYOHmayqJ7Sn38WMuhLkDCho7XukextatS4kfz7r+de4SHCYhU237x1Uy5evKiyvViSPFlyVTLD+eJJn6dbt66ybfs2j6e0B+buBjpAv3b9mvFLDnvdbN3un3/+kTp1g3uFu/ftonpCewoCr6hyLvfu35MUanBhb4FkmALzCDCwX7s9MNdBsHaNo0rKOCZ1Tve1ewrMI9pAlwdZql5w2KdFixYavfTt68Iz37lTZ1UapFaIQ+hw9NKlS3JbmTyuBr219xYPa2B+585tuXzpsvHd1YNMJ9O/cHCF0wtVODxChcRhmSIiMPf2zPTLiQsXLqrvbXLrBZP92rp06Rxqz3h3YH5J/ULL068WtLX7ZUVEB+a7dh+0zrF37x5p3Mj5zPWvsPQLbk8dAuz3ref1vzd06tjG8bJclyD6adsfquxO8J+dNauXqQFo33LvzjICCCCAAAIIIIAAAgggEKUFCMx9PB570OuxmYcAxWz33dxvZOCHvcxFx+d381equqjZHOuMBX08PblCBL1Kl3upXNG/gF23D0842qBhM+neQ/Wu9DB5+o96s9nxY0ekVs3yIUJzu+MdFVDae7ub+5qf3gLzEOf1YT93zteq1EMDKxgwju3D9oNenWXx4vnmJRif/2Vgrl9sLFi4WoWeD3r+OS7Ex3Xv/fVn40WKo72Phej+nfBxa+JvYN6kcRNp0UL1IrVN+ru1fMVyo6e5rtkdUVNEDfppBub79++TSZMmydZtW0Ncoq613L9ff0cQd+jQQWn+piqL4mHyFJjrAPT9nu87QvYPen+geppWdBxBl3z59ddfHOv0gg7LVixb4QhVz58/J02aNpErVx682ImnynNMmfyFZMqUKcT+/gTmEWlgvwB7YG5fr18eTJs+zajbrevM65edzzzzjFFupkTxEkZYau9hHlkGK5evFPcLGF1+Z7q6thUrV4T4Z679HkKb12VYZs9UPaVtf+/o+9a97FeuWunYPVmyZKK/E0WKFBV/AnNdGuibb78VHYS7XyDr8/bvN0D9+ujBL6H0ifQxK1auGKb7CW9g7un+9aCYXdULpwMHDlj3nz59ehk3dpzo+v/mpMPvGjVrmIseP92Bub2RLu/y6aefGn/mdJ10XTte/2JFD06cSZeHieAe5r4C8wSqN7keHN0sTWS/zhB///5/o/77vEL5F1VN9kvGGv2ifeSoifZd5YraVqrkC451LCCAAAIIIIAAAggggAACUV2AwNzHE7IHvfZmOhju1bOTCo1+VgFKHPXz+Ory3nv9JLmt1q3+D8yyZQuJ7plunzp2ek+aNmtjXyU7tm9RvZH7qkHx9hvrdW9j3Zu6bLlKjnbfzf1WhfA9Heu8LbzRuIUKdh6E8rly55UcOXJbTXWvavNceuW+fX8avbr1vA7y53633BE2655kOoSeMGGMdT/ly1eRdzp2l6efzqJ3s6aVqgxJj+5vW8t6xpujPu7vv/0qa9euMH6+Xb5CFfls/EijlImua27vYW4e8Ibq+dq/33tGGx1elVLtBg4c7rVntm4/QJVHWb5skXGIIkVLyOAho1SN2gflVvTK8+fPSvmyhc1TGJ//ZWD+fs8BUrdeY8f5ly5ZoHqVLlCDzG1S4dFdNWhidhnw4Sein6V9Gjywt8xRz8afKbp/J3zdo7+Buf7OLFyw0Pi+eTre9WvXZJ8Kpjdv2axCvoXGoJqe2vmzLqICc10qYunSpaIDNV9TunTpZOY3Mx1/dqu/Us0Kq+37hgjM1YuZuvXrOga7NNt/8/U3xiCj5rKuM67DbffUpnUbadiwkbVaW776+quia1TbJ/0MZn47M0TJDl+BeWQY2K/JU2Cuw942bdt6/fWBrk2dMuVjjpcHkWXgrmNuv3b9d82JkydlrxqIdPWa1bJ9+3b75lDnJ02c7CjHo19uNGvezOt96wPq+u5vvPGGKk/W0ePxq1atatTe1gPShjYtWrjI8aJnhKpvv1D1oPd3Cm9gPkH9OsQe2v/999/S6I2GXk8/f958R43zqVO/MF6qeNvBW2C+fds26f5ed68vB/SgowcOHgj1z31YSrL4Csw7d+kpjZu0sm5D//381Ywp8v3384x/X9BlxypVqibt1Xgo9lIte37eKc2aPvjViQ78N//0m6OH+Yb1q6Xju8HHtU7ADAIIIIAAAggggAACCCAQhQUIzH08HE9B70k14NUr1cuE+I9c3bNwww+7HbWnR44YbNQ0N0+ROnUaWbX6J0dPviWL50nvXiFr4Op92nfooupZdzB3F1Gh1kslng/zQJthGeDRfc/6Z/SNGtaU/SpU9zRNnjJTdK1w+9SyRX3ZuSO4F6z7mLrt+XNnperLL3ktM+MpMNc14mvXrBBiwM4UKrRat26HIyjU5/DW3lNPupeK53W4/peBub7Wd9/toUKqNuoR35cePd6WVSuX6tUhpnfe7a56Dbez1p/4+5hUr1baWvZ3Jjp+J3zdm7+BuT5G3rzPy+iRo0KW3HCfQD2LQ4cPyezZs70O7Ojexb4cUYG5/ZihzU+aOEmFnzmsZt27d/PYI90dmG9XpVt0j1pPkzus/VEN/NmzV8gXd4u/XyK6B7I5+apJrQeF7Nu3n9nU+PQVmDsahrLgr4H9MCECc/Xs6zWoJ6dPh23g5cg0GD1qtLzwQn77ZXuc12VE1q/fIJOnTPJa5sfcMVu2bDJ5UvBYEXq9HoBz46aNZpNI/9R105s0aWqdZ/ny5TJk6GBrObSZ8ATm7vu/q8b20CWHfL2cyp0rt3z22QTrskIbhNVTYH716lWpVr2qdYzwzERUYD5t+lxjcGzzWnSpMv1y3T3pl0Qr1b/H6J7o+ldOQ4b0MV58m+2aNmstbdq8Y4xPcujwAXmnQwsGCjVx+EQAAQQQQAABBBBAAIFoI0Bg7uNRuYPe69euSuVKxb3Wja6s6psPHTbWOuKypQul5/vBPfDcPYkPHzogr9auaLX3NDNu/FQp8VIZa9PnE0bLhM9GWcv+zPgbjubM+Zx8O2uxdUjdw+yNhrXkr79+t9Z5mnH/h7a9x5lu73bUg45We7mkqg173tPhjHWeAvPu3dp7DZJHjPw8RI/8zp3ayLq1Kz2eo/cHg+W11xtY21q3bKh6Zm6xlv/rwFyfOG/eFyRIBTZ//P6rdR2eZhYv2SAZn3za2KQHOy3yYk5PzXyui47fCV83FJbAXB8nZcqUMmL4SKO8hq/jmtv27fvL6E17TfWa9nd6FIF5r556kN7K1iWOGj1S5s93lhvSG92B+dvvdJBffglZZkW3dYeK+/btk1atnWVtdDv7/eqXe1VVIOjLa9XK1UYJCr2vniIqMPfX4MFZH/y/OzDXvX+7dvf8AsG+n3s+sg2aNW1mhMvu2vLu69DLuuf5x8M/liVLlnjabKyrX6++tGsXXF/6zJnT6tcudb22j4wNRYsWlY+GDrMOvXPnDumsaoP7O4UnMNcDnbZsGdz7WffSb9+hfaintv/50eMgVKxUwes+ngLzT9Rz+f77773uE5YNERWYf/nVfMmj/g4yp3JlCnr9O1r/u8LFSxfk9KmTZnM+EUAAAQQQQAABBBBAAIGAEiAw9/E43UHvpIlj5dPxI7zukVgNvPfjlt+s7X/9+ZvUrxc8SOi6DTtVUPe4td3dq9naYJvRJVJ0zXNz8mcASrOt+elvODpm7GQpWSp4cEtd/kWXgfFnsgfMOqgpVjS31Xvc7agDfx38+5rcgXlodVBbtmqvgo7ggOuaGgxT98b3NtWuXVf69PvI2jxy+CCZMSN4kFH7/fhjHt5BP60Lsc3ocj+5c+eRW7dvycED+43SLHqzO+wvUew5uX79um3P0Gej43fC112FNTA3j5UjRw5pUL+BeulQxOOgfmY7/alLi9R+tVaIEiP2NvZ5e3iqa/y+UuMV++YwzydUg4g2b9bc6EH+xBOpVRmLFMYguLbS0xJXDbZnHzhwwoTP5NuZIf8M2wM/fSFVq73sNdzWZRZ0uG1OJ078LQ0bOUtWuAem9KcH7YzpXzpqmfsTmEekgXk/+tMdmPszmKN9fz3/XxnoOvB169RV40XUUgM7p3H8Ysl9TXrZV0//vn36Srlywf/Mnzd/noweHbYXsp7OaV9Xu3Zt9fdBMXniiSfkMTVwaOJEiSV2nNhWk9ixYjt+7aHr4+s6+f5O4QnMdd3/MmXKOk6le+ibUyyJZc46Pt315H39+XEH5vrvxzLlyjiOF56FiArMmzdvq8qs9bAu5ey//6hfPrV09B63NjKDAAIIIIAAAggggAACCAS4AIG5jwfsDnpfrVVB1WU96GMPke0796nB7+IZbY4eOWQMgmnusPvnQ45ww162xGzj6dNe8uTKlctS6qV8npp5XedvOGq/X12KpeiLuUKUnvF2ko9Uz/pKqoe9Ob3ZrI7s3r3DWLQfV6+oUb1MiLIq5n7mpzsw/3n3dhUWeu/5qOu9617m5qR/Sq5/Uu5t0r25Z6gedebkfhnyqALzNm3fVYMsVhFdxz5xkqTm5RmfeoC1k6f+ln//+UcKFS5qbfPne2k1/v9MdPxOuO/Bvvywgbn9GBkyZJDy5curFy0vqV7V2VUd3jj2zcb8xo0/qBcWvUOs97QiogJzHcR27dJNSpcu7fGaPJ3bXOdPYO5PgLdh/Q/mIVWd85C9kPVAhaNHB9c199TGOsD/Z0apsjj58xewVvsKzCPDwDqxmnEH5t5qv9v3cc9HtoH7fHpZlwLTYbT+bhQuVFhSqkDaPennW/u12qq3sHM8Dd1u8qTJxnfd3Ces9cPN/Tx96lIrdVSwnyhRIk+bva7zt5e3eYDwBOZfTJnq969MzPN5+mzdppX6JdZfnjapcT6eli9nfGVtu6FeblapWsVaDu9MRAXmutTKug27QlyOHnBc/1pu0cLvHGOfhGjICgQQQAABBBBAAAEEEEAggAQIzH08THvQqwPkFwvl8NH6wSZH0GoLzI365WuC63qHeiAvDXSZlMIFs3vZ6nm1v+GoHqwrker9p6eTJ/82yqZ4PmLItbq8ie75bE6DB30gc2Y/CAkextEdmE+eNE7GjxtuHj7Epx7Mc8LnwaHEtC8mqAAvuAe5ewc9iOac71ZYqx91YK7DiqnT5kjmLM9Y1+TvTGQG5lHpO+HLIyICc/vx9cCU9erWk1atWjtDalVqRA9k6avGsXmciAjMdW/iWTNnS6pUqczDhulz6jQ1IOG0aSH2sfcwvxsUJOUqlAvRxr4itMBc9yLu+G4na5ejR45Ik2ZNrGVPMx/0/kC9HAouSeUtMI8sA/s12QNzf14g2Pc15yPTwDxHaJ964Nchg4eowZud/xzxVqPePeBmu3Zt5fc/fg/tNKFuf6/He/Lyyw9Xo1sPFNq2XZtQz2E2CE9gvnjRYkmWPLl5qIf+7KDKuPyqyrl4mtyB+Sk1QGv9hvU9NX2odREVmOuT16n7hvRUg1CL/WcrtqvSJcB27tyqXrSMk127wja4rO0wzCKAAAIIIIAAAggggAACUV6AwNzHI7IHvbp+eQk1MGRok7fAvECBwjJl6uzQdg99uwrs8r+QNfR2thb+Bua7dh+0yjn8+cdeVarC/xIS7sB6+rTPZdTIocZVPIyjOzAf/slA+epL5+B0tlsU9/nHjf1Epkweb2/imI9KgXnUJPVgAABAAElEQVSu3Hll+oy5xiBqjotUC/pFjR6ILmGChF5DjMgMzKPSd8JtY1+O6MDcPHaWLFlk2hfTHPaDBg2UlauCyySZbd2fERGYjxwxSgoUCO6Frc9x5coVWbt2jezfv1+OHjsqly9ftk6ta1yXVQNqmtPUqSownz7NXLQ+Izowr1atmnTvFlzO4dChg2pw2ubW+TzNuMuBeAvMI8vAfk32wPzWzZtSqUol+2a/5iPTwK8LsDUaP+5TyZMnj7VGjxdRq3Yta9mcWTB/gSqT8ri5KL6CX6tRKDOVKlaSXr2cv8IIunNHfty8Wfb8skf+Pn5c/lHlPvQAx3p69tln5YPefayj/qEC+7YquPd3Ck9g7n5hMGXKZNny0xZ/T221038WvU3uwDysLwS8HddcH5GBuT5mmbIVZcCAj9WLhBTmKTx+6lJlrVs2Et0DnQkBBBBAAAEEEEAAAQQQCDQBAnMfT/Rhgl5vgbm7xrWuk7r4+3k+zu55ky7JMmZ08ABpnls51/obmNuv/dixw1LzleDgzXnEkEvVqtWSgYNHWhvsNcEfxjG6BebZsueU2XOWWfc/e9aXqqdncAg0SNlUVUbmVFLVV7+q6qzrad78VZIl67PmJiMknzb1c2Nw13uqnII56Xr2Hd7uqmruVrBebOhtkRmYR6XvhOng6TOyAnN9Lnf4OHfuHBk7bqyny3CsC29grsttrFa1w+01yUM799AhH0mxYsWs6/ivepjnypVLfV+DSyL9o8oG1an7unUdnmbGqBIu+VQpF3PyFJhHpoF5Xv0ZEYF5ZBnYr9Pfef2LhHnfBZec8vYrgkkTJxk18c3jehsk1tzuz+esmbMkXbr0VlP98qRFyxZey3tVrVpVenR/z2of1kA5PIH5lMlTVGCfzTr3p5+Nl1mzZlnLETETMjAP2wuB0K4hogNz83wlSpSW1m3ekZxqgM/4CRKYqx2f+hdv1auWMso0OTawgAACCCCAAAIIIIAAAghEcwECcx8P8GGCXnvAaK9hrks87FQ9uM1pz887pVlT34GS2Ta8n/4G5qvXbJNUqZ8wTnfjxnUpXvQ5v0/93nv9pF6Dplb79u2ayubNPxjLD+MYlQJzf8rTuAdM8zcwdw8Uq8tB1K3zshw4sM+ydM+MHDXR6AVoro/MwDwqfSfM+/X0GZmBeZfOXaRGjZrWabds2SLvvR/cm9ra4JoJb2BepXIVef/9ntZRdc/cRo0bWcueZtwDaf5Xgbl7YNDr167Jy2ogUV+T+1o9BeaRaWC/togIzCPLwH6dYZlfu2ado5xQ2XJlQoTWvVVP8IqqR7g5LVq0UIaP8F76ymzn63PNqjUSV5US0pMO6iu/XFm9BLzjdZd333lXXn31NWt7eAPzmbNmymeffWodz9eM+1cO8+Z9J6PH+B6Q2tfxPG2LroG5/V6yqFJhjZu0FD1WiH3gct3m8KED8mrt4NJK9v2YRwABBBBAAAEEEEAAAQSiqwCBuY8n9zBBr7fAXJ9m2/a/JF78+MYZ794NUjXRc6oA466PK4iYTf4G5tOmz5V8LxS0TvpW2yayZctGa9nXzHo1WFgKVYfbnMqULiCXLl4wFh/G8VEH5j9u/tUadPPG9WtSvFhweQPzHu2fkyZ/6xiI09/AvHDhYjJx8jfWobZv2yytW/kORd3WkRmYR6XvhIXkYSYyA/MB/T80BlU0T7tw4QI1wOwIc9Hrpz2wvHHjhlRRwWFYppYtWkrjxsF1wJcsWSzDPvb+6xL9Um7lipWO0j7/VWCu78t+v6rehrxS8xVHuRj7vetrXbVilRWs6m2eAvPINLBfT0QE5vp4kWFgv05/57XvurXrHc1LlynlWNYLddWgnO3bd7DWeyvdYjUIZeYxNejogvkLrVYnTvwtDRs1tJY9zXwx5Qs18GbwL2zCGphXqFDBUdJl3bq10q9/P0+nCrGuQf0G0rZtO2v9vn37pFXrltZyRMwEQmBudzD+feKtzsFlqtSf9YIFng3xMsa+D/MIIIAAAggggAACCCCAQHQTIDD38cQeJuj1FZiP/3SaFFc/czanRQvnSt8+3cxFj5+6vuzC79fJRVWDduiQvlavbY+Nvaz0NzDXvcdGjAwuq3D+/FmpUb2sXFP1231N777bQ5q9GVxz9vixI1LjlbLWLg/j+KgD80XK/KmnMz+4BxUIFC2SS26pAc88TfpFwapVP1kvQ3QbfwPzypWry9BhweU9liyeJ717dfF0GmOd/nn8t7MWO7ZHZmAelb4Tjpt2LfgbmKdNm9YIdv7991/XEbwvzp83Xx5/PJXVoL8K49aqUC60yV4n/GEGkmzWrJk0b/amdZrly5fLkKGDrWX3TJvWbaRhQ+fLlv+qhrm+Fnc9bF/lY6q5ap7r/T0F5pFpoM9pThEVmEeGgb7GvHnyeh1U0rwH+2c5Vce+b99+1ipvL2wyZ84s06fNsNrpmaFDh8iy5cHlpRwbQ1nQg47qQWrN6cyZ01K3Xl1zMcRnjhw5ZOLnkxzrw1rD/KmnnlLjW3xtHePo0aPSpGlja9nXzDPPPCNfTJnqaNK6dSv5a99fjnXhWYgugXmePPmkh/qlmP4cOWKwzJgx2ettz1R/B+VQfxeZU+NGtWTv3j3mIp8IIIAAAggggAACCCCAQLQXIDD38QgfJuj1FZjnzfuCzPgquK6sPvV3c7+VgR8Gl12wX04CVTd06bJN8niq1NZqX+2tRq4ZfwNzvdvmLXslUeIk1hHOn1OhuQq/vYXm7dt3lpat37ba65nBA3vLnDnBAcbDOD7qwPyzCTOkaLGS1n2tW7tCOncKfilgbogdO456Rj9I2nQZzFXGp7+Buf6p+7wFq619//33jFSqUNRats/kyJFbvvx6vqMHsd4emYG5Pn5U+U7oa/E2+RuY9+rZS/SghLt271a9tT+SU6dOeTuksb5rl67yyis1HG1eqVHda89pe8Nvvv5GMmZ80lqlz7dkyRJrObSZF1R979Gqzrc5Xb58SWrWqumxJ6cOPqdMmuLosa33+y97mNevV1/atXvLvFzR4zTUqVsnhJUuXaLrXNtfQuidPAXmkWlgXaiaiajAPDIM9HVuWLdBrqoyN/p5zp07137pIeZTpkwpc+c4BxHetWuXdOrcMURbvWLsmLHy/PP5rG36ubVp20aOHDlirXPPFCtaTP36obG81T74eZtt7KWI9C8N6jes7/HPWcKECeXLGV9JmjRpzF2Nz7D2MNc7bVj/oPyXeaCmzZr4vH6znf4cP268ComDB/TWIX/TZk1Fv2TwNek/c/ol1bRp03wG7NEhMHf/faufW8uWDWTnjq0eCb5U/x6TR/37jDlVe7mk6NJlesr9XF7p3LmXZM6cVZYuXaB8h3t92WzuzycCCCCAAAIIIIAAAgggENUECMx9PJGHCXp9Beb6VO7SHXrdDxtWy4QJY+SP33/Vi8b0fL4CMkz1PHYEseo/YnWt0MOHg2uhm+19fYYlMC9fvop8MuIzx+F0aP7+e+/KNlUuxJySJ08hXbt9IK/UeM1cZXweUddWu1YFx7qHcXT/B/zwTwaqXoRTHMe1LxQpWkImfP6VtWrc2E9kyuTx1rJ75tlns8uc71ZYqydNHCufjg8us1GnTiPp2XugtV3PLJg/Sz4c0Msqo5MmTTo1+OMXkj1HLkc7veBvYK7b2kv16OUd23+Sju+2sl5S6ICxyss1pPcHg0KE5bp9ZAfmUeU7oe/V2xSmwLxScGmUX37ZI+s3bJCff94tBw8++HOly1kUyF9AOnbsKE899bTjlP6UmDB3GDpkqBqAs7i5KHfv3lUvkmbL6jWr1Z/hwxKk6jv7mvSAl2tWO3uy//77b6oXaA9HCF2rZi31fenoGBzUPO5/GZhrt+VLl0sCFYSa05UrV9TAga1UmHbSWKVLdugexe6QVG/0FJhHpoF5jfozogLzyDDQ16cDc4kVS8+Krg+/dNlS2a1e+uxW39trallPyZMnlxZvtpBXqr8icdR3xz717ddX1q9fZ19lzeuAfcG8BY7vj/5FxKTJk2TO3Dly+/Ztq23GjBlF1/QvWLCQBKm65OUrlre2mTPuXvaXLl2ULl27yP79+80mogdIHTl8pHo5m9haZ848TGA+aeJkNXhpdvMQRu30WbNnqRdju+TmjZvWet1z3H4/eoP+Ts5XA6TaB9e9c+e2DB8+XFasXOF4QZUkSRKpUL6CNGjQUNKnT28c95NPPpbvF39vncM9Ex0Cc33N6zbsdNQnv6Oee+fObWXTxuDvjf57v32HLupXA42t29Tl5QoVyGYtb/7pN0mUKPi5zvp2uvrVQj9rOzMIIIAAAggggAACCCCAQHQQIDD38ZQeJugNLTBPmDCRrFm7zaqPbT99UNAdOX/+nCRLmszRy9ts8+n44TJp4jhz0e/PsATm+qCDBo+UqtVqhTi+HghUh3z6P5BTplD1yv8f4JgN9X9gV65UTHQdXPv0MI6POjDX179m7XZH7369Tt/7xQsXVLgSSx5/TJXpcBnoNnoKS2DuLmmj99eB1alTJ9T3JIlHa93GnCI7MNfniQrfCfN+PX0+bGDuOJZ6IaW/3+aAhY5takEPYFinXh05d+6ce5PH5SeeeELmzla9gb18R+w7NVC9cM1Q2b7eXT/d2Kau8+LFi8Z3MIUKsHwd/78syaKvrUWLFtKkcVP7LRjzOqTU4zXof/55mzwF5rptZBnYryOiAnN9zMgwsAfm9uvW8/p7qYN6e+Brb7Nt21bp1t136a/WrVpLo0Zv2Hez5nWP8zu370jSpEkd5/AWmOtfcPRSg4m6p6tXrxo9jVOmSBEi0Le3DWtJFr1vZtXb211axn5Mc378+HEyW720ck++7l/3NL99+5YkTZLU43UHSmBeoEBhmTI1pM0V9cuWc+qleZo0aT3+e8vCBXOkX9/uBmkJVXJu3KfTHLwXL56XsqULOtaxgAACCCCAAAIIIIAAAghEdQECcx9P6GGC3tACc326VKrEyjczv1f/AZrOx9mdm0aNHKICgYnOlX4uhTUw14ft3qOvNGjYzM8ziOhe6I0a1ZTTpx70JLXv+DCOUSEwN/7jf7yqb+tH4Dnz22lSv74KCv/fNiyBubbq1r2PGhyvuZ3N47wO0hctmqtKcwTXBf4vAnN9MY/6O+ER5P8r/Q3M33/vfalS5WVfh/K4TYeSAwcN9Kt2uf0ARhCn64qH8h3yVkJC97DWvX+Tqd7DoU06wFynehFXVIGlOf3Xgbk+77uqt/urtV81L8Hjp/4e7/1tr+TN+7y13VtgHlkG1onVTEQG5vq4EW3gKzC334d7/uDBA9KyVUtHL2l3G3NZ15Xv3LGz1xdGZjvz01tgrrePHDFKChQoYDb1/qle/sz4aobjJcvDBOb6BLocTts2bR2hvvvEn342XmbNmuVebSxXrVpVunTq4vf9mwcJlMBc34/+O6hr194+Dc371p8rVyxRvz57x/p+6fE81q/f6fjn3Z6fd0qzpq/bd2MeAQQQQAABBBBAAAEEEIjyAjEyMJ+r6msPUnW2Q5vsQa+/vaTsgflff/6m/iO+usfT6NrXH/QZJNWq1XYMFulufPjQARkyuI9s377FvcnvZR1867DTnBqoa/pTXVtoU8mSZY0g1xr80sMOule5rlM68MNeXktMPIyjOzDv37eHLFgQsvebeUkRXZLFPG7WrNlUaYJvQvQ0N7ffuH5NPlT3vmzpQvXz/4NW0BBaYF70xZwh6rq+0biFvNuxh8SNG888vOPzzOmT8la7ZpIpcxbH4KwPE5hHx++EA8O14G9grnvilitXTtXlryHP5X4u1HBMB7t6AMTRY0armtzBpR1cp/e5mCFDBunRvYdkyZJFkqjxATz1YPfWw1wfWJfk6d3rAyldurTX8+hyMp27dBJdnqV58+CBQj+fOEG++eabEPstXrTYCuF1+YkKFZ1llNw72GtEn1LlVXRdal9TzRo15d133vXYI1f3NtcDpz733HOOQUp9BY+RYWC//pXLV1qlZLwNkGlv7898RBro8h9169SVUqVKSerUT4R6el2He9iwYbJj545Q29ob6LIuwz4aJrlyqjJT3l7yqJD7jz//UGXEJsjPe3627+6Y1zXOmzdt7vE7oBvqX+r0/qC3nFUvW2d+Gxxi7937qyr70d5xLH8XMque5vql2JNPPqV6hKuxOFz3MHr0KJk3f57XwyVLlkw+Hvax7/tXe+sXaH/8+ad8//0iWblqpRUYezqwfnYRdX+ejn/5wnFPqz2us/8dtUP9O0Wrlg1DtMuQ4UmZOOlryfiksxyVvaH+e/+D3l1kxQrnANS6zaDBI6RqVfULNWWvf5XWtk1j+WXPLvvuzCOAAAIIIIAAAggggAACUV4gRgTmUfkp6ACvatWakvf5/PL005nlvrrYC6osy5EjB1X94hVy6FBw3ddHdR86NK5YqapkzfqsqpObQo0Hdl+OHj0ke3/dI8uWLfIZFjyqa47I8+pnVKhQUSlQ8EVVe/c5db/3Vd3gK7Jp0wZZru4/oic9EGiFii+rgejyGSUsjh8/KksWz1c1i8MWfkX0ddmPF9W+E/4G5vZ70PM5sudQ3+usqlb5U6KDbT0QoS6NomuM79u3Tw4eOuj1RZD7WJG9rIPSwoUKSe7cuSVt2rSq9NEF+fvE37J48WJjPrLP/zDH1wFmmdJlJGfOnEYN6+UrlsuJEyce5lDGPhg8qFWuX/ZkypRJDSqbUZ54Io3ocidHjx2RA/sPyL79+/wuG+TrQehnlz9/fuPFUmJVa/z48eOy/8B+NZbFNkcNfV/HSJQokRQuXNg4hr5e/TLi1OnTsnbtGjlw4ICvXR/5Nl17XI9loF/s6HI0p9V1Hzt+zDD+VYX6UWUKS2AelmvWf9cXUwNfFypc1AjPr129Irt2bTdqmuu/k3xNel8dvPvzYt7XcdiGAAIIIIAAAggggAACCDwqAQLzRyXPeRFAIMIEkiZPL7HjOAc6jLCDcyAEEEAgCgrcU2NqXL18KgpeGZeEAAIIIIAAAggggAACCERvAQLz6P38uHoEEFACCRM/JvETJMUCAQQQiDECt29dlZvXL8SY++VGEUAAAQQQQAABBBBAAIH/SoDA/L+S5jwIIBBpArHjxJekydNG2vE5MAIIIBDVBK5ePiP37t6OapfF9SCAAAIIIIAAAggggAAC0V6AwDzaP0JuAAEEtECCRCnVwI3JwEAAAQQCXuDWzSty68bFgL9PbhABBBBAAAEEEEAAAQQQeBQCBOaPQp1zIoBApAgkSpJK4sVPHCnH5qAIIIBAVBC4c/u63Lh2LipcCteAAAIIIIAAAggggAACCASkAIF5QD5WbgqBmCtAT/OY++y5cwQCXYCe5YH+hLk/BBBAAAEEEEAAAQQQiAoCBOZR4SlwDQggEKECuqZ5/ARJJG7chBI7TtwIPTYHQwABBP5LgXt3gyQo6KbcvnWNmuX/JTznQgABBBBAAAEEEEAAgRgrQGAeYx89N44AAggggAACCCCAAAIIIIAAAggggAACCCBgFyAwt2swjwACCCCAAAIIIIAAAggggAACCCCAAAIIIBBjBQjMY+yj58YRQAABBBBAAAEEEEAAAQQQQAABBBBAAAEE7AIE5nYN5hFAAAEEEEAAAQQQQAABBBBAAAEEEEAAAQRirACBeYx99Nw4AggggAACCCCAAAIIIIAAAggggAACCCCAgF2AwNyuwTwCCCCAAAIIIIAAAggggAACCCCAAAIIIIBAjBUgMI+xj54bRwABBBBAAAEEEEAAAQQQQAABBBBAAAEEELALEJjbNZhHAAEEEEAAAQQQQAABBBBAAAEEEEAAAQQQiLECBOYx9tFz4wgggAACCCCAAAIIIIAAAggggAACCCCAAAJ2AQJzuwbzCCCAAAIIIIAAAggggAACCCCAAAIIIIAAAjFWgMA8xj56bhwBBBBAAAEEEEAAAQQQQAABBBBAAAEEEEDALkBgbtdgHgEEEEAAAQQQQAABBBBAAAEEEEAAAQQQQCDGChCYx9hHz40jgAACCCCAAAIIIIAAAggggAACCCCAAAII2AUIzO0azCOAAAIIIIAAAggggAACCCCAAAIIIIAAAgjEWAEC8xj76LlxBBBAAAEEEEAAAQQQQAABBBBAAAEEEEAAAbsAgbldg3kEEEAAAQQQQAABBBBAAAEEEEAAAQQQQACBGCtAYB5jHz03jgACCCCAAAIIIIAAAggggAACCCCAAAIIIGAXIDC3azCPAAIIIIAAAggggAACCCCAAAIIIIAAAgggEGMFCMxj7KPnxhFAAAEEEEAAAQQQQAABBBBAAAEEEEAAAQTsAgTmdg3mEUAAAQQQQAABBBBAAAEEEEAAAQQQQAABBGKsAIF5jH303DgCCCCAAAIIIIAAAggggAACCCCAAAIIIICAXYDA3K7BPAIIIIAAAggggAACCCCAAAIIIIAAAggggECMFSAwj7GPnhtHAAEEEEAAAQQQQAABBBBAAAEEEEAAAQQQsAsQmNs1mEcAAQQQQAABBBBAAAEEEEAAAQQQQAABBBCIsQIE5jH20XPjCCCAAAIIIIAAAggggAACCCCAAAIIIIAAAnYBAnO7BvMIIIAAAggggAACCCCAAAIIIIAAAggggAACMVaAwDzGPnpuHAEEEEAAAQQQQAABBBBAAAEEEEAAAQQQQMAuQGBu12AeAQQQQAABBBBAAAEEEEAAAQQQQAABBBBAIMYKEJjH2EfPjSOAAAIIIIAAAggggAACCCCAAAIIIIAAAgjYBQjM7RrMI4AAAggggAACCCCAAAIIIIAAAggggAACCMRYAQLzGPvouXEEEEAAAQQQQAABBBBAAAEEEEAAAQQQQAABuwCBuV2DeQQQQAABBBBAAAEEEEAAAQQQQAABBBBAAIEYK0BgHmMfPTeOAAIIIIAAAggggAACCCCAAAIIIIAAAgggYBcgMLdrMI8AAggggAACCCCAAAIIIIAAAggggAACCCAQYwUIzGPso+fGEUAAAQQQQAABBBBAAAEEEEAAAQQQQAABBOwCBOZ2DeYRQAABBBBAAAEEEEAAAQQQQAABBBBAAAEEYqwAgXmMffTcOAIIIIAAAggggAACCCCAAAIIIIAAAggggIBdgMDcrsE8AggggAACCCCAAAIIIIAAAggggAACCCCAQIwVIDCPsY+eG0cAAQQQQAABBBBAAAEEEEAAAQQQQAABBBCwCxCY2zWYRwABBBBAAAEEEEAAAQQQQAABBBBAAAEEEIixAgTmMfbRc+MIIIAAAggggAACCCCAAAIIIIAAAggggAACdgECc7sG8wgggAACCCCAAAIIIIAAAggggAACCCCAAAIxVoDAPMY+em4cAQQQQAABBBBAAAEEEEAAAQQQQAABBBBAwC5AYG7XYB4BBBBAAAEEEEAAAQQQQAABBBBAAAEEEEAgxgrEuMA8duw4kiRpSkmUOJkkSJBY4saLL3HixI2xXwBuHAEEEEAAAQQQQAABBBBAAAEEEEAAAX8F7t4NkqA7t+XWrety4/oVuXb1oty7d9ff3WmHQJQXiDGBefwEiSTlY2kleYrUUf6hcIEIIIAAAggggAACCCCAAAIIIIAAAghEF4HLl87KxQtn5PatG9HlkrlOBLwKxIjAPPUTT0rKx9NZCDeuX5UbN67Krdt3RO7fl1ix4kis2LHVZ2yrDTMIIIAAAggggAACCCCAAAIIIIAAAggg8EDg/v17cv+e+t991Zs8VixJED+eJEqUVFVxSGoRXTx/Ws7++7e1zAwC0VEgoANz3as8bboskiBhYuPZXL58Xq5cuqjC8TiqFEvC6Pi8uGYEEEAAAQQQQAABBBBAAAEEEEAAAQSihEDQnZsqRA+SZCkek+TJHzeu6dbN63Lm9GF6m0eJJ8RFPIxAwAbmCdUbrvQZnzXqk99SPwc5d/a0egMWS+LFT/QwTuyDAAIIIIAAAggggAACCCCAAAIIIIAAAh4E7ty+oTqd35dUqdOpMQMTia5zfurEAbmpKjwwIRDdBAIyMNc9yzM+lcMIy69dvaR+CnJK9TJPJrEZ3DO6fT+5XgQQQAABBBBAAAEEEEAAAQQQQACBaCBwT4Xkt25ekdRPpJckSVMYofmJ43/R0zwaPDsu0SkQkIH5U5lyG2VYdFh+7uwZSZAoGfXJnc+dJQQQQAABBBBAAAEEEEAAAQQQQAABBCJUQNc5v3XjiuppntYIzXV5luNHf4/Qc3AwBCJbIOACc3OAT12G5fTJo5IwcQrC8sj+FnF8BBBAAAEEEEAAAQQQQAABBBBAAAEElIAOzW9evyTpMmQyyrMwEChfi+gmEFCBuS7F8nTm54xncPLEYYkdOz5lWKLbN5LrRQABBBBAAAEEEEAAAQQQQAABBBCI1gK6PMu9e7clQ8Ysxn0cO/IbpVmi9RONWRcfUIF5mnSZJXmK1HL58nm5cvkyA3zGrO8yd4sAAggggAACCCCAAAIIIIAAAgggEEUE9ECgyZInl+TJH5fLl87KP6ePRJEr4zIQ8C0QMIF57NhxJGu2/Mbdnjh+UOIlSOr7ztmKAAIIIIAAAggggAACCCCAAAIIIIAAApEmcOfWNcn4VFbj+If271a9zu9G2rk4MAIRJRAwgXmy5KkkbfoscuP6Vblw4ZzEjZcwoow4DgIIIIAAAggggAACCCCAAAIIIIAAAgiEUSDozk157LFUkihxUjlz6rCqCHEujEegOQL/vUDABOZmOZbz505L0N1Y/70kZ0QAAQQQQAABBBBAAAEEEEAAAQQQQAABh0DcOPfl8VTpKMviUGEhKgsETGD+VKbckiBhYjl16rjEiRM/KptzbQgggAACCCCAAAIIIIAAAggggAACCMQIgbt3b0v69E/JrZvX5fjR32PEPXOT0VsgYALzLM++oILyuHLq5DGJEzdB9H4qXD0CCCCAAAIIIIDA/9i773i/5vsP4O8MaYyaacyQlNBWVbW1RxLEnj9CCGrGLCX2KH5UYpPao7Q0YiQIESRGhlC0qFXBzyY0FK3RyPidc27v103uvcld3/08j4fc8z3nM5+fr39e99zPIUCAAAECBAgQIFABAjNn/CeWXW7FmDlzRrzx2rMVMCNTqHSBignMV1ntF9laTf3gvWifBOcOAgQIECBAgAABAgQIECBAgAABAgSKKzArCcqXWXb5bBCvvfJ0cQejdwJNEKi4wPzDDz+Idu3aN2HqihAgQIAAAQIECBAgQIAAAQIECBAgkE+B2bNnxdJLL5t1ITDPp7S220qg4gLzjz76sK1stEOAAAECBAgQIECAAAECBAgQIECAQCsFunZdOmtBYN5KSNULIiAwLwizTggQIECAAAECBAgQIECAAAECBAhUp4DAvDrXvVxnLTAv15UzbgIECBAgQIAAAQIECBAgQIAAAQJlICAwL4NFMsScgMA8R+GEAAECBAgQIECAAAECBAgQIECAQGkIdF91zeiz7d6tGsybU57L6j8y+qZWtdPaygLz1gqqX0gBgXkhtfVFgAABAgQIECBAgAABAgQIECBAYD4CaVDeu5Vhed0uHk0C82KG5gLzuqvhvNQFBOalvkIFHF/Hjh1jkUUWyXr8/PPPY9asWQXsXVcECBAgQIAAAQIECBAgQIAAAQKpwJlXPNjmEKcftkWbt9nUBgXmTZVSrhQEBOalsAolMoYdd9gxjjlmUDaakSNHxKVDLy2RkRkGAQIECBAgQIAAAQIECBAgQKA6BNKtWPb79fm5yb756t9y58096d7zJ7kqN1xyXNRu0ZK7WKATgXmBoHXTJgIC8zZhnH8jXbp8L/r07h1rrbVWrLLKKrHodxeNj/7xj5gyZUo88+xfY9KkSfHZZ5/Nv6E8lqgbmI8Zc18MOXdIHnvTNAECBAgQIECAAAECBAgQIECAwNwCcwfmrXkyvO6T6gLzuaV9JtCwgMC8YZc2vTpgzwFx0IEHRbv27Rttd3ay/cnFl1wcd4+6u9Ey+b4hMM+3sPYJECBAgAABAgQIECBAgAABAvMWEJjP28ddAvkWEJjnUXjhhReOiy68KH7wgx/O0Usajs+cOTM6LrDAHNfTD+mT5qf95tSi7B8uMK+3HC4QIECAAAECBAgQIECAAAECBAoqIDAvKLfOCNQTEJjXI2m7C1decWX86Eer5xp85pm/xmWXXxavvfZadm2JJZaITTbeJPbov0csu9xyuXKPP/54nHjSCbnPhToRmBdKWj8ECBAgQIAAAQIECBAgQIBAtQs0tl2KwLzavxnmX2wBgXmeVuCna/40Lr10aE3rs2fHBRdeEPfce0+DvbVPtmpJn0Rfa62f5crvvsfuMXXq1AbL5+uiwDxfstolQIAAAQIECBAgQIAAAQIECMwpIDCf08MnAqUiIDDP00qMvGNkLNWlS9b6rbcOjyuuvGK+PY24Y0SkLwdNjxtu+H3c+Icbs/O6/yyQbOOyzdbbZC8O7ZK0P23atOzFoWPuHxMzZsyoW7TB886dO8f2222f1e/U6TsxceKEmJD8l9ZtamCebjWTtrHyyivHQgstHB9+ODWefe7ZmDBhQoN9ukiAAAECBAgQIECAAAECBAgQIDCngMB8Tg+fCJSKgMA8Dyvxi5//Ii5MnhhPjy+/+CK23nbrJvWy9157x4HJy0HT46mnnoxjjzt2jnqHHXpY7Lprv+jQocMc19MPM5PA+6abb4obbryh3r3aCwcecGDsmbyAtF795An4v/71rzHu4XFx/HE1W8GMGXNfDDl3SG3V3M/jjzs+C+wbeoHpf77+Ok4+5eR4+i9P58o7IUCAAAECBAgQIECAAAECBAgQqC8gMK9v4gqBUhAQmOdhFQ7Y/4DYZ59fZi2PHftgnP3bs5vUS/r0+F4D9opXprwSzz//fPzrX//K1dt3331jv333z31u7GTo74bGiBF31LudPhF+7LHH1bte98K///3vWGSRRbJLDQXmBw88OAvc69aZ+zx9menhRxwWL7/88ty3fCZAgAABAgQIECBAgAABAgQIEPivgMDcV4FAaQoIzPOwLkMGD4n1198ga/moo47MtitpTTdbb7V1nHjiSbkmXn11SowbNy4mPz45Nt5o49h8883j+99fueZ+8rT4SaecFJMnT86VX3311eOKy5ItYdq1y6699dZbcf8DY2LSpEmxQTLOLbfc8tv6/601d2C+5RZbxsknn5LrY9Jjk2L0faPj9ddfj969e8du/XbLbScz45tvYsDeAwq+B3tuwk4IECBAgAABAgQIECBAgAABAiUuIDAv8QUyvKoVEJjnYen/dNOfYoVu3bKWt9t+2zmeFG9ud+me4/ffd3/UboGShtynnHpyvWaGJi8YXTN50Wh6pIH1Zn03y5UZdfeoWGyxxbPPr7/+Wux/QP0n1a+68ur44Q9/mKtTNzDv1KlTPHj/g7kxXH/9dfHHm/6YK5uepGWGDxue27f9T8P+FNdcc/UcZXwgQIAAAQIECBAgQIAAAQIECBCoERCY+yYQKE0BgXke1iUNuBdcaKGs5V69N2lVD3vuuWccPPCQrI0PPvgg+u+xe4PttW/fPu66865cMH7mmWfEw488HN2S4P7mJMBPj3SP8e122C6mT59er42OHTvGvfeMjgUXXDC7Vzcw33333eOwQw/Prv/97y/HwYccXK9+emGDDTaIwefU7Hv+4osvxGGHH9ZgORcJECBAgAABAgQIECBAgAABAtUuIDCv9m+A+ZeqgMA8DytT94nuPpv2jlmzZrW4l8svuzx+/OM1svrDbx0eV16ZbK3SyHHaqacl27P0ze6OHz8+fnP6abH33smLRA+oeZFouq/4IYc2HHanleo+pV43ML/sd5fFGmv8JGv3L8kLPe+6+67sfO5/OnboGKeffkZ2Od0Pfdvttpm7iM8ECBAgQIAAAQIECBAgQIAAAQKJgMDc14BAaQoIzPOwLtdde1307Llq1vLu/Xdr1V7ew/40LJZffoWsrUGDjomnk8C6saPuiz1feunFOPSwQ+P4446PbbfdLqsyatTdceFFFzZWPQ495NDo33+P7H7dwLzuGBqtPPeNZC/1Xn16zX3VZwIECBAgQIAAAQIECBAgQIAAgURAYO5rQKA0BQTmeViX039zemy6ac0e4hdceH7cc889Le4l3WZliSWWzOpvudUW8XWyrUpjR8+ePeO6a6/Pbr/99lux9z57x2/P/m1slLwYND0uvfSSGHnnyOy8oX+26LtFnHLKqdmtuoF53TE0VK/BawLzBllcJECAAAECBAgQIECAAAECBAikAgJz3wMCpSkgMM/DuuyRPKV9SPK0dnq8/PJLyTYoNXuQz6+rxRdfPG4dfmt8+eWXMXr06Lguebnmn24eFiusUPOE+XHHHRtPPvVko83stONOcfTRx2T3a/cQP3bQsbH99jtk1+65Z1RccOEFjdY/4vAjol+/3bL7dQPzuk+YDx58Tvzt+b812kbtjXQbmqlTp9Z+9JMAAQIECBAgQIAAAQIECBAgQKCOgMC8DoZTAiUkIDDPw2KsuOKKcdMfb65pOXnSuv+e/SN9Yef8jsMOPSx2371/VuyOO26P3132u/jd0N/FT36y5hzXGmvnjGT/8D59Ns1uP5K88POM5MWfA/YcEAMH1uxbPmXKlDho4IGNVY+6+6XXDczr7mH+x5v+ENdfX/MUe6MNuUGAAAECBAgQIECAAAECBAgQIDBPAYH5PHncJFA0AYF5nugvufiSWGutn2Wtv/feu7HngD3n2dPSSy8dw5KnyTsusEBWbuDAg+KVKa/ErrvuGr864sjs2rRp/4h+u/Vr8CWiHTt2jLvuvDu++93vZmVPOeXkmPTYpFhmmWWSp9Zvy65988302HGnHeOLL77IPtf9p3PnzjHqrlHxneRnetQNzHdLnjo/PHn6PD3eeeft2GvvvbLzuf/p1q1bDDlnSDz3t+fi9iTwf+ONN+Yu4jMBAgQIECBAgAABAgQIECBAgEAiIDD3NSBQmgIC8zytyxJLLBF3jrgz2rVvn/WQBs0HJSH4V199Va/H7t27x9BLh8Ziiy2e3fvg/fezp9LTDwskAfoD9z8YHTp0yO799S9/iaMHHZ2d1/3n2muujVVXXS27NH369Oi7xea52yOTcSy11FLZ53fffTcG7FU/vP/jjX+MlZJx1B51A/NOnTrFg8kYaudy332j49zzzq0tmvs54o4R0aXL97LP6V7p6Z7pDgIECBAgQIAAAQIECBAgQIAAgfoCAvP6Jq4QKAUBgXkeV6HunuBpN7OTfb3TPcjT/6ZN+zhW/v73Y4011oi1frpWRLt22UhmzpgRh//q8GTv85dzI9tkk03irDPPypV59513YvzECfHkn/8c62+wQfTapFcsu+yyNeWTLWCO+vVR8exzz+bq9+jRI264/oZc4P3hh1PjkUceiccffzzWWXfd2DTZxiVX/7+16gbm6aW0zOnJli+1Rzq+8eMfjSf+/ET06N4jDtj/gFghecI8PdJ5brv9tg0+yV5b308CBAgQIECAAAECBAgQIECAQDULCMyrefXNvZQFBOZ5Xp0dd9gxjv710bmwel7dff75ZzHw4IEN7nfeb9d+ccQRv5pX9exe+lLO+x+4v1653r37xJlnnFnvet0Lb7/9Vqy44krZpbkD8/TiwIMGxoABDW/HUredIUMGx5j7x9S95JwAAQIECBAgQIAAAQIECBAgQKCOQFMD8xsuOa5Oread7vfr83MV0nbenPJc7nMhT7p2XTrr7rVXni5kt/oi0CIBgXmL2JpXabnllosLzr8gllt2uQaD8xnffBMvvvRiDDp2UHyTnDd27LP3PrHPPvsk27R0qlck3Ybl2muvidtur9mvvF6B5MLuu+8eAw8cmNsnvbbMzJkzs6fFR955Z6Qv+EyPhgLz9Hoa/m+//Q65LWLSa7VHGvhffPHF8XDywlEHAQIECBAgQIAAAQIECBAgQIBA4wJNDcwbb6F5dwTmzfNSunoFBOYFXvuePXvGeuuuF127do0pU6bE5Mcnx8cff9zkUbRP9kTfJNmCZdWkncUXXzw++eSTmPLqlJgwYUKT2kjrb7rppvGD1X4Q6fnESRPjmWeeaVLd2kLpnuabb755rLLyKtke6x9M/SDbQqa57dS25ycBAgQIECBAgAABAgQIECBAoNoEGgvMU4f9jr4guvf8SZuRPDr6pngk+a9YhyfMiyWv35YICMxboqYOAQIECBAgQIAAAQIECBAgQIAAgVYIzCswT5vts+3e0Tv5rzXHm6/+LduGpZhheTp+gXlrVlHdQgsIzAstrj8CBAgQIECAAAECBAgQIECAAIGqF5hfYF5JQALzSlrNyp+LwLzy19gMCRAgQIAAAQIECBAgQIAAAQIESkxAYF5iC2I4BP4rIDD3VSBAgAABAgQIECBAgAABAgQIECBQYAGBeYHBdUegiQIC8yZCKUaAAAECBAgQIECAAAECBAgQIECgrQTqBubpXuNtcbw55bmivtyzsTnYkqUxGddLUUBgXoqrYkwECBAgQIAAAQIECBAgQIAAAQIVLbDf0RdE954/adM5psH7DRcf26ZttkVjAvO2UNRGoQQE5oWS1g8BAgQIECBAgAABAgQIECBAgACB/wp0X3XN2O/X57eph8C8TTk1VqUCAvMqXXjTJkCAAAECBAgQIECAAAECBAgQKL5An233jjQ8b4vDlixtoaiNahcQmFf7N8D8CRAgQIAAAQIECBAgQIAAAQIECORRwJYsecTVdJsLCMzbnFSDBAgQIECAAAECBAgQIECAAAECBAjUCgjMayX8LAcBgXk5rJIxEiBAgAABAgQIECBAgAABAgQIEChTAYF5mS5clQ5bYF6lC2/aBAgQIECAAAECBAgQIECAAAECBAohIDAvhLI+2kpAYN5WktohQIAAAQIECBAgQIAAAQIECBAgQKCegMC8HokLJSwgMC/hxTE0AgQIECBAgAABAgQIECBAgAABAuUuIDAv9xWsrvELzKtrvc2WAAECBAgQIECAAAECBAgQIECAQEEFBOYF5dZZKwUE5q0EVJ0AAQIECBAgQIAAAQIECBAgQIAAgcYFBOaN27hTegIC89JbEyMiQIAAAQIECBAgQIAAAQIECBAgUDECAvOKWcqqmIjAvCqW2SQJECBAgAABAgQIECBAgAABAgQIFEdAYF4cd722TEBg3jI3tQgQIECAAAECBAgQIECAAAECBAgQaIKAwLwJSIqUjIDAvGSWwkAIECBAgAABAgQIECBAgAABAgQIVJ6AwLzy1rSSZyQwr+TVNTcCBAgQIECAAAECBAgQIECAAAECRRYQmBd5AXTfLAGBebO4FCZAgAABAgQIECBAgAABAgQIECBAoDkCAvPmaClbbAGBebFXQP8ECBAgQIAAAQIECBAgQIAAAQIEKlhAYF7Bi1uBUxOYV+CimhIBAgQIECBAgAABAgQIECBAgACBUhEQmJfKShhHUwQqLjBvyqSVIUCAAAECBAgQIECAAAECBAgQIECgsAKvvfJ0YTvUG4EWCAjMW4CmCgECBAgQIECAAAECBAgQIECAAAECzRMQmDfPS+niCFRcYP7mG1OKI6lXAgQIECBAgAABAgQIECBAgAABAgTqCXTvsWp2TWBej8aFEhQQmJfgohgSAQIECBAgQIAAAQIECBAgQIAAgUoREJhXykpWxzwE5tWxzmZJgAABAgQIECBAgAABAgQIECBAoCgCAvOisOu0hQIC8xbCqUaAAAECBAgQIECAAAECBAgQIECAwPwFBObzN1KidAQE5qWzFkZCgAABAgQIECBAgAABAgQIECBAoOIEBOYVt6QVPSGBeUUvr8kRIECAAAECBAgQIECAAAECBAgQKK6AwLy4/npvnoDAvHleShMgQIAAAQIECBAgQIAAAQIECBAg0AwBgXkzsBQtuoDAvOhLYAAECBAgQIAAAQIECBAgQIAAAQIEKldAYF65a1uJMxOYV+KqmhMBAgQIECBAgAABAgQIECBAgACBEhEQmJfIQhhGkwQE5k1iUogAAQIECBAgQIAAAQIECBAgQIAAgZYICMxboqZOsQQE5sWS1y8BAgQIECBAgAABAgQIECBAgACBKhAQmFfBIlfQFAXmFbSYpkKAAAECBAgQIECAAAECBAgQIECg1AQE5qW2IsYzLwGB+bx03CNAgAABAgQIECBAgAABAgQIECBAoFUCAvNW8alcYAGBeYHBdUeAAAECBAgQIECAAAECBAgQIECgmgQE5tW02uU/V4F5+a+hGRAgQIAAAQIECBAgQIAAAQIECBAoWQGBeckujYE1ICAwbwDFJQIECBAgQIAAAQIECBAgQIAAAQIE2kZAYN42jlopjIDAvDDOeiFAgAABAgQIECBAgAABAgQIECBQlQIC86pc9rKdtMC8bJfOwAkQIECAAAECBAgQIECAAAECBAiUvoDAvPTXyAi/FRCYf2vhjAABAgQIECBAgAABAgQIECBAgACBNhYQmLcxqObyKiAwzyuvxgkQIECAAAECBAgQIECAAAECBAhUt4DAvLrXv9xmLzAvtxUzXgIECBAgQIAAAQIECBAgQIAAAQJlJCAwL6PFMtQQmPsSECBAgAABAgQIECBAgAABAgQIECCQNwGBed5oNZwHAYF5HlA1SYAAAQIECBAgQIAAAQIECBAgQIBAjYDA3DehnAQE5uW0WsZKgAABAgQIECBAgAABAgQIECBAoMwEBOZltmBVPlyBeZV/AUyfAAECBAgQIECAAAECBAgQIECAQD4FBOb51NV2WwsIzNtaVHsECBAgQIAAAQIECBAgQIAAAQIECOQEBOY5CidlICAwL4NFMkQCBAgQIECAAAECBAgQIECAAAEC5SogMC/XlavOcQvMq3PdzZoAAQIECBAgQIAAAQIECBAgQIBAQQQE5gVh1kkbCQjM2whSMwQIECBAgAABAgQIECBAgAABAgQI1BcQmNc3caV0BQTmpbs2RkaAAAECBAgQIECAAAECBAgQIECg7AUE5mW/hFU1AYF5VS23yRIgQIAAAQIECBAgQIAAAQIECBAorIDAvLDeemudgMC8dX5qEyBAgAABAgQIECBAgAABAgQIECAwDwGB+Txw3Co5AYF5yS2JAREgQIAAAQIECBAgQIAAAQIECBCoHAGBeeWsZTXMRGBeDatsjgQIECBAgAABAgQIECBAgAABAgSKJCAwLxK8blskIDBvEZtKBAgQIECAAAECBAgQIECAAAECBAg0RUBg3hQlZUpFQGBeKithHAQIECBAgAABAgQIECBAgAABAgQqUEBgXoGLWsFTEphX8OKaGgECBAgQIECAAAECBAgQIECAAIFiCwjMi70C+m+OgMC8OVrKEiBAgAABAgQIECBAgAABAgQIECDQLAGBebO4FC6ygMC8yAugewIECBAgQIAAAQIECBAgQIAAAQKVLCAwr+TVrby5Ccwrb03NiAABAgQIECBAgAABAgQIECBAgEDJCAjMS2YpDKQJAgLzJiApkj+Bk046Nf5n512zDk46+fgYN+7B/HWm5QYFxowZF12W6hJfffVVbN63V0yfPr3Bci4SIECAAAECBAgQIECAAAECBFoiIDBviZo6xRIQmBdLXr+x5JJLxf1JWNuuffv44ot/R+/eG1IpgsAhhxweBxwwMOv5nnvuiv/939OLMApdEiBAgAABAgQIECBAgAABApUqIDCv1JWtzHkJzCtzXctiVldddV38/OdrZ2O98MJzY/jwYWUx7kobZPvkFxbjx0+Ozp0XjNmzZsU22/aNadOmlcw0O3bsGCNHjMrGlw6q/x67xieffFwy4zMQAgQIECBAgAABAgQIECBAYN4CAvN5+7hbWgIC89Jaj6oZTbdu3WLkyHuz+Xq6vPjLfuihR8T++x+UDeSJxyfHr448tPiD+u8I6j4B/89PPokttuxTMmMzEAIECBAgQIAAAQIECBAgQGD+AgLz+RspUToCAvPSWYuqGsn5510Uvftsls155MjbY/Dgs6tq/qU22c6dO8fECU9EtGuXPWW+0cbrlsxe5hPGPx4LLrRQRnbeeYPj9tuHlxqf8RAgQIAAAQIECBAgQIAAAQLzEBCYzwPHrZITEJiX3JJU/oDSLUAee+ypSLfaSI9tt+kbH/3jo8qfeInP8Oabb43VVvtBNsprrrkyrr32qqKPeLfd+sdxx52UjeOrL7+MTXqtX/QxGQABAgQIECBAgAABAgQIECDQPAGBefO8lC6ugMC8uP5V2fvOO+8SJ5/8m2zuU6d+ENtvv1VVOpTapHfYYac47bQzs2H946OPsr3Miz3GsWMfjcUXXyIbxvXXXR1XXX1FsYekfwIECBAgQIAAAQIECBAgQKCZAgLzZoIpXlQBgXme+BdeeOG4+abh0b5Dhyb1cN21V8c9997dpLLlXuiyy66KddeteVL4gfvvi1NPq3mCuLF5/exnv0gC9tOy29On/ycOOeTA+PzzzxssftZZ58QPf7h6du+JJybHBRec22C5cr949lmDY+VVekbMnh2HHHpQfPbZp/WmlO793atXzX7f6UtVn376qXpl6l5YKNn2ZHyy/Ul2JO2uv8EvYsaMGXWLFPR88823SLbqOT/rc8Y338SGG60Ts5KXkubzSLemOXbQCcl2QZvGwgsvUvNXEInFN0n/n376aUyYOD7++Iffx/sfvJ/PYWibAAECBAgQIECAAAECBAhUlIDAvKKWs+InIzDP0xJ36dIlxox5qMmt33rrsIoNd+dGeOihCbHoootll3/zm5MTp9FzF5njc7qFy5gx42LJJZfKrr/26pTYY89+c5RJP+y11z5x1FGDaq4nIeeBB+0bzz33bL1ylXBh3Ljxsdhii2dT6ddvp3jzzTfqTevGG26O1X+8Rnb9oovOj1tuublembkvPProY1lQnF4/4YRB8fDD4+YuUrDPo+6+L5Zdbvmsv0Lsc7/iiivFrcNHRMcFFpjnHB8a92CceNJx8yzjJgECBAgQIECAAAECBAgQIPCtgMD8WwtnpS8gMM/TGqVPmA8bdnujrbdPXq64zLLL5e63dWDes+eqccYZZ+Xab87Jo48+krf9q9Pw+89/fiY3nN69N4gvvvgi97mxk27duiUve7wrOnSo2ff897+/Nq688rJc8R49vp+Fne2S9tNj7vu5ghVykq/AvG7IPvreUXHGmTVP9heaLf2rgquvvj7rdnbyVHnvPhvGl8ke5vk87hs9Nr7XtWtNF8kvXF7/v9fjvffejYWTJ++XS4L7ZdP/X5P/b9NfIqS/THAQIECAAAECBAgQIECAAAECTRMQmDfNSanSEBCYF2kdLr/86lhnnfWy3tNtL3b5n+3bdJuHuttZNHeKL77wfOy7317Nrdak8mnweHfy5HB6pEHoOuuu1aR6aaEdd9w5Tj31jJrySaCZjvHFF1+INIS/P3maf4kll8zuvfLK35OnzXevKVeh/+YrMB8y5ILYbLO+mdpfnn4y2+6lGIS33HJHrJJuOZMchQiou36va4y+b2zNVJPv1n777x0vJP8f1D0WXXTROOKIo7Kn+YcNm//T+nXrOidAgAABAgQIECBAgAABAtUsIDCv5tUvv7kLzIuwZgceeHAcfPBhuZ6PPvqImDRpYu5zW5z06bNZnHfeRS1q6vnnn4v999+nRXXnVyn9JUH6y4L0SPcj33DDdeZXZY77F100NDbeuFd27csvv4i+ffvEb88enDyBvFl27euvvoqttt6sSU+tz9FwmX3IV2B+4gmnxC677pZpvPbaq7HHHrsWXCb9a4Hbbruzpt8kvN56m81j2rRpeR3HhhtuHJdcUvMXC+l3aONNan6ZlddONU6AAAECBAgQIECAAAECBKpEEnAqCQAAEm1JREFUQGBeJQtdIdMUmBd4IbPAOHnpZbq1Q3r84cbr47LLh+ZlFIssskiL2v3666/z9rLH7bbbIU4/vWarmH//61/RZ9ONmjXGuZ8m//jjabHUUl1q2kjC1YMG7hfPPvvtli/Nanw+hX/xi7WjS5fvzadU/dszZ86Mhx4a26YvrMxXYD5w4KFx0EGHZJOYOvWD2H77repPKM9Xrr3mhvjpWj/LeinUU+5zhPRJz4cffnA8+eQTeZ6p5gkQIECAAAECBAgQIECAQHUICMyrY50rZZYC8wKuZPoi0HtG3Z97qeBzSbCbvpiymo5evfokLze9JJtyS5/kTV/OeEeyn3ntfuW1fvn85UPax8MPTYzvJttytOTo27dXfPrppy2p2mCdfAXmv05emjogeXlqerz99luxyy47NNh/vi5mW6OMfjD3C6XGXmiaj/4ff/wv0bFjzR75aftvJHuYT578WIx76MF627Pko39tEiBAgAABAgQIECBAgACBShUQmFfqylbmvATmBVrX9Mno0fc+EF2SvZLT45+ffBLbbNs3b09yF2haze4mfRlp7ctQZ86cEeut9/Nmt5FW2GWXfnHiiafm6r711pux66475j7n46QaAvOzzjonttpq24wvn1vzNLY+F154aWyySe/s9pQpf48BAwq3F/0e/QfEMYOOb3Bo6X776UtAL7zw3Hj66acaLOMiAQIECBAgQIAAAQIECBAg0LCAwLxhF1dLU0BgXqB1uSzZhmXdddfPesvHSz7nnkanTt+JNddcc+7LTfr83rvvtukLSOt2utBCC8X48Y/nLq2bvPRzVhJGNvc499wLY9NNN89V++rLL2OLLftEup1Mvo5f/nK/6NZtpWY3P2vWzGQ/+cFt+suRfD1hfsUV18Taa6+bzXH8+Efi2GN/3ez5trRCuoVQ+kuJ2r8cOCj564t8ba/T2BjXX2+DLDTvvlL33FPuc5cdMuTsGDHi9rkv+0yAAAECBAgQIECAAAECBAg0IiAwbwTG5ZIUEJgXYFkOOOCgOOSQI3I9HXPMkTFx4vjc53ycbL75FjF48PktavrFF56Pfffbq0V1m1Jp8mNPxQKdOmVFByZ7jj/zzF+bUi1Xpu4+6LmLyclLL70Qv/zlgLqXKva8KYH57cmLM7snL9BMj4suOj9uueXm+XqMGTMut0/70KEXx0033TjfOm1V4LTTzogddtg5a+7999+LHXfcpq2abnY7nZLvZ/oLrvT/ozREX2LJJXNtzPjmm9hwo3Va9IueXCNOCBAgQIAAAQIECBAgQIBAFQkIzKtosStgqgLzPC/i2muvE1dcfk3uadV877NdO51SDsyHDbstevZcLRvqsGE3xcUXX1A77Pn+XH75FZKne++ODh1q9poe/+jD2RYetU8lX3/d1XHV1VfMt51yL3Df6LHxva412/sceuiBDW4TMnbso7H44ktkU21qYP7Uk8/mvqvbbtM3PvrHRwWhSvcOnzjxz7k9xI8//ph45JGHCtJ3UzrZY4+94phjjssV3WefPePll1/MfXZCgAABAgQIECBAgAABAgQINC4gMG/cxp3SExCY53FN0pd8jrp7TO5p6kK+5LNbt25x1JHHtGh2j02eFHfeOaJFdZtS6cgjj4699943K/r3v7+cnPdvSrVI94G/776xsdRSXbLytS+lTNtK28yO2bOzF6k+91wS/Fbwccstd8Qqq/TMZnjRhefFLcP/NMdsl1hiiXjwgUdy4XdTAvOf/nStuPbaG7N2WvpC1jkG0YwPRxx+ZPxy3wOyGun+/un2OqV2PPDAw7Hkkktlwzr99FOS7+K9pTZE4yFAgAABAgQIECBAgAABAiUpIDAvyWUxqEYEBOaNwLT2chru3nvPA7mngKv1JZ8NOXZNXnw6Ogm+0yN98ecGG6zdpO0t6r4QMt0WI31p6j//+c+snRt+f1P8eI2fZOdp2LvlVpvGl8m+5pV6DB16Ray//obZ9Gp/cVB3rr8bemWst/4GuUtNCczPP++i6N1ns6zOhAmPxqBBR+Xq5/tk4oQnovOCC2bdpPu933778Hx3OUf73bv3iD7J3NMtaNJ3DMx9pL+ASLerqf3Lhv2SLYteSLYuchAgQIAAAQIECBAgQIAAAQLzFxCYz99IidIREJjnaS0OOeTwOOCAgbnWx469Pz75+JPc57lPxtw/Ol588YW5L1fs5+HDR8TKK6+Sze/88wfHbbfNOyDdcced49RTz8h5nHDCoHj44XG5z507d46xDz6aC11feeXvsddeu+fuV9pJ+sLT9MWntceLLz6f/VVA+rLXnXbaOVZd9Qe1t7KfTQnMH3vsyUjrp0e/fjvFm2++kZ3n+58999wrjj66ZruT9OWtm/SqeTluvvut2/7OO+0SJ5/ym+wXOE8/9WRMfvyx7P/H9K8Ztui7ZfJLnY1iweSFtelR6Kfv647TOQECBAgQIECAAAECBAgQKEcBgXk5rlr1jllgnqe1P+GEk2PXXZse2N5667C44IJz8zSa0mu2bxJCnnPOednA0mA2DWgbO9LtZUbcMSpq9ykfN/aBOOnk4+sVX2utn8U1V/8+tw3JjTdeH5dfPrReuUq5UPfFn3PPafasWTFt2rTcXzjMLzDv1atP8v27JGum0C/crDuPYu1BXxuYz+3Y0OeTk+/e2OQ76CBAgAABAgQIECBAgAABAgSaJiAwb5qTUqUhIDDP0zoMGnR89O8/oMmtN/fll01uuIQL1n0p5YABu8WUKa80ONpRd98Xyy63fHbv44+nxTbJyyhnJYFwQ8cc7sl+5jvtvF289967DRUt+2vLLLNs3Hjjzbk93Wsn9PXXX8WJJx6X/IXDQbHGGmtml+e3zcmIEaNixRVXysrO/fR+bbv5+LnlllvH2WcPyZpOt9nZcKN1Gl3bfPRf2+Zqq/0gfvvbc2PFbivmfjFTe6/259QP3o8h554Tjz02sfaSnwQIECBAgAABAgQIECBAgEATBATmTUBSpGQEBOYlsxTVN5C6TzVX+hYq+VrddK/8H/1o9Vh33fWiXbv0paj3RvqEeHOOtddeJ6644tqsyltvvZn8ZcSOzaneqrL33vtALL30MlkbI0feHoMHn92q9tqicvry0/SFqssvv0LMTPYzf/3/Xs+2Z0n3incQIECAAAECBAgQIECAAAECzRcQmDffTI3iCQjMi2ev50TgtltHRo/vr5xZ7LPPHvHyyy9xKbDAnSPviRWSJ6vTY889+8Wrr04pyAjqBvXpFjK9+2xY0S9qLQiqTggQIECAAAECBAgQIECAQAkKCMxLcFEMqVEBgXmjNG4UQmC5ZKuVbbbZLuvqgQfui3feeacQ3eqjjkC/fv1jscUWy7auGTNmdJ07+T1N+01f5poekyaOj6uuviK/HWqdAAECBAgQIECAAAECBAgQKIqAwLwo7DptoYDAvIVwqhEgQIAAAQIECBAgQIAAAQIECBAgMH8Bgfn8jZQoHQGBeemshZEQIECAAAECBAgQIECAAAECBAgQqDgBgXnFLWlFT0hgXtHLa3IECBAgQIAAAQIECBAgQIAAAQIEiisgMC+uv96bJyAwb56X0gQIECBAgAABAgQIECBAgAABAgQINENAYN4MLEWLLiAwL/oSGAABAgQIECBAgAABAgQIECBAgACByhUQmFfu2lbizATmlbiq5kSAAAECBAgQIECAAAECBAgQIECgRAQE5iWyEIbRJAGBeZOYFCJAgAABAgQIECBAgAABAgQIECBAoCUCAvOWqKlTLAGBebHk9UuAAAECBAgQIECAAAECBAgQIECgCgQE5lWwyBU0RYF5BS2mqRAgQIAAAQIECBAgQIAAAQIECBAoNQGBeamtiPHMS0BgPi8d9wgQIECAAAECBAgQIECAAAECBAgQaJWAwLxVfCoXWEBgXmBw3REgQIAAAQIECBAgQIAAAQIECBCoJgGBeTWtdvnPVWBe/mtoBgQIECBAgAABAgQIECBAgAABAgRKVkBgXrJLY2ANCAjMG0BxiQABAgQIECBAgAABAgQIECBAgACBthEQmLeNo1YKIyAwL4yzXggQIECAAAECBAgQIECAAAECBAhUpYDAvCqXvWwnLTAv26UzcAIECBAgQIAAAQIECBAgQIAAAQKlLyAwL/01MsJvBQTm31o4I0CAAAECBAgQIECAAAECBAgQIECgjQUE5m0Mqrm8CgjM88qrcQIECBAgQIAAAQIECBAgQIAAAQLVLSAwr+71L7fZC8zLbcWMlwABAgQIECBAgAABAgQIECBAgEAZCQjMy2ixDDUE5r4EBAgQIECAAAECBAgQIECAAAECBAjkTUBgnjdaDedBQGCeB1RNEiBAgAABAgQIECBAgAABAgQIECBQIyAw900oJwGBeTmtlrESIECAAAECBAgQIECAAAECBAgQKDMBgXmZLViVD1dgXuVfANMnQIAAAQIECBAgQIAAAQIECBAgkE8BgXk+dbXd1gIC87YW1R4BAgQIECBAgAABAgQIECBAgAABAjkBgXmOwkkZCAjMy2CRDJEAAQIECBAgQIAAAQIECBAgQIBAuQoIzMt15apz3ALz6lx3syZAgAABAgQIECBAgAABAgQIECBQEAGBeUGYddJGAgLzNoLUDAECBAgQIECAAAECBAgQIECAAAEC9QUE5vVNXCldAYF56a6NkREgQIAAAQIECBAgQIAAAQIECBAoewGBedkvYVVNQGBeVcttsgQIECBAgAABAgQIECBAgAABAgQKKyAwL6y33lonIDBvnZ/aBAgQIECAAAECBAgQIECAAAECBAjMQ0BgPg8ct0pOQGBecktiQAQIECBAgAABAgQIECBAgAABAgQqR0BgXjlrWQ0zEZhXwyqbIwECBAgQIECAAAECBAgQIECAAIEiCQjMiwSv2xYJCMxbxKYSAQIECBAgQIAAAQIECBAgQIAAAQJNERCYN0VJmVIREJiXykoYBwECBAgQIECAAAECBAgQIECAAIEKFBCYV+CiVvCUBOYVvLimRoAAAQIECBAgQIAAAQIECBAgQKDYAgLzYq+A/psjIDBvjpayBAgQIECAAAECBAgQIECAAAECBAg0S0Bg3iwuhYssIDAv8gLongABAgQIECBAgAABAgQIECBAgEAlCwjMK3l1K29uAvPKW1MzIkCAAAECBAgQIECAAAECBAgQIFAyAgLzklkKA2mCgMC8CUiKECBAgAABAgQIECBAgAABAgQIECDQMgGBecvc1CqOgMC8OO56JUCAAAECBAgQIECAAAECBAgQIFAVAgLzqljmiplkBQbmrySL065iFshECBAgQIAAAQIECBAgQIAAAQIECJSvwOzo3mO1bPivvfJ0+U7DyKtGQGBeNUttogQIECBAgAABAgQIECBAgAABAgQKLSAwL7S4/lonUDGBeY9VfhodOnSMt9+aErNmtQ5FbQIECBAgQIAAAQIECBAgQIAAAQIEWi/Qvn3EiiutGjNnzog3Xnu29Q1qgUCeBSomMO+20o/iO50XivfefSO++eabPLNpngABAgQIECBAgAABAgQIECBAgACB+QkssMACsfwKPeI/X38Z77z10vyKu0+g6AIVE5h3XaZ7LLpYl/jk46nx+eefFx3WAAgQIECAAAECBAgQIECAAAECBAhUu8Ciiy4aSy61THz+2bT4aOqb1c5h/mUgUDGB+XcXXSqWXrZHfPXlv+PDqe8m7/1M/t7DQYAAAQIECBAgQIAAAQIECBAgQIBAcQRmz4qll1khFlxokfjwgzfiX59/XJxx6JVAMwQqJjBv375DfL/nWtnU3337tZgx00bmzfgeKEqAAAECBAgQIECAAAECBAgQIECgTQU6dmgXK6zYM2vz/159Jnnv4Mw2bV9jBPIhUDGBeYpTuy3L559/Ep9M+8hT5vn4xmiTAAECBAgQIECAAAECBAgQIECAwPwEkqfLl+zSNRZddEnbsczPyv2SEqiowLzTdxaMFbuvngG//94bMX369OS8XUmBGwwBAgQIECBAgAABAgQIECBAgACByhaYHZ06dYrllu+RTfPtN1+M6f/5qrKnbHYVI1BRgXm6Kl2+t0IsvuQy8Z/kf8L3330j2cq8Q3JVaF4x31gTIUCAAAECBAgQIECAAAECBAgQKGGB2TE72XpluRV6xHeSh1s//WRqTPtH8r5BB4EyEai4wDx177bSj+I7nReKL/79WXz00XvRrp3QvEy+j4ZJgAABAgQIECBAgAABAgQIECBQtgJJWD57ZnTtunwsvMhi8Z+vv4x33nqpbGdj4NUp8P8AAAD//9sfL1wAAEAASURBVOzdB3QU1R7H8T8hJJTQpDcRFJGm9N6bSJMOglQLClgQQcBCFQVUEAQLYgEERBBEAaUXkV4UpAjiQwRE6S0EkvDuHZjJ7GZ3sxs2SzZ+55znTrlz5+5nNrxzfnv3P6kKFix4XVLYEhaeTvIVKCqpU4fKpYvn5J8TRyVVSGr1LlOlsHfK20EAAQQQQAABBBBAAAEEEEAAAQQQQCA5CFyX67ExkjNXPskQkVliYqLl6JH9cjUqMjkMjjEg4LVAqpQYmOt3nzZdhOTJd48RmkepP8xTJ/9Wf6BRKjMP8RqHhggggAACCCCAAAIIIIAAAggggAACCCCQgMD1WAkLD5ds2XNLuJrIqsPy40cPypXIiwmcyGEEkp9Aig3MNbWeaZ4rdyEJT5vekD9//rScP3tKoqNjCM6T32eRESGAAAIIIIAAAggggAACCCCAAAIIBJOACspDQ0MlU5Y7JFOmO4yRR125LCf+/oOZ5cF0Hxmrg0CKDszNd5o9R37Jckduc1MiL1+USPUNV2RkpPrG65rExppVaSjZYiGxggACCCCAAAIIIIAAAggggAACCCCAgCVwIz8LCUmlKjqkkXTp0qn/RUi69BFWi7On/5aT//5lbbOCQDAK/CcCc31j9GzzLFlzSabM2YPxPjFmBBBAAAEEEEAAAQQQQAABBBBAAAEEkqXA+XMn5eyZE8wqT5Z3h0H5KvCfCcxNmBD18M8MEVnUt18ZVU2l9BKaJsyoc24e5xUBBBBAAAEEEEAAAQQQQAABBBBAAAEEXAvo+uTR165KVNRlVcXhgly6eFZVb1Dlj1kQSCEC/7nAPIXcN94GAggggAACCCCAAAIIIIAAAggggAACCCCAgJ8FCMz9DEp3CCCAAAIIIIAAAggggAACCCCAAAIIIIAAAsEpQGAenPeNUSOAAAIIIIAAAggggAACCCCAAAIIIIAAAgj4WYDA3M+gdIcAAggggAACCCCAAAIIIIAAAggggAACCCAQnAIE5sF53xg1AggggAACCCCAAAIIIIAAAggggAACCCCAgJ8FCMz9DEp3CCCAAAIIIIAAAggggAACCCCAAAIIIIAAAsEpQGAenPeNUSOAAAIIIIAAAggggAACCCCAAAIIIIAAAgj4WYDA3M+gdIcAAggggAACCCCAAAIIIIAAAggggAACCCAQnAIE5sF53xg1AggggAACCCCAAAIIIIAAAggggAACCCCAgJ8FCMz9DEp3CCCAAAIIIIAAAggggAACCCCAAAIIIIAAAsEpQGAenPeNUSOAAAIIIIAAAggggAACCCCAAAIIIIAAAgj4WYDA3M+gdIcAAggggAACCCCAAAIIIIAAAggggAACCCAQnAIE5sF53xg1AggggAACCCCAAAIIIIAAAggggAACCCCAgJ8FCMz9DEp3CCCAAAIIIIAAAggggAACCCCAAAIIIIAAAsEpQGAenPeNUSOAAAIIIIAAAggggAACCCCAAAIIIIAAAgj4WYDA3M+gdIcAAggggAACCCCAAAIIIIAAAggggAACCCAQnAIE5sF53xg1AggggAACCCCAAAIIIIAAAggggAACCCCAgJ8FCMz9DEp3CCCAAAIIIIAAAggggAACCCCAAAIIIIAAAsEpQGAenPeNUSOAAAIIIIAAAggggAACCCCAAAIIIIAAAgj4WYDA3M+gdIcAAggggAACCCCAAAIIIIAAAggggAACCCAQnAIE5sF53xg1AggggAACCCCAAAIIIIAAAggggAACCCCAgJ8FCMz9DEp3CCCAAAIIIIAAAggggAACCCCAAAIIIIAAAsEpQGAenPeNUSOAAAIIIIAAAggggAACCCCAAAIIIIAAAgj4WYDA3M+gdIcAAggggAACCCCAAAIIIIAAAggggAACCCAQnAIE5sF53xg1AggggAACCCCAAAIIIIAAAggggAACCCCAgJ8FCMz9DEp3CCCAAAIIIIAAAggggAACCCCAAAIIIIAAAsEpQGAenPeNUSOAAAIIIIAAAggggAACCCCAAAIIIIAAAgj4WYDA3M+gdIcAAggggAACCCCAAAIIIIAAAggggAACCCAQnAIE5sF53xg1AggggAACCCCAAAIIIIAAAggggAACCCCAgJ8FCMz9DEp3CCCAAAIIIIAAAggggAACCCCAAAIIIIAAAsEpQGAenPeNUSOAAAIIIIAAAggggAACCCCAAAIIIIAAAgj4WYDA3M+gdIcAAggggAACCCCAAAIIIIAAAggggAACCCAQnAIE5sF53xg1AggggAACCCCAAAIIIIAAAggggAACCCCAgJ8FCMz9DEp3CCCAAAIIIIAAAggggAACCCCAAAIIIIAAAsEpQGAenPeNUSOAAAIIIIAAAggggAACCCCAAAIIIIAAAgj4WYDA3M+gdIcAAggggAACCCCAAAIIIIAAAggggAACCCAQnAIE5sF53xg1AggggAACCCCAAAIIIIAAAggggAACCCCAgJ8FCMz9DEp3CCCAAAIIIIAAAggggAACCCCAAAIIIIAAAsEpQGAenPeNUSOAAAIIIIAAAggggAACCCCAAAIIIIAAAgj4WYDA3M+gdIcAAggggAACCCCAAAIIIIAAAggggAACCCAQnAIE5sF53xg1AggggAACCCCAAAIIIIAAAggggAACCCCAgJ8FCMz9DEp3CCCAAAIIIIAAAggggAACCCCAAAIIIIAAAsEpQGAenPeNUSOAAAIIIIAAAggggAACCCCAAAIIIIAAAgj4WYDA3M+gdIcAAggggAACCCCAAAIIIIAAAggggAACCCAQnAIE5sF53xg1AggggAACCCCAAAIIIIAAAggggAACCCCAgJ8FCMz9DEp3CCCAAAIIIIAAAggggAACCCCAAAIIIIAAAsEpQGAenPeNUftJIHVouISq/4WEhknqkFBJFZJaUqUK8Uvv16/HyvXYGImJjZbY6KsSHR0lMep/LAgggAACCCCAAAIIIIAAAggggAACCCCQPAUIzJPnfWFUSSgQooLxNOERkiYsvYSogDyQS6wK0K9dvSzXoi5KrArSWRBAAAEEEEAAAQQQQAABBBBAAAEEEEAg+QgQmCefe8FIklggVUiIhKfNLGEqLE8Oy1UVmkddOadmoccmh+EwBgQQQAABBBBAAAEEEEAAAQQQQAABBP7zAgTm//mPwH8DQM8mT5s+q9/KrfhLTZdtuXL5jDHr3F990g8CCCCAAAIIIIAAAggggAACCCCAAAIIJE6AwDxxbpwVRALh6bKomeUZk/WIo65ckKjIs8l6jAwOAQQQQAABBBBAAAEEEEAAAQQQQACBlC6QYgLzrFnvkAdKl3O4Xzt2bJVzZ8847HO1UbZsBcmUOYt16OS//8ju3T9b2+5W7rnnXslfoKDD4Z93bpMzZ05LhgwRUqFiFYdjGzf8KFeuRDrsYyNpBdJlyGbUKk/aq/ind13bPPLSKf90Ri8IIIAAAggggAACCCCAAAIIIIAAAggg4LNAignMJ0z8WGrUrOcAMPOLT2XsmOEO+5w3wsPDZeOmvaJqdViHrl29KhUrFLW23a18/8N6yZU7r8Phvs8/KatXLZOqVWvKpPc/dzjW8ZHmsnfPLod9bCSdQDCF5aYCobkpwSsCCCCAAAIIIIAAAggggAACCCCAAAKBF0gxgXmr1h3k1dfecBD8/eB+adO6kcM+5432HTrLwEHxQ/Ue3dqKnqHubglRD5Dctv2gQ9Au169LubJFJDY2hsDcHVyA9gdDGRZ3FJRncSfDfgQQQAABBBBAAAEEEEAAAQQQQAABBJJWIMUE5unTp5f1G3510Lp2Tc0UL+95pvj0LxZIyZIPOJynN5Ys/kYGD3o+3n5zR/UadWTie5+Ym8brsWN/SZOHahjrzDB3oAnohn7Ap55dHsyLLs2iZ5uzIIAAAggggAACCCCAAAIIIIAAAggggEDgBFJMYK7Jlq/YLNmy53DQa9f2ITnw2z6HffaNLdt+k9DQNPZdxvrZs6elTi3Hmuj2RsOGj5XmD7ex75L5X8+W4cMGGfsIzB1oAraRSs38j8iUR1XYCQnYNZPiQtevx8rF88flemxsUnRPnwgggAACCCCAAAIIIIAAAggggAACCCDgQiBFBeajx0yUhg82dXibn33ygbz77miHfeZG7ToNZNz4j8zNeK/161aQU6dOxtuvdyxavFby5ivgcMxexoXA3IEmYBtp02eVsPCIgF0vKS90NeqiXLmc8ENrk3IM9I0AAggggAACCCCAAAIIIIAAAggggMB/SSBFBeauyqTs379HOrRr4vKeTpr8mVStVsvlMb1zykcTZfKkd1we377jd9Gzmc0lOvqaVCh3r7lJDXNLInArISGhEpE5T8Au+MD9JYxrma/TZszx+7UvnjuuauJH+71fOkQAAQQQQAABBBBAAAEEEEAAAQQQQACB+AIpKjDXD+Lcuu2AQ5B97aqqY17BdR3znzb+KunSpY+vcnPPH4cOSquWDeIdL1e+knw8dbbDfucHjCY0wzx3nrxSvlwlKViwkBz/+5hs3vST/PXXnw59eruh67cXK15KihUrKZkyZZY//vhdlaHZK4fU+GNvsaSH7reCer960Q9B3bVrp9th+WMcoaGhkjlzFrcz+91eXB0I5IM+uzzaTjqr/zkv01Vo7s/gnAeAOguzjQACCCCAAAIIIIAAAggggAACCCCAQNIJpKjAXDMtWLhChdCFHcRatahvhMj2nffdV0JmffmdfZec/PcfyZ4jp7VP148ur2aNx8bGWPv0ysuvjJQ2bTs57HMu/eIqMG/dsqFEZMwoo0aNk3z573Q4X2/o6y1ZslBefaWfV0F36dLl5aWBQ+Q+FZS7WvSXBcuWLZK3xo6UM2dOu2oiH035QoqrUNxc3hj1mhrDtzL45eHSqlUHhy8fdJsnH+8oW7ZsMJsbr/4Yh/6yY9z4D6Va9dqSOnWoHFVfHgwZMkC2bd3kcC1PGxGZ80pISGpPTfxyzB6W//zLr/KL+p9ezADdn6G5/uxdPHfML+OmEwQQQAABBBBAAAEEEEAAAQQQQAABBBDwLJDiAvMBLw2RRzp2c3jXH6vSKpOcSqu4emjnK4P7ykgVZtuXwYOelyWLv7HvchnKt2heVw4f/sNq5yow/+D98fLUU8+JeiKl1c7VymlVN10/rNRd/XR9zqDBw6Vd+86uTo+3TwfnPZ/sZMwQdz64aMk6yZs3v7X7mwVzpHr1OvEenmo2eKrno7Jp43pz02/jaN+hswwcNNzqV68cP35UGjeq7rDP3Ubq0HDJkDHuyw537W51vz0sf3HAENGBubno0ixvjRlmbDofM9sk5vXShX8kJjoqMadyDgIIIIAAAggggAACCCCAAAIIIIAAAgj4IJDiAvMi994nc75a4kCwd88u6fhIc4d9K1ZtkTvuyG7tu3DhvNSs/oBs3X7AmOFsHti8ab0Kmx81N41X5zZXrkRKlUrFHdq4Cszl+vUEw3Kzk61qFvcTaja3q2XCxKlSo2ZdV4fc71PXfqxHe9m+fYtDG+fAXNdiDw1N49DGvmEPzP05Dle/DNDXbfJQDTl27C/7EFyuh6fNpEqyZHZ5zF87PYXl5jV0YK6Dc38G5lGR5yTqynnzErwigAACCCCAAAIIIIAAAggggAACCCCAQBIJpLjAXDtt3rJf0oSFWWRXo6KkUsX7rO3s2XPKshWOpT5WrVwqL/TtKbPnLJKiRePCb+cwvHiJUvLFzIVWX3rll5+3S9curR32uQzMHVqIXL50UU02TyXp0mdwOnJjUz+sVD+01L60bfeoKpcywr7LWL908YLs3LlNlSQJUfXMS0qWLHe4bFO7VlmJjo57iKRzYB7vJL3DFvSbgbm/xzH5g2lSpUoNh8vrEjVVKheXKHX/ElrSRWSXNGnSJdTslo6bM8jtYbjeZ59lbobq/izLcu1apERePHlLY+dkBBBAAAEEEEAAAQQQQAABBBBAAAEEEEhYIEUG5tNnzJeSpUo7vPumjWvK0aNHjH3PPjdAuvd42uF476e7yk8/rZXHn+gtvfu86HDskfZNZd++G6U3+g94TTp26u5wfPy4N+Tzzz5y2OcpMF+zermMe2eUVcKleo06Mmbse/EeQLp40Xx5efALVr8ZMkTImnU7HGbA64Nfzvpc3nxzqNVOr2TOklW++WaF8Wo/MGvmZzJm9I2yIXq/u8A8JiZaFsz/SmbP+kwOHvxN8qua623adpQP3n9XXT+138fh6pcBmzb+KE/19K7sTESm3BKS2v3MeLuBr+s6BNehuD0Y1324mk2eFIF5bMw1uXj+b1+HTXsEEEAAAQQQQAABBBBAAAEEEEAAAQQQ8FEgRQbmPVQY/owKxe3L5Elvy5SP3jN2Lfx2lRS48y7rsC5DUkE93FMvWVTQvGrNduuYXlkw/0sZNnSgse+ruUvkniJxs9X1zrq1y8V7qKa7wHzH9s3So3t7oy/7f8qWrSBTP51j3yW/7v5ZHu3Uwtr3zLP9pcdjvaxtvbJxwzp5+qkuDvvMDf1eFqsa5fYZ7KdPn5R6dSqYTVwH5mpGee9e3YwvEKyGtpWkGIfuXj+Ite8LgyRPnnzy5ZfTRYf7sWqWuTdLxiz51Gz9EG+a+tTGDMD1SQ0atbHONcNyHaLrGed6MWeg63V7W719K8v167Fy4ezRW+mCcxFAAAEEEEAAAQQQQAABBBBAAAEEEEDAC4EUGZhny5Zdlq90rNW965cd0qVzK0mbNp1s2Khmi9sevLl7107p/GhLi8u5vvnJf/+RBvUrGcc3b1XlXtLElXsxa59bJ99ccRWY6xIsNaqXViFwjHNzY3vZ8k2SPUfcgyv1wz/r1Y0Lt5ev2OzwMM4L58+JLrHiKVTu3aefmjXfx+F6DzaoIv/8c2PGsqsZ5h9+8K6aST7e4Rz7RlKMw95/YtYzZS2QmNM8nmMPy+1lWBIKy/1ZjsUc4PkzN34dYW7zigACCCCAAAIIIIAAAggggAACCCCAAAL+F0iRgblmWrtup2TMFPcQyMjIy1K1cgl5pGM3GfDSjRnBJufoN4bI7NnTzE15c/QEebBRM2tbr9SqUVp07fN585c67N+gyrj0UuVcnBdXgfkGNRu8l5vZ4Pr8adO/llL3l7G6irx8SapWKWlt79h5yCHo1wf+Pu555nHadOni1TN/tk8PWbduldGvq8C8RrX75aKqie5uSYpxuLuWt/v9HZgnp7BcGxCYe/tJoB0CCCCAAAIIIIAAAggggAACCCCAAAKJF0ixgfmkyZ9J1Wq1HGT0zOp3xn0gJUo+ELdflR+pooJ0/XBPc6lQoYp89PFMc9N4nfjuGMkQERGvJMqQ1/rLwm/mOrTVG64C87fGjpAvZnwSr625471Jn0q16rXNTbEH5q5mzVsNfVwZ9/brMm3ax8ZZzoG5/Zquuk2qcbi6li/7/F2SZdn3N+5pQjPL9RjNtkkxs1z3T0kWrcCCAAIIIIAAAggggAACCCCAAAIIIIBA0guk2MC8adOWMuL1dxwE9cM5df3t1KlDrf3H1INAm6gHgjovW7b9JqGhcQ+R3L9/j8TGxEix4qUcmlaueJ9ERUU57NMbrgLzTh2by55fd8Vra+7wFJi7qnFunufr65SPJsrkSTdsnAPz//3xu7RsUd9tl0k1DrcX9PKAPx/6ac4utwfgZn1ye81yc2j6mP7ftBmONejN47f6ykM/b1WQ8xFAAAEEEEAAAQQQQAABBBBAAAEEEPBOIMUG5mFhYbJp8z6HEiaHDx+SggULO8jMmD5V3n5rpMM+vTFz1kKHcPzataty7epVSZ8hwmprr21u7by54iow7/hIc9m7J3GBecGChWTBwpXOl5Gjf/0Zb19CO95S73f1qmVGM+fA/NChA9K6ZUO3XSTVONxe0MsD6SKyq9ry6bxs7bmZq8Bcn6FDcR2Ym+u6lrl9BrpxIAn+c+1apERePJkEPdMlAggggAACCCCAAAIIIIAAAggggAACCNgFUmxgrt/kD8s2SM6cue3vN956UzW7/KiaZe68dOn6hPR9YbDzboftpT98Jy8NeMZhn7nh78A8JCREtu343ezeeN26ZYM88XhHh32+bvgamCfVOHwdt3P78LSZJDxdXM165+O+bHuaTa77MY/rdfssdL2dFEtU5DmJunI+KbqmTwQQQAABBBBAAAEEEEAAAQQQQAABBBCwCaTowHz4iLekWfPWtrfruHrh/DmpqR7m6WrJpB4YukY9ONTTYn94pnM7fwfmun89Yz4sPNy6lKfxW43USq1a9WTjxh9dlo7xNTDX/SbFOOzjTcx66tBwyZAxZ2JOjXeOPRB3nkFuPxaIsFwP7tKFfyQmOn7Zn3gDZwcCCCCAAAIIIIAAAggggAACCCCAAAII3JJAig7MK1asKh9O+cIt0IrlS+TFfr3cHl++YrNky57D5fHrsbFSvlwRiVWvrpakCMzHvztFatV2rC++auUP8kLfp1wNwdj3Qr/B0rnLExIdfU0WfTdfxoweJpcvX7baJyYwT4px6AHpLyl69+knEerhql9//aVs27rJGqc3KxGZ80pISGpvmibYxizLohvqYFwv99+sVa7XAxWWx8bGyMVzx/QlWRBAAAEEEEAAAQQQQAABBBBAAAEEEEAgiQVSdGCu7bZuP+DwkE+751M9H5VNG9fbdzmsj3z9bWnStJXDPnPjyJ//k+bN6pib8V6TIjC/55575at5P8S71tIfFqnSMH3i7X/iyT7Sq3c/h/26DnvFCkWtfYkJzJNiHPnz3ynffrfaoeb84kUL5OXBfa2xJrQSni6LhKfNmFAzr4/bQ3P7SYEKy/U1o65ckKjIs/bLs44AAggggAACCCCAAAIIIIAAAggggAACSSSQ4gPzefOXSuHCReLx6Yd4ViwfFxzHa6B2lC5dXj79/CtXh2TuV1/I6yNfcXlM70yKwFz3O2Hix1KjZj296rDoGeSH/3dIdu7cLhkzZpJKlapK5ixZHdrojXlzZ8nIEXG12RMTmOt+/D2OceM/ktp1GuiurUW/pyqViqvZ8dHWPk8rISGhEpE5j6cmiTqmg3O9mA/8NF8T1ZmPJ108d1z9isG79+9j1zRHAAEEEEAAAQQQQAABBBBAAAEEEEAAASeBFB+YP993oHTt1tPpbYvs+mWHdOnseva4vfHmrfslTZow+y5jvXOnFrJ798/x9ps7kiow1yVHVqzaLFmy3GFeyuvXY+rhpk3UQ07tS2IDc3+PY+G3q6TAnXfZh2asN29aW44cORxvv7sdadNnVXXeI9wdDqr9V6MuypXLZ4JqzAwWAQQQQAABBBBAAAEEEEAAAQQQQACBYBZI8YF5wYKFZMHClfHu0Sg1O/wrNUs8oWXa9K+l1P1lHJp5Mzs9qQJzPZAMGSJUDe35UqjwPQ7j8rTxqwr3u3VtE2+2dmIDc3+Po2u3J+X5voMc3sLpUyelXt0KDvsS2kgVEiIRmfJIqlQhCTVN1sevX4+Vi+ePi66Vz4IAAggggAACCCCAAAIIIIAAAggggAACgRFI8YG5ZtywaY+kTZsuTvT6dalcqZhERUXF7XOz9kjHbjLgpSEOR3/bv1fat2vssM95o2TJB2T6Fwscdnd8pLns3bPLYZ99471Jn0q16rWtXefPnZVaNR3DeuugWtEPyOyoxpdeBejulgsXzsv0aVNkykfvuWzy9fxlDsH7oUMHpHXLhi7butvpj3HoGeszZ30jRe8rYVxGj3vE8EGybOlid5d1uz9NWHpJlyGb2+PBcCDy0im5djXu4azBMGbGiAACCCCAAAIIIIAAAggggAACCCCAQLAL/CcC82C/SQmNv3qNOlKxYhW5667CEh6eVi5duqjqmf8hW7dulPXr1yR0ut+O+2Mc2bJll8yZs4oO7m9l8fcDQG9lLL6ey4M+fRWjPQIIIIAAAggggAACCCCAAAIIIIAAAv4RIDD3jyO9JEMBPctczzYPpkXPKtezy1kQQAABBBBAAAEEEEAAAQQQQAABBBBAIPACBOaBN+eKARQIptCcsDyAHwwuhQACCCCAAAIIIIAAAggggAACCCCAgAsBAnMXKOxKWQLBUJ6FMiwp6zPHu0EAAQQQQAABBBBAAAEEEEAAAQQQCE4BAvPgvG+M2kcBXZolbfqskipViI9nJm3z69dj5crlMzzgM2mZ6R0BBBBAAAEEEEAAAQQQQAABBBBAAAGvBAjMvWKiUUoQSBUSIuFpM0tYeESyeDtXoy5K1JVzcj02NlmMh0EggAACCCCAAAIIIIAAAggggAACCCDwXxcgMP+vfwL+g+8/JCRU0qjQXM86DwlJHVCB2NgYYzb5NRWWx8ZGB/TaXAwBBBBAAAEEEEAAAQQQQAABBBBAAAEEPAsQmHv24WgKF0gdGi6h6n8hoWGSWgXpqVSA7q+yLbrcynUVkMeoYDw2+qpER0dJjPofCwIIIIAAAggggAACCCCAAAIIIIAAAggkTwEC8+R5XxgVAggggAACCCCAAAIIIIAAAggggAACCCCAQIAFCMwDDM7lEEAAAQQQQAABBBBAAAEEEEAAAQQQQAABBJKnAIF58rwvjAoBBBBAAAEEEEAAAQQQQAABBBBAAAEEEEAgwAIE5gEG53IIIIAAAggggAACCCCAAAIIIIAAAggggAACyVOAwDx53hdGhQACCCCAAAIIIIAAAggggAACCCCAAAIIIBBgAQLzAINzOQQQQAABBBBAAAEEEEAAAQQQQAABBBBAAIHkKUBgnjzvC6NCAAEEEEAAAQQQQAABBBBAAAEEEEAAAQQQCLAAgXmAwbkcAggggAACCCCAAAIIIIAAAggggAACCCCAQPIUIDBPnveFUSGAAAIIIIAAAggggAACCCCAAAIIIIAAAggEWIDAPMDgXA4BBBBAAAEEEEAAAQQQQAABBBBAAAEEEEAgeQoQmCfP+8KoEEAAAQQQQAABBBBAAAEEEEAAAQQQQAABBAIsQGAeYHAuhwACCCCAAAIIIIAAAggggAACCCCAAAIIIJA8BQjMk+d9YVQIIIAAAggggAACCCCAAAIIIIAAAggggAACARYgMA8wOJdDAAEEEEAAAQQQQAABBBBAAAEEEEAAAQQQSJ4CBObJ874wKgQQQAABBBBAAAEEEEAAAQQQQAABBBBAAIEACxCYBxicyyGAAAIIIIAAAggggAACCCCAAAIIIIAAAggkTwEC8+R5XxgVAggggAACCCCAAAIIIIAAAggggAACCCCAQIAFCMwDDM7lEEAAAQQQQAABBBBAAAEEEEAAAQQQQAABBJKnAIF58rwvjAoBBBBAAAEEEEAAAQQQQAABBBBAAAEEEEAgwAIE5gEG53IIIIAAAggggAACCCCAAAIIIIAAAggggAACyVOAwDx53hdGhQACCCCAAAIIIIAAAggggAACCCCAAAIIIBBgAQLzAINzOQQQQAABBBBAAAEEEEAAAQQQQAABBBBAAIHkKUBgnjzvC6NCAAEEEEAAAQQQQAABBBBAAAEEEEAAAQQQCLAAgXmAwbkcAggggAACCCCAAAIIIIAAAggggAACCCCAQPIUIDBPnveFUSGAAAIIIIAAAggggAACCCCAAAIIIIAAAggEWIDAPMDgXA4BBBBAAAEEEEAAAQQQQAABBBBAAAEEEEAgeQoQmCfP+8KoEEAAAQQQQAABBBBAAAEEEEAAAQQQQAABBAIsQGAeYHAuhwACCCCAAAIIIIAAAggggAACCCCAAAIIIJA8BQjMk+d9YVQIIIAAAggggAACCCCAAAIIIIAAAggggAACARYgMA8wuL8uF5I6TMLCM0hoaFoJSR3qr26tfmJjoiU6+opcjboksTFXrf2sIIAAAggggAACCCCAAAIIIIAAAggggAACKVWAwDwI72x4uiwSnjZjwEYedeWCREWeDdj1uBACCCCAAAIIIIAAAggggAACCCCAAAIIIHA7BAjMb4f6LVwzXYZskiYs/S30kLhTr129LJGXTiXuZM5CAAEEEEAAAQQQQAABBBBAAAEEEEAAAQSCQIDAPAhukjnEQM8sN69rvjLT3JTgFQEEEEAAAQQQQAABBBBAAAEEEEAAAQRSogCBeZDcVV2zPCJTrts+2ovnT/hU0zx79pySPXsO2bfv19s+dk8DKFa8lOTNm89ocvDAfjl8+A9PzTnmR4Hw8HCpXqOO0WNMTIysXrXMj70nvqt69RtZJ69auUxiY2OsbX+vFC5cRAoVvtvo9s8//ycHftvn70vQnw8CYWFh8sAD5WTLlg0+nEVTBBBAAAEEEEAAAQQQQAABBBBICQIE5kFyF9Omz6oe8hlx20d7NeqiXLl8xqtxDBo8XNq172y0PaJCwObNboSiXp0c4Eaz5yySokWLG1ddtnSRDOjfJ8Aj+O9eTofF8+YvtQDKPFDIWr9dKyEhqWXbjoPW5evUKitnz3r3ubdO8mFl8gfTpEqVGsYZO3dske7d2vlwNk39KVCvXiMZPXaipFYPU74aFaX+3aotJ0787c9L0BcCCCCAAAIIIIAAAggggAACCCRjAQLzZHxz7EOLyJRHQlSAc7uX2JhouXj+uFfD2Lr9gBE6mY17P91VfvpprbmZrF4JzG/f7SAwFyEwv32fP+crz1+wXO4qdGO2vz628Ju5MuS1/s7N2EYAAQQQQAABBBBAAAEEEEAAgRQqQGAeJDc2U9YCyWak588c8WosGzbtkbRp01ltuzzaUnbt2mltJ6cVAvPbdzcIzAnMb9+nL/6Vp3+xQEqWfMA6MGvmZzJm9DBrmxUEEEAAAQQQQAABBBBAAAEEEEjZAgTmQXJ/gzEw79LlcXnmuQESqmbGb9q0Xp7qeaM8S6DIQ0JC5MefdlmXe6hRdTnnpqwGgbnFFPAVAvPABeZDhr4pDzZqZtzjdWtXyksDngn4/U7uF7z/gbLy3qRPJWPGTHLi72PSpnUjuXjxgt+H3aBhYxk2fKzR77//npCHm9X1+zXoEAEEEEAAAQQQQAABBBBAAAEEfBcgMPfd7LacEYyBuYbStaDTpg2Xy5cvB9xNB+bbdvxuXbdu7XJy5sxpa9u+QmBu1wjsOoF54ALzye9/LlWq1jRu8M6dW6V717aBvdlBdLVMmTLL+fPnkmzErds8Iq+8OsroP/LyJalapWSSXYuOEUAAAQQQQAABBBBAAAEEEEDAewECc++tbmvLYA3Mbycagfnt1Pf+2gTmBObef1pSTksC85RzL3knCCCAAAIIIIAAAggggAACKUuAwDxI7ieBue83isDcd7PbcQaBOYH57fjc3e5rEpjf7jvA9RFAAAEEEEAAAQQQQAABBBBwLUBg7tol2e31JTCfPGmyFC9W3Kf38PX8r2XCxAlenePtQz/z5s0vxYrfKDPw77//yC8/b3fZf1VVIqJa9drGg/Zy58krp07+K7/9tk/Wr18ty5YudnmOp52lSpWWnLlyq3IwITJm7CSr6fChL8n5C+eN7aN/HZF9+361jrkqyZJL9dGrdz8pVqyEZM6SVc6cPqXO2SPffjtPtm3dZJ3raUWf17v3C3LffSUkZ85cEh0dLf+e/Ed2/bJDPp4yyS8lH4rce5/UrfuglC5dTu66q7Bcjrwsh34/ID8r75lffCaxsTGehmgc0w9nfbLnM0YfuXLlMfYdO/aX/PHH7zLt8yny119/JthHmTLlpWbNelLq/jKSP38Bo+7zkSN/yt69u+Xzzz6UqKgol334EpjrEj/dezwllStXkzx58knq1Knl1KmTcvjwIZn68fty6NABl9dw3hkRkVH69FH3tngp475cu3ZNTpw4LnPmzDA+c/o623YctE6rU6usnHVT/95q5GGlVq160rpNR+Vyp2SIiDA+S7t3/yKT3nvLKBM0+YNpUqVKDaOHnTu2SPdu7Vz2psuE6Brk5cpVlHvvLSZp06Uz6mzr+7Rk8ULZsmVDvPMyZIiQylWqG/t79nxWiqjz9KLNJk64UUNbb+ua5levXtWrDkti76tDJ2429N9+uvTpjc/Kpo3rjVb689Crd1/Rr6bVoUMH5cMP3lVj/sNNT/F363F3erSHYZ71jmxy+dIlOa5qkq9dvVxmz54W/4Sbe/TfQrXqtYytaPW5WLNmhUNbV2PWDwlt0rSFVKpUXcLCwoxx7lD38ZOpH8T7+6tRo46EhYdLtWq1pGWrDkbf15T7oEHPWdfZrR6OfOLE39Y2KwgggAACCCCAAAIIIIAAAgggEDgBAvPAWd/SlXwJzGdMnyEFCtzp0/WWLVsqI18f6dU53gbmLw0cIh0e6Wb0efz4UWmsHrppX3SYPHXqLLn7nqL23Q7rOgB9umcX+ecf78Oj7xatkXwqmPS06ICqYoW469oD88WLFsh+Fab37fey2y6W/vCdDBr4nArDYt22eX3UOGnc+GGRVKlct7l+XZYsWSiDBz3v+rgXe18f9Y40btLSbcsL6guCfn2fchmkmicNfnmEtFFhbir1BYPLRY1Th4YDX3pWrlyJjNckvQo8J78/TR5Qgb27RXu/p8JhHb47L94G5u07dJZ+L74iadKEOXdhbR88sE8e69HB4xcRAwcOlXbtO7t9v8eOHpHWrR6UDZv2WP0mNjAvWLCQfDx1tmTPkdPqy2FF2Y4c+bLoQL2G+rJBL+4C80YPNZfhI8Z6fP979+ySF/v1Ev1lh7lUrFhVPpzyhbnp9vWTqZMdAvRbva9uL2Q7sHnLfkmjAma9NG1cUwYNHm58eWZr4rD6885t8vhjHYwvnhwO2Db05+n9D6epL0Jy2/Y6rl5VX96MGTNM5s2d5XhAbenwe/oXC27sV/enTOnCDm3sY27WpJZMev8zufPOQg5tzI0LqgZ6nz49HL4s3K6eq+D2b+3mifrfnw7tm5rd8IoAAggggAACCCCAAAIIIIAAAgEUIDAPIPatXMqXwHzkiJFqpnAZj5fTYZienWsugQ7Mdag1+8vvrLDMHIer12vXrkrVyiU8hmT287wKzFWfFcu7Dsx1OO8pbDOvtXzZYun/Ym9z03rVM9tnqMBNz172Zvlt/15p366xN02tNvoaixavldxqlrU3iw4ZXc2Knz5jvpRUM/K9WfSXF61bNnRoqp2++XalerBrOof97jYmjB8tn376gcNhbwLzvi8Mki5dn3Q4z91GpJph/5D6cuacixnh706YIjVr1Xd3qrX/pPpFhD3kTkxgru//59Pmegy4zQvar+cqMNcPh9QlPLxZLl+6KLVqlrH+XrwNzKd9/pGMe+cN4xL+uK/ejNUePusvKvLmK5Dgaf/+e0KaN63j8ssbPWv73Ykfq3/bQhPsRzeY+cWnMnbMcIe2vgTmp9WvG+7Ilt3hfOcN/e9XbXU/zAcfexOY6y9+2rZ5yLkrthFAAAEEEEAAAQQQQAABBBBAIAACBOZeIDdo0Fge6dhN9E/89bJjx1aZNfMzWaYC00AtvgTmCY0pY8aMMveruXEhp5pF+fwLz6v3tSOhU43j/phhrsPyoqpMibnogGjdulWydctGqVChitSqXV8KFb7HPCwfvD/eKMlg7fCwMnTYGLlflQVJpWZ231XobqulDuTMsiBnz56WHt3bW8fsM8zNndfV7PE9asaunk1+UYWQDRs2kUqVbbPklVvzZnXkyJHD5inGq56x3bbdo9Y+PSt7p/rM/PD9dxKh7HWoV75CZQkNTWO1cZ7dax1ws9JblRN5/Ik+1lEd3K1du0JWr1omelazDoV12Q5zdvvu3T9L504trPZ6Rc/m1TOtzSUmJloOqFI4K1Z8L0eP/qXKS1SVps1aOYSP87+eLcOHDTJPEecAWo9j69aNsnTpIsmcOYs0a95afXlz4+9Gn6RNm6pZufYZ0AkF5rpUiS5ZYi66D11OR5frOXX6pFRX5XwqqzYZM2Yymxi/EHCeoWuvGW00VPdPlzJZo0p0nDz1r9Sp01B0OR9dLsN5SUxgvnrNdqOUj9mXnu2vw3A9W79YsVJStVpNo6yMedx8dQ7Ms2a9Q1au2mrdS/3+9+/fY9wnfb+0b4eOXeP+nlVH+j09/9wTRpfa9623JxvrefLms9rpfv73v0PmZVVJm0mySP26Qi/+uK9Wxx5W7IG52UyP6+DB/bJavYdL6u+uXr1GRmkn+9+LLh/z7DOPmacYr7rMzsrVWx2+oNAzvHfu3OrR/PlnHzeOm535Epib5+jPvf73a8NPa+WeIkWlU6fuqtRMBvOwrFr5g7ygfumhFz17PYM6pv8+7GH7H6rsjLls3rRe3nxzqLnJKwIIIIAAAggggAACCCCAAAIIBFCAwDwB7Gee7S89HuvlspWvIafLTrzc6c/A/IvpX0j+AnEzOT+eOkWmT5/u5UhE/BGY24MydzO1J6iZomaZCj1buLaqI+3LktiHfhrXUGHqk090ilfKpEmTFjJSlVoxlwXzv5RhQweam5JPzZDVM9zNoFrP9m1Qv5I1u9RsWLRocZkxc4EVmutZqPYZ72Y7d6/2Lxz07OQHG1aJVx6m+cNtZNjwmzWq1fupW6e8US9b96lraX/73WprnNHR16Tlw/Xj1SrXZXOWLFlnhX86/K9S6UZ9fF1PW4fCZnkJHfi1atkg3pCdzWbP+kxGvznMapdQYL523U7JqK5lLOp9dO3axqHEhd6vZ7hr92zZc9xop/7boV0TI1jWO/RnYeOmvXG/aFD99OndXdXJV/fKtuhfXixdtlHVzs5o2yvia2D+7HMDVK31p60+3Nk88WQfo06+1VCtOAfmY8a+Jw3UlzXm8uTjHeN9LkNDQ433nyt3XqOZvp8Vyt1rnmK9Tn7/c6mi6obrRQfJ3bu2tY6ZK/66r2Z/nl7t/w7odjos79K5legveOyLnvGu769ZvkUfe0SVLLE/h2DKxzPVF1FVrNO2qnruTygr56Vt204y+JWR1u7Iy5ekapWS1ravgbmr2eC6Bv7qNdusz63zNfTF7F/guDpuDYgVBBBAAAEEEEAAAQQQQAABBBAIqACBuQduPbN8zFtxD4101XSAKskRiJnm/grMh7w2RD0gsp71VrZs2Swv9n/R2vZmxR+B+dbtB6yZy98smCNDh7wU79LZVKmDDz+aoULcI0ZA+skn78dr42nHrQTmw9R4FqhxuVoWLFyhZnHfqGusH96pAz5zGTL0TWnR8sbMdR3+tW/fxJi1bR63v9au00DGjf/I2vViv6dlxfLvrW1PKwu+UWNQD/jUi54530TVf3a16BBR11nXD1HVM4jNB1fqIF0H6saiwuNeT3eVDRvWuepCypatIFM/jbPo0a2t8SsL/bDRseqhqvlv1stv1LCanFQPNHW1TJv+tfEwUH3MORD2FJg7lxPR5TN0GQ1Xi55hrMN1M8Bf+sMieWnAjVn4Dz7YVN4cM9E6beK7Y8Td56mQ+lXCV/O+tz6f+iRfA/PlKzZb4b2eWd5IfaFhluSwBnFzRX8G9GfBXJx9Xnn1dePXDfpLA/1rh5cGPGM2dXg1vqxRZXrMpW7tctYXJOY+bwJzf91X85qeXp0D81dffkG++26+y1OMz+EnX1pf8tgt9BcGui/z3h9VD6nVv/5w94wB51+BPKvqjOsZ4nrxJTDXQbf+Is/Vw1Kdv7ByroVOYO7yNrMTAQQQQAABBBBAAAEEEEAAgdsuQGDu4RZ8okLCMios9LTs2L5FlfZo56mJX475IzBv8XAL6dv3BWs8J0/+q0qHtHUbKlkNnVb8EZjbQ2c9G7Zrl9ay59ddTle6tc3EBuYJzfY2HuapZprrRdc7f7BB3KzWVWpWaZYsdxjHdADd66kuxrq7/9jrGTuXO3F3jt7/spoh20bNlDWXUSNfka+++sLcTPDVPmtbP0ixm5q17WnRX1zocjZ65u+8uTPllCpBYV8yZIgwymfY99nXn3r6een51HPGLl2DumH9ytZhT4H5hIlT1a8M6hptz587a9Tmtk50sbJIzYbPmze/ceTIn/8zQlO9YZ99rAPsmtUfcHF23K7RKlxvqEJ2c/ElMDdKqKzeZp4qY0YPM0o4WTucVozP6XZVjuPmw2GdA3OzuZ79fuXKFY9/r5s277NKyrj6AsabwNy8nn69lftq78fduj0w9/TFj3n+Z5/PtR4uq8ut1Kxxo/6+86xx/QDRo+qLJE/LTxt/lXTp0htNNm38UZ7qeaM8kS+Buf0852vlypVbvl+6wdr9UKNq8vfxY9Y2gblFwQoCCCCAAAIIIIAAAggggAACyUqAwNzD7dixU9X3vRliuW2mZuc6zxx02/YWDtxqYF703qKqBviH1gxMHQq379BeBZ+nfB6VPwJzVw9x1OHzpo3r5SdVB1jXKNb1i29lSWxg7q58hjmW3r1fkMefvDHLV9curlc37ksVewB+7epV2bZtk3may9cKFatYM5l1/WM909ubpXiJUvLFzIUOTc0a2T+tX6vKQSx3COccGqoN+zinT5si77w9yrlJora1uX6IaGY1G/rixQtGjewzZ07LQ40fllFvjDf6PK3qjterE2fmKTDXDza1Pwhyo5tZ8OZgS5R8wKplbg/YF3//o1UvfL+qf+5c39w833xt36GzDBw03Nz0aYZ59Rp1ZOJ7n1jntmheVw4f/sPadrVi/wLDXWBuP0//+qK4eqhoTEyM/P33cfnzzz+Mh3yuWLnFqov92qsvyrcL59lPE18Dc/PkxNxX81xPr/bAfNXKparOd09PzaXfi6/Io50fM9roX3CULXO3sa6fW/Bwi7bGurtyNM4dz1W/Irj7nqLG7uPHj0pj9aBYvfgSmI8f94Z8/lncr0SMDmz/2fFz3H1v3rS2w/MOCMxtUKwigAACCCCAAAIIIIAAAgggkIwECMw93IyUEphnyJBBvp73tfWwP1Ehf99+fWX79u0e3r37Q/4IzHXvH3w43fEhmk6X1GH0qlVLRZfhMB/W6dTE42ZiA/MVy5fIi/16ue27lwrMn3ARmIerh0VuVDN8E7vs3rVTOj/a0uvTu3d/Sp59Pn4pG7ODyMjL6iGqG4x64fbZtrre94ZNe8xm0luF9PpLisQuYWFhMlaVLipXrlK82t+6T/3ljP7yw5x570tgbg+SfR2fvd762h9/toJ057rzrvo1arzrWvQ3F19mmOsHBA94aYhxpj3UNfty9Tpz1kL1YMtSxiF3gXkNFcQPUg+UzZEjp1X73t6Xds2qft1gliW51cD8Vu+rfWzu1u2B+dtvjZQZ06e6a2rs1wYTbF9GVChXxPiiQP8ComKlakYbe/jtqTN7WSL7rw58CcwH9FcludTDZ90tBObuZNiPAAIIIIAAAggggAACCCCAQPIVIDD3cG9SSkkW54d8Tp36sUybPs3DO/d8yF+Bub6Knq3dqs0jcscd2d1eVAe/PdUDOHepQNmXJbGB+bKli2RA/xu1r11dz11g7lxD2tW5nva5C0o9ndOgYWPp3aefFLyzkNtfQ+jQ9i0VRpq1v53H6arWtadr2o/pkFeHlRkzZrLv9rjuS2BuLzHisVMXB+0PUrT346l+ub0be9jpS2BuLz+jP7tVK5ewd+ty/Z1xH0idug8ax1x9DuzhrssOXOy8lcDcH/fVxZDi7bIH5t58cZM7T15Z8v16qx9dDkn/MmXGFwtE/7pAL87PFbAaO6089nhv6fPMi8beq6rcUKWK9xnrBOZOUGwigAACCCCAAAIIIIAAAggg8B8TIDD3cMNTwkM/X3n5VWnQIO6Bglu3blFlDfp5eNcJH/JnYG5erUCBgtKkaUt54IGyRqmJTJmzmIeMVz0DtHbNsqp+c4zDfk8bgQ7M9YMHt2w7YA1p3DujjNIy1o4EVnTpEvOhnAk0jXdYP/BSP2RQPxixRIn7JXfuvI4BuvpVQetWD8qhQwfU7GTHcQ5UD5H8QT1M0tdF19TWM7dTpw61TtVlaA4fPiR79uxW9aHTGWVQ7ilSNO7XDaqlL4H5mrU7xPws7Ni+WUYMH2xdK6GVyCuRVlkaez/2h0W66+O++0rIrC/jTHwJzO2lNvSvOcqVvcdj3XE9Bnt5EOfA3P4gWWO8qs/TZ07Jvr2/iq4HnyNHLilc+J549zyxgbm/7qs7W/t+e2D+wfvjVdmod+2H463bS/vog+VUSRb9YM/3Jn0q1arXNtqfUs9mqF+vorHu6T/6VxH11YOd9XLu7Bnj4Z16ncBcK7AggAACCCCAAAIIIIAAAggg8N8VIDBP4N4/82x/6fGY6/Icn0ydLBMnjE2gB/8cTkwN82bNmqnSIv2tAZw6eVLatGuTYHhnneBmJSkCc+dL6Qc36gc12utXDx/6ksyfP8e5qdvtQAfmeiD22uCzZ31mlENxO8AkPKBDz+Ej3pJ69R+yrrL+x9XSp3d3Y9s+znlzZ8nIEd4H0WaHz/cdKF27xdWcHv3GEJk92/UvF+zhpC+B+cJvV0mBO+8yLplQbXlzXK5ev1PlVfLlv9Prfnr0eFqeeW6A1ZUvgXnFilXlwylxD2Dt3KmF8bBUqzMXK/YHUDoH5pu37pc0acKMs3QY3LRJLfXwz8h4vRglgTbttb4oSWxg7q/7Gm+ALnbYA3NPD9A0T31tyBvSslUHYzMmJlrKly1irL/y6uvSuk1HY93bMjj2z5b9AbEE5qY2rwgggAACCCCAAAIIIIAAAgj8NwUIzL2473qmua5LXKZMeaP1jh1bZdbMz2TZMve1a73o1qcmvgbmRYoUkSkfTrHqGUdfuybtOrRL1EM+nQfqj8Bc14iuVLmaZEifQaZN+9j5Esa2Drw3qgAwjaqRrZdvFsyRoUPc1+w2Gtn+4xyYN6hXSU6e/MfWIm519pxFUrRocWNHYkuy6JN/WLZBcubMbfSzb+9ueaRDM2Pd3X86duoue/fsEv2Z8mXJnCWrVFY1m/XDP98dP8btzHv7+zp29Ig0aVzTuMyy5Zsku6qFrRc967x1y4bGuqv/aMclP6yXs2fOyIYNa+WjDyfI5cuX5SMVCldQ4bBe9EznhvUruzrd2GcPrH0JzN8cPUEebHTD0F42w92F6tVrZMygX7ZsiYPJW29Ptr488Kaf9z+YJpWr1LAu40tgbtSI3/irFVxP+WiiTJ70jtWX80om9YDUNeviyg3ZA/MMGSLkx592Wae82O9pWbH8e2vbvuIc1CcUmP/y83bp2qW1vQtj3V/3NV7HLnbYA3PnB+i6aC5fzV0i9xS5UTpFl2LRJVn0UqtWPRk/Ie7fkR7d2nr8m9K/stBfUphfRNh/dXBbAnMvS/e4MmEfAggggAACCCCAAAIIIIAAAgj4V4DA3L+eSdabL4G5fsjnvLlfGyUxjAGpEg66DMvWbb6Fsu7ezK0G5vXqN5K33n7f6v6hRtWs0hnWzpsr9gA6oYdxOp/rHJjrWdR6NrWrxR4s30pg/kK/wdK5yxPWJUaNfEW++iputrF1QK3osLz/gNeMXfrBmLVrljGCaHsbV+tGSZWtv1mBrKeHJdoDZ3upipcGDpEOj3Szup8wfrR8+ukH1rZ9pUvXJ6TvC4Nv7FKfpVpqnOfPnzNql5sPWjx27C9p8lBcwGw//35VZufzz+da4/UlMHcujbJu7Qp59pnH7d1b64ULF5F5X/9w4zpqnANfetYqNaO/7Prks6+stqtXLZO+zz9pbdtX6tRtKO+M+9C+S3wJzPWJCxaukIIFCxt96JnQ+guJw4f/cOjT3LDPdNb77IG5c5juqc739BnzpWSp0ma34iowt5cuOX/urHEvrRNurtgfoHkr99W5X1fb9sBcH/9y1ufy5ptDXTU1vrQ0H6aqG+gvLceMHma1tfel69c/pD6PutSKq2Xa9K+l1P1lrEMd2jWR/fv3GNuBCsxbtmwnrw0dbY2hRrX75eLFC9a280rVqjWNeu0HD6q/fRYEEEAAAQQQQAABBBBAAAEEEEgyAQLzJKN43cAEAABAAElEQVT1b8e+BObTp02XO+8saA3gVh/yaXV0c+VWA3PdzYZNe6y61jpAfbhZ3XhhkRFcvqNC3FSpjCu/P3mcMbv55jC8etmy7Tc14ziN0VbPpO70yMNGOQs9C9he1sJfgbme+b1i5ea4ut4quO3RvV282a4FCxaSefOXWu1O/H1MGj1Yzav3pBvZH3KoA9kunVvJnl/jZiLrNvoBifMXLLecd6uHpnZ+tKU+JNmyZRc9yzyVmj1uLGqczz7zmKxbt+rG9s3/VqhQxQjGzXb2WfPtO3SWgYOGW+2f7dMj3vk6qJ4ydZb1PnVjXwJz3X7x9z8atdD1ul50nWtd79q+6HIkixavk2zZcxi7dVmO6tVKOXwBsWLVFoeHy0567y35eMokezeqFngRmTN3scN4dQNfA/NmzVsbJXHMznUN/ofU/b106aK5y3h9d8IUqVmrvsM+e2CuD6xVs88zqlnoejn8v0PS4uF6xrr9P7p8UXl1r+yLq8Dc+YuSp3o+Kps2rpeQkNTqf6kkOjpa/HVf7WNxt24Puc02I4YPkq/nzTY3jddy5SvJxx+rL7tu/lug72+D+pXUL2ZOWu3s5Vr0Tj0DvXnT2hKlHuhpX5wfoHr8+FFp3Ki61SRQgbnDddTV56ov1l5XX7DpxfnfJ/svQtasXi7PPxf3pZxxAv9BAAEEEEAAAQQQQAABBBBAAAG/CRCY+40yaTvyNjDXs49XLF/pMJhTp045bLvamDPnS5n9pWNI5aqd3uePwNw53NKh74/rVsvvv/8m99xzr+hZyVmy3GENQR+vVaNMvMDRauBm5XtVSiSXfgDmzUUHbXp2dIaICKlQ7l5zt/grMNcddu32pDzfd5DVt17RgakugaFLwtx9T1EpqR7MaYZ/+vjgQc/LksXf6FWvFufyG/ok3f/OnVsla9ZsKjytLHmcHvzpHGg/2fNZebpXX4frXVaB7i4VrP/993H18NBSVvkLo5EK1bt3a2dcQ287lwvR+/Qs9h9/XK1XpYIaQ968+R3ep97va2DuMHNcd6AW/XDRfft+ld9+2yv58hUw3q/5xYg+7upXAvqBqFM/dayBr8uz7FWlc86dOxPvM6f7MRdfA3N9nv1BnkY/yu/EiePyyy875K67Cksh9aBO+5jNazkH5vZZ4bpNdPQ1VcZnt2xXD0EtWbK0ekhuSUmnShs5L64Cc+fSJfqcS2pWc3jatLJAPR9AB7b+uq/O43G17Sow1+0iVYmSgwf2G1+i6WDZ/MLA7MPV8yP0L0r0lyL2fzf0Q1e1+W+/7VMPRc0jhe8u4vhliDreqmUD+eOP382uA/bQT/0lxbbt6iHBN78E0APQn2t9f/9RJY5aNL/xxUiTJi1k5Khx1vj0ezJ/5RG3kzUEEEAAAQQQQAABBBBAAAEEEPCXAIG5vySTuJ9bCcy9GdqyZUtl5OsjvWnql8Bch3KfT5trhMcJXVQHSLq8hrvazZ7Or6LqUE9W9ajjLSp0KlO6sLXbn4G57nTosNHycIt2Vv+eVqZPmyLvvD3KUxOXx14f9Y40bnJjxrjLBradM6ZPFV26xXkZPeY9afhgE+fdLrdHvf6qfDVnhsMxXVJGl5ZJaNEPdKxU+cYsXl8Dc923ERq+ruqA28JFd9c8oEL0dm0buzzs6ssMVw3XrlkuVavVsgLtxATm+tcG8+b9YM16d3Udc99v+/fKvUWLGZvOgbn+0kF/PjNmzGQ2d/l68t9/RM+0N8NlV4G5PtFeLsbe0bcL5xllXPQ+f9xXe9/u1u2B+S71RYK9TIq7c+wPr3Vuo61mzf5WMmXO4nwo3rb+8mzQwOessj1mA4eZ307/Tug29jEP6N9bfTnj/lkWO36OK8OjZ7sfOXLYvIzx+vIrI6VN204O+/SGfda7rsv/1jtxJax0YF6takmHX0/E64AdCCCAAAIIIIAAAggggAACCCCQaAEC80TTBfZEbwNzPcty1crVPg9uyZLF8uboN706LzEzzA8fVqUkbs6YtF/kiSf7yNNP940rDWI/qNZ1qZJu6gF+fx8/5nTE+01dK3jQ4BHWw0P1mTosK1vmbqsTe2C+8Ju5MuS1/tYx55Xu3Z+SZ5+/8fBRT6VU9INi+/TpJ+nVlwOuFj3r/N3xb7qtq+7qHOd9uq6xfqClqxnGuq0uO/PiC0/L+vVrnE+1tjs92kN6qZnm7sapH8Y4QtV/13W/XS36ffbv/6rLe6hrs48YPlh0vWzzoYzODwg1ZpCr8jTG4iKgNK+pZ4iPGPm25FUzyl0t+osVXcpj7JjhRmkRV230vgYNG8vgl0c4zkQ2G6vr//DDd8YXNPZyPtWrlvL51w26yzD1wNpx4z8SfZ9chf16dnf/F3ursix1rZryGzesk6ef6mKOyHiNiMgoX6rQ3N17369m2+sHeH6zcKX1iwp3DwjVQf7EiVPjhdPz5s6UkSNetq57q/fV6sjDij18fqFvTyldupx00c8AcPHFiJ59/fnnH8mk99720OONcib6b0Kbm6WEnE/QpW0GqV916AfuOi/2wFz/sqV82SIOTexj9lRTXp9kD8z1A0p1mRj7ov+9HvzySGnduoPDe/7zzz+MMlVm26/nLzN+kaDD8m/Uv09DhwwwD/GKAAIIIIAAAggggAACCCCAAAJ+FiAw9zNoUnXnbWCeVNe39+ttYG4/J6H14qr8R5UqNeVuVTJBh7y6rrIOeT09BC+hPp2P62C2UOG7JSYmRrZu2ejXvp2vZd/Wtdh1EJj7ZmmY338/IL/u/tljiG0/35v1/PnvlCoqICxduqzK1K4bZVXWrV0l+qGN3i66XEcZFUrnyZPPOOXgwf3y887tsnnzTwl2oYO/B1QZnVq16xslUvR9263e4/yv50hsbEyC5/vSQH9WatSoa9Qbv349Vo4fOyq/HdgnK1d8H69etad+daCqa7TnyZtP5bMhomvcz/lyupw5c9rTaYk6pkPqZs1aqXJDRVXJkwzGNTaoYHzVyptfFHjZa9asd8iNz1N5Vec6rRz964h8++3Xxti97MJqpn/loe93eFi4HFN1vF2Fx0l9X+3hszlbO3369NK+fRdVDuheyZw5qxw9ekR+/fUX+U69z1j1RZe3i+6nSdNWUqRIUVWm6A712bgih34/KCvU58TdA1i97dvf7XQprVLqga3Zc+RUDyo9K1u3bor3d6P//dKlg+x12/09DvpDAAEEEEAAAQQQQAABBBBAAAE1p61gwYLXgUj+AhGZ8khI6tDbPtBYNePy4vnjt30cDAABBIJfwFVgHvzvineAAAIIIIAAAggggAACCCCAAALBLEBgHiR3L236rBIW7rq0RyDfwtWoi3Ll8plAXpJrIYBAChUgME+hN5a3hQACCCCAAAIIIIAAAggggEAQCxCYB8nNC0kdJhGZct320V48f0JiY67e9nEwAAQQCH4BAvPgv4e8AwQQQAABBBBAAAEEEEAAAQRSmgCBeRDd0fB0WSQ8bcbbNuKoKxckKvLsbbs+F0YAgZQlQGCesu4n7wYBBBBAAAEEEEAAAQQQQACBlCBAYB5kdzFdhmySJix9wEd97eplibx0KuDX5YIIIJByBQjMU+695Z0hgAACCCCAAAIIIIAAAgggEKwCBOZBeOcCPdOcmeVB+CFhyAgEgcDaH3+WiAw3ns3Q88lHZcuWDUEwaoaIAAIIIIAAAggggAACCCCAAAIpWYDAPEjvrq5pHhaeQUJD00pI6lC/v4vYmGiJjr4iV6MuUbPc77p0iAACCCCAAAIIIIAAAggggAACCCCAAALJUYDAPDneFcaEAAIIIIAAAggggAACCCCAAAIIIIAAAgggEHABAvOAk3NBBBBAAAEEEEAAAQQQQAABBBBAAAEEEEAAgeQoQGCeHO8KY0IAAQQQQAABBBBAAAEEEEAAAQQQQAABBBAIuACBecDJuSACCCCAAAIIIIAAAggggAACCCCAAAIIIIBAchQgME+Od4UxIYAAAggggAACCCCAAAIIIIAAAggggAACCARcgMA84ORcEAEEEEAAAQQQQAABBBBAAAEEEEAAAQQQQCA5ChCYJ8e7wpgQQAABBBBAAAEEEEAAAQQQQAABBBBAAAEEAi5AYB5wci6IAAIIIIAAAggggAACCCCAAAIIIIAAAgggkBwFCMyT411hTAgggAACCCCAAAIIIIAAAggggAACCCCAAAIBFyAwDzg5F0QAAQQQQAABBBBAAAEEEEAAAQQQQAABBBBIjgIE5snxrjAmBBBAAAEEEEAAAQQQQAABBBBAAAEEEEAAgYALEJgHnJwLIoAAAggggAACCCCAAAIIIIAAAggggAACCCRHAQLz5HhXGBMCCCCAAAIIIIAAAggggAACCCCAAAIIIIBAwAUIzANOzgURQAABBBBAAAEEEEAAAQQQQAABBBBAAAEEkqMAgXlyvCuMCQEEEEAAAQQQQAABBBBAAAEEEEAAAQQQQCDgAgTmASfngggggAACCCCAAAIIIIAAAggggAACCCCAAALJUYDAPDneFcaEAAIIIIAAAggggAACCCCAAAIIIIAAAgggEHABAvOAk3NBBBBAAAEEEEAAAQQQQAABBBBAAAEEEEAAgeQoQGCeHO8KY0IAAQQQQAABBBBAAAEEEEAAAQQQQAABBBAIuACBecDJuSACCCCAAAIIIIAAAggggAACCCCAAAIIIIBAchQgME+Od4UxIYAAAggggAACCCCAAAIIIIAAAggggAACCARcgMA84ORcEAEEEEAAAQQQQAABBBBAAAEEEEAAAQQQQCA5ChCYJ8e74sWYQlKHSVh4BgkNTSshqUO9OMO3JrEx0RIdfUWuRl2S2Jirvp1MawQQQAABBBBAAAEEEEAAAQQQQAABBBBAIAgFCMyD8KaFp8si4WkzBmzkUVcuSFTk2YBdjwshgAACCCCAAAIIIIAAAggggAACCCCAAAK3Q4DA/Hao38I102XIJmnC0t9CD4k79drVyxJ56VTiTuYsBBBAAAEEEEAAAQQQQAABBBBAAAEEEEAgCAQIzIPgJplDDPTMcvO65iszzU0JXhFAAAEEEEAAAQQQQAABBBBAAAEEEEAgJQoQmAfJXdU1yyMy5brto714/oRPNc2zZ88p2bPnkH37fr3tY/c0gGLFS0nevPmMJgcP7JfDh//w1Pw/fyxQ9zVQ17nVG5o7T14pUeJ+o5tTJ0/Kzp1bb7VLj+fXq9/IOr5q5TKJjY2xtlkJvECRe++T8+fOyokTfwf+4lwRAQQQQAABBBBAAAEEEEAAAQT8KkBg7lfOpOssbfqs6iGfEUl3AS97vhp1Ua5cPuNV60GDh0u79p2Ntkf+/J80b1bHq/NuR6PZcxZJ0aLFjUsvW7pIBvTvczuGERTXDNR9DdR1/IH+7HMDpHuPp42uTv77jzSoX8kf3brsIyQktWzbcdA6VqdWWTl71ru/SeskVvwm8OWcxXJv0WJGf4sXzZeXB7/gt77pCAEEEEAAAQQQQAABBBBAAAEEAi9AYB5480RdMSJTHglJHZqoc/15UmxMtFw8f9yrLrduPyCpbWPu/XRX+emntV6dG+hGBObeiwfqvgbqOt6/c/ctCczd26TkI/c/UFY+nzbPeovXY2OlfLl7mfFvibCCAAIIIIAAAggggAACCCCAQPAJEJgHyT3LlLVAshnp+TNHvBrLhk17JG3adFbbLo+2lF27dlrbyWmFwNz7uxGo+xqo63j/zt23JDB3b5OSjxQqdLd8vWC59Rajo69JpQr3qcA81trHCgIIIIAAAggggAACCCCAAAIIBJcAgXmQ3K9gDMy7dHlcnlGlKkLVLPNNm9bLUz1vlGcJFHlISIj8+NMu63IPNaou59yUriAwt5gSXAnUfQ3UdRJ8w140SImBuS9/P14Qpdgm74z7UOrUaSAxqo78J1Pfl8mT3kmS9/rV3CWSL/+dRt9jRw+T+fPnJMl16BQBBBBAAAEEEEAAAQQQQACB/7oAgXmQfAKCMTDXtLrectq04XL58uWAS+vAb9uO363r1q1dTs6cOW1t21cIzO0aCa8H6r4G6joJv2PPLVJqYO7t349nnZR/VP+SRs8uj46OTrI3u2btDsmUOYvR/4Txo+XTTz9IsmvRMQIIIIAAAggggAACCCCAAAL/ZQEC8yC5+8EamN9OXgLz26n/37o2gfl/637fjndLYH471LkmAggggAACCCCAAAIIIIDAf1GAwDxI7jqBue83isDcdzPOSJwAgXni3DjLewECc++taIkAAggggAACCCCAAAIIIIDArQgQmN+KXgDP9SYwr127jrz2yqvWqJYtXy5vvDnK2nZeafRgIxnQf4C1e9XqVTJi5Ahr292Ktw/9zJs3vxQrXtLo5t9//5Ffft7ussuqVWtKteq1pWTJByR3nrxy6uS/8ttv+2T9+tWybOlil+d42lmqVGnJmSu3KgcTImPGTrKaDh/6kpy/cN7YPvrXEdm371frmKuSLLlUH71695NixUpI5ixZ5czpU+qcPfLtt/Nk29ZN1rmeVvR5vXu/IPfdV0Jy5sxllGz49+Q/suuXHfLxlEly/vw5T6f7dKxly3ZSv0FjyZMnn2SIiJCzZ87IsWN/yZwvp8uGDevc9lWseCnJmzefyHWRNWuWG2Ns9FBzadaslRQsWEiiY6Jl6seT5duF84w+vL2vunGLFu2kSdMWkitXHuPcnTu3ydKli+Sn9WvVgxFjjHueK7c6pq69atUyY5/RUP3H03XCw8Oleo06RtO/jvwp+/fvMcr/1KxVVxo2bCIPlC4nV65Eyu8HfzP6XbL4G7Nbt6/689JA+VWoWEWKK5Ns2XMYn8X//e+QbN70kyxY4L5mtD8D84iIjNKnj/rcqTHoz8y1a9fkxInjMmfODOPvQZep2bbjoPU+6tQqK2fd1OYvU6a81KxZT0rdX0by5y8gFy9ekCPKa+/e3fL5Zx9KVFSU1Y+5kpi/H/PcTJkyy4ONmkm5chXl3nuLSdp06eTE38fkjz9+lyWLF8qWLRvMpj6/6n8bSpS43zhv1y875Z9//jb+xh99tIfxuc+RI6dh9be63po1K2TWzM+8fvim/jw9/kQfKa0+N/qzGhYWJvrfLD3uKR9NVGaH3Y63eIlSxt+cbvDb/r0ObV2NOUOGCGn0UDOpV6+RFC58j5xW/67of+/mzZ0Z76HI+VXN8qL3FTeuPWLk25IuXXpj/Yfvv5Vly27823j50iWPf9/GCfwHAQQQQAABBBBAAAEEEEAAAQS8FiAw95rq9jb0JjDXI5wxfYYUKHDjwXB6+9XXXpG1a9fqVYclR44c8uWsLyV1aKixP1qFcq3btlbB21mHdq42vA3MXxo4RDo80s3o4vjxo9JYPXTTvugweerUWXL3PUXtux3WDx06IE/37GKEYw4HPGx8t2iN9XA8d82uXb0qFSvEXdcemC9etED2qzC9b7+X3Z0uS3/4TgYNfM5jIPf6qHHSuPHDIqlSue7n+nVZsmShDB70vOvjXu5t0qSFvPzq61aY5uq006dOSu9e3Ry+JDDb2d+7Dgdr1aov9xYtZh42XletXCov9O1prCd0X3WjcuUrycSJUyVd+gzGOc7/0f5dOreSN0dPkIJ3FTYOjx0zXGZ+8anV1NN1ChcuIvPmLzXa6mC8XZuHZO68HyRMBZ+uFh1kPtXzUbc17HV/Uz6eKXdky+7qdGOfNnzl5RdchpP+CswHDhwq7dp3llQqvHe1HDt6RFq3elA2bNpjHXYVmKdPn14mvz/N+OLAaui0ou/Be++9JdM+n+JwJDF/P7oD/SXL8BFjJU2aMIf+7Bt79+ySF/v1Mr7Ise/3Zt1uvHvXTpk4Yay8O/Fj9YyEdC5Pv6q+DHjt1RflB/W36mkZ/PIIadOmo1tzfe4+9QXD4489IpcuXYzX1dfzl0khFXzrRX+ppK9pLs5jnqlC/FHq3wV3/yYsXjRfXn3lRevflSFD35QWLdub3bl9bd2yoeh/K1kQQAABBBBAAAEEEEAAAQQQQODWBQjMb90wID14G5hnzpxZzVScZ4VW7oLwOV/OUTMpc1tjHzR4oPz000/WtqcVfwTmOqCc/eV3kkbN5ExouXbtqlStXMLrB+p5FfipPiuWdx2Y65mrOXPG2bgb33I1w7P/i73jHdYzlWd8scCYIRzvoIsdOsxt366xiyMJ73rm2f7S47FeCTdULa7Hxkq/fk+LDr/tiz0w1+GzqwDSl8D8wQebGkG4u1DQvLZ+SGJkZKRkzJjJ2DXunVEO4a23gbl+X1FXo1yO27yWfj2sZoq3eLiefZex7u14jcbqS44O7ZsaM9rtHdmD0ZNqZnKD+pXsh71af3fCFKmpvqxIaNH9Z1ezqc3FOTDXn91vvl2ZoId5vvMDJBPz9/PKq6OkdZtHzC49vl5WoXOtmmW8/ns2O7Mb6y8v7rgjm9vg2TxHv44ZPcyYbW7fZ65Pm/61Mfve3Pb0eknNzm/XtnG8sN/bwDzy8qUbX2q5+wLt5sX1L0LeGPWaseVtYN6u7UNyQM1SZ0EAAQQQQAABBBBAAAEEEEAAgVsXIDD3wlCXaXikYzfR5Q30smPHViOAMX8S70UXt9zE28BcX6hy5coy+s0x1jX/OnJEOnXuZG3rMixNmjS1thct+k6VLolrbx1ws+KPwFyH5UVVmRJzOXhgn6xbt0q2btkoFSpUkVq161uzNnWbD94fLx9+8K7Z3OPr0GFj5H5VgiKVCqbuKnS31VbPzjVLUJw9e1p6dI+buWkPjc0TdBC7R82I1bPJL6qQT5f6qFTZNktehafNm9VxKMGgz9UzVtu2e9TsxigNslN9Zn74/juJyJhRqlWrJeUrVJbQ0DRWm0+mTjZmzFo7vFipUqWGTP5gmkNLHfZv3PCj/PzzNqlevY6ULVvBKCdjNtIhdYN6lRxKeLh677q9/lWALqNzl5oBvn37FiN41Ps9Bdn6VwPLlm+0vrDR7c+pciGbVEmTjRvWSukyFaRyleouv5BIbGCur2Eufxw6KKtXLzNKXGgfXVbGPltbz+Z3Ls+yYtUWFb5mN7uQI3/+zygHtF6VjSmsPj8dO3WXXLnzWsd1WFuvbgVrW6/Yw9zEBOY6bNahs7Woz5YuB7Jm9XI5eepfqVOnoehSKa5m0DsH5s7Bux7v1q0bjVI4mTNnkWbNW6vSIzf+LdPX05/zpk1qWUGwr38/WbPeIStXbbXCa92fLpGzYsX3Roirr9WhY1eHAF+/r+efe8J6u96s2I3t7fXna/v2zfLjj6uN96U/Xzly5LKaOL8/84Dz36lup8vvmOb16j2oSsA84GCu/w1p0rim2YXx6m1gbp6kr7NLzZDX//+hQ/jG6hci5dW/eeaij+svXE6p+9a2bSfj/3v0Mf13aH6WIyMvy9/Hj5mnSK9eXR22rQOsIIAAAggggAACCCCAAAIIIICAzwIE5gmQeZrBm5iQM4HLuT3sS2CuO+n3Qj9p3lyVA7m5zJs3VyZMnKDC6Ary1ti3zd1y/NgxFWZ1sLa9WfFHYL55y35rdrm7mdoTVLmFGqr+sl50KFZb1Wr2ZUnsQz+Na6jA8sknOsWruazLn4zUJRVuLgvmfynDhg40NyVfvgKiZ+ias6v1bFodfl2+fNlqo1eKFi0uM2YusEJzPYvePuPdobGbjR/X/6JqlWe0jjoHzuYBu6Pet3PHFunerZ15WJwDcx3YPdKhWbxZ1OYJngLzd8Z9KHXqNjSbGqVt9Ixs52Xy+59LFVW73r44j9/TdewlWcw+pk+bIu+8bQud1YFCKvDWgaZ5P5zfe4OGjR3q3Ou613pGsvMyZux70kB9YWIunTu1kN27fzY3bykw15/TjZv2Wn8Poj57fXp3V6G9+hzZFl1mZemyjQ73XB+2B+a6hvjqNdutYFV/gdCqZQNbLzdWnT/Hs2d9pr5kc3zf3v79ONs8+XjHeH83oar0k/67ML940F/cVCh3b7xxedrhKjB3vp/m+UOHjZaHVf18c9ElVfRn2lx0bfBvv1ttfS70Z76Tuqe6ZIx90bXMl3y/3qFUz/hxb6j67x9ZzXwKzNW97fV013hlffSXMv0H3JhVrjt2vobex0M/tQILAggggAACCCCAAAIIIIAAAkkvQGDuwVjPLB/zVtxDI101HaBKcgRiprmvgbke6xfTv5D8BQpYw9ZlV4a+NlTC06Y19ulyLW3atVF1nc9YbbxZ8UdgvnX7AUmd+kb99G/UwxSHDnkp3qWzqXrSH340Q/5SD+jUM50/+eT9eG087fA28NN9OIfGw9R43D3kccHCFephmIWNS+uHd+pa3OZiL6GgQ7j27Zu4LZVQu04DGTc+Lnh7UZVLWbH8e7Mrj6/6QamTVOhsLt8s+EoZDjA3470u+EaN+WatcD2uypWKyVVVw1ovzu994IBnPNZ99hRk69raZkmXv9UM9SaNazk8yNM+MF2DXAff5nIrgbmuad350ZZmVw6v9i8M9Az8BxvEzebVD0p9qldfyalmJP/z7wmHY/ZO9Gfpx592WXXinQNNe5jr6wxzoyTMmInW5Sa+O8btZ11/AfDVvO+tvx19kj0wL3LvfTJWPeg2/83nGDRqWE1OqofMulrs5UhcBc/e/v28ourn619fZFRhvf41xkvq8+NqMb5MWrzWOlS3djm3NeWtRrYVu7HerR8m2vihmm4/XzNnLYwri6SC6koV77M+88OGj5XmD7exeh/QX/077uYBw9mz55RFatzm7H79uX7I9jwGXwLz9yePk48+nGBd176yas02yZLlDmOXfqjnwJeetR8mMHfQYAMBBBBAAAEEEEAAAQQQQACBpBMgMPdg+8mnc6SMKmnhadmhSlX06B43k9FT21s5lpjA3LmeufP1X355sPy4/kfn3Qlu+yMwt4fOerZp1y6tZc+vjrM7ExxIAg28Dfx0N/bQOKHZ3sbDPNVMc738n72zDpDaaMP4++EuLcUpVhyKu7sVd5fiXHEv3pYiRVscihV3Ody1OJTiVkoLlGLFivebN0dys7lkN7uX29u7e+aP3UkyGflNMkmemXlHL8DKotehQ/uoU4fmSjiznxMnr2qjgVevWkLDh/U3C+qwn02xsMkRdry4IYuBzhzbq9+89ZAWZOS3g2npkgXKtlx2NvXA9uKdOTPBXD/q+6vh/WnVyiWmUZUsWZYmTJqlHQ+OYC6XR4vwvadtOz/q1LmnssU22gsXzKoPIkb6RxEidGTNZE+QAGIH26XPlj2ncmjrFn8hDPtpwWQx113BnBcbVU1yPHnymEoUC0hDi1znGSXE9QrCTrzqZMFc3cf/sWPHMVykUg3ToWM3at+hq7L5t+gsqFCukHpI+Xfn/uETeAT8ixcvtAUrHSJ7v3H4yAVNeHang4hPlxnzNi/ievjnA+w1dCx0b9txWDs24ptBtHzZT8q2PFr7rJgp0FSMLnfm2rTtTJ39emlBeLYLz3ph545gXrzop/RUmGExcgt+Wk3ZhdkddkYdQHKe9XbnjeLDPhAAARAAARAAARAAARAAARAAARAAAc8IQDB3wu3kqWvalH3TYGLkYu5cAaONTcPYcMATwZyTLVyoMI0cOSpIDjZu9KdRo4PuDxLQYIcdgnn3Hv2peYt2DrGz+MwC2MGDe2nf3p1OxT6HE0023BH8ZNHYzIyFmkznzj2oTbuAUbR6e9ayAP5ajOA+fjxQsFPPl//zFyisjRY+JMrN5hqsOB7xmlyYf2HnKr9qfEePX9JMwKxft5IGDwoQAOWyX7xwVlnUUj3H6N9MMNebN3E1gjh69Oj0sxBQVRccwbycsCnONp+NXKXK1enbkQH27610LvAIeV6vgK+fh8LW/W/Cljib1JHNzezds526dgm0wS2Lue4K5hs376dkyVIoWbfCv0HDZtSv/3CtqGaCuRqAy8FCbHwxApzFWrbT/fDhA6pcpQaN+HaCEuzBA2GXvbRj56A794+alvrPs0OyZs1Bb9++pTt3btPvv19XFvncsVPYixfH2PH1x9ehVScz5nPy583gcuFQ+ZqXZ7LI96mZGR45X5nFeguLxboLqvPr1FIzmWNVMOdFP4sUzq5GEeR/3PhpwpxRRWW/3oQM74RgHgQZdoAACIAACIAACIAACIAACIAACIBAiBCAYO4Ea3gQzLl4Y0aPoQIFCmolffLkCX1WLdAes3bAoscOwZyTmjZ9geMimrr0WYzetWuryP9wpyN/dadpm+4IfrJovGP7JurVs5MWj97TSQjmbQ0Ec70ArD/P1bbRqFKzc/buP01x48ZTDvtvWEUDvwwYQW0Wnvf7b9pHyZOnVIIcPXJQsdHOG3LZt231pz69A0dOK4F1P2aCeatWHahLtwDTOtxZUCB/Jt2ZQTcPCDMnscRIaHbBEcxz50wbNPL3e6wI5mwuZKwQLFOnTquZlJEjZLGT7aDHjBlL2W2nYC7Xpd4mvpwH1a/Y32Y7+e+dkWDOtrfHCHNSefMWDGLznE/jWRTPhH191QSIHYJ58eKlqb9Y8PajjxJrHTNqHvmf00goTI6oC1cGRzDntQGKFskhR2/o3yQ6I5K+74xQO6S4Q4RNB6nuC7/WtF8sOOzKyc8DtnPPQjs7q4K5q44UCOYKTvyAAAiAAAiAAAiAAAiAAAiAAAiAQKgTgGDupArCukkWLlrcuHGFWYzVxAKa7Pr06U2Hjzgf/SyHl/12CeYcJ4/Wrl23EX3wQcCoUzkd1c9mQtqLBTjPCDvV7jhPBXNXorGZYK630exOXjmskR1pszhk0xaTf/iOZs10bmuf45k3fyV9mjOPEiUvbti4UXXFb5dgLputMDN9oiQo/ezdd0qxfc27Qkswr12nIQ0QQq9qU1/KnqnXTsFcrktn9svlzJw8fV3b1AvmWcTIbrb9r3aoaAGdeIIrmOttgjtJSjsUHMH81q0/qGrlAJNEWoQGngXCjE7292Z01PUG9Peps9kJcpQHfz6rdZjMnPE9TZk8TjkMwVymBD8IgAAIgAAIgAAIgAAIgAAIgAAIhH0CEMyd1GFYX/STizZ/3gIxajZ1kFLyCNM6devQP//8E+SYqx12CuZqWqlSpaaqn9WinELQZVMO8eInUA8p/2zbuVSJPKYL/DkEfr/hbcGc7WAfPX5ZywoLwGxaxqpjMxmP3ttFdnXO7j0nKH6ChEqwXTu3UI/uHVydQtu2H6ZEYvQvu4MH9lBnYVaCnV2CuWzig+MtJkYA8yhmMxcpUmQ6LhZ/5ZHb7EJDMNcvnsr54NHLly9fpOvXrygjsFOJBTTTiMU2ZUHdTsFcNrXhbNFMzhs7vXkQWTBnO+I8Yl3OK4/2v3HjGp0796sQfGMq5l8+yZDJYSR9cARzeaFbJYPCTNWDh/fpwvmzxLbRPxILqqZL9wklTZpcq2sOFxzB3GqHjGwCRq0z/X3av19X2rxpnZJ1sx/lWj15RTss2+eHYK5hgQcEQAAEQAAEQAAEQAAEQAAEQAAEwgUBCOYuqvGLLr2p9efG5jl+nD2Fvp80xkUM9hz2xIZ51y5dqXbtOloG/rh5k1KmCrB7zTt5u0mzJtpxq56QEMz1abPpEF4MUbXTzceHD+1Lq1cv0wc13fa2YM4ZkW0jL1k8l0aNHGaav+AcWLt+J338cYAZklt/3qSqVUq4jE7O28oVi+nrrwYo59glmGfNloMWLgoUHl0JkfnzF6YZoo5VFxqC+bLlGylDxixKFnjx2aaNa9LFi4HmOtS88b/c4aCKr+px2b62K9Mb6jnq/wZhXiVFyo+VTSv26Fu37khfdO2jnk6yYN6tez9q0bK9dmzUt0NoyZL52rbsYZMt5cpXUXYFRzA/cuwiRY0aMIPl/r2/6bOqJcXin//KSSl+xWTR4fOaaB4cwZwjdNUhw2Hka54X/OSFP/X7165ZTkOHBPJUAuh+9Ndqm88b0vFjATN0IJjrYGETBEAABEAABEAABEAABEAABEAABMI4AQjmFiqQR5o3atxSWQiQg588eUyxX7tt20YLZ9sTxF3BvED+AjRmzHda4vfv3ROmT2oLYWgolS5dRtu/bt1aGjturLZtxWOHYM52mAsWKkqxY8Wm+fNnGSbLgvfPQmCL+t6cjLxon+EJup16wbx82YJ0795dXaiATXdEYzOTLBzTlm2HKHHipEqkRgv3BaQW+Nu4SSti8yh8TbnjvhkxnqpUramcwkJv4YJZnS6AqBeze/XoSDt2bFbOd6fsfIKZDXM+JounZ389TU2bBOSRj+nd1GnzqVDhQLMaoSGYy/bDt27xp759zO23y+KrnYL5d2OnUNlylRU8VhYl1XOTBfMZMxdS/gJFlLh4dHeFcoX02LVtWai3Ipgb3T+xhf35/cIOvep69RTX1faA60rdp/4XEPmaLvKnuuAK5gMHdCd//zVqdEH+M2XKqsyeUA/I1/zmLQcoCY94F45H39esXlYNZvjfp+8Q5RmgHBQj6AsVzKKtqxAagvkP339Hs2e5NsNkWBjsBAEQAAEQAAEQAAEQAAEQAAEQAAEQcEoAgrlTPL5z0B3BPF68eMJu+Spt1Ofbt2+pSdPGdPv2bWIReeWKlcJm+Ida4fr160uHfj6kbbvyBFcwL1uuEn03dqqWTOVKRenO7VvatuyRBWhXi3HK57FfL5jziGoeWW3k3BGNnQnmPXoOoGbN22pJjPh6IC1fHigSageEh8Xy3n0GK7vYRE6pErnp+fPnchBT/yefZKTlK7doxy9eOEsNG3ymbcseFjW3bD2oLf7IaRXIF7ggpztl53idCeayYMthzUTonr0GUtNmn3MQzYW2YL5u7QoaMri3lh/Z0659F+rYqbu2y07BPHfufPTj3OVa3Lt3baPu3dpp27KndJkKNG78dHmXwwhztl1eoGBR5bgzO99sy37evBXaaG8rgrnR/RMvXnzaI+zQq65zxxZ08OBeddPhf8FPqyl7jlzavuAK5ty5UKVyMbovFgfWO16zgdsOdVFT7lTKnzejFkyeEcA75/w4lSZNHK0dlz25cuWjOXPFzJb3poOuXL5A9eoGdHBwOG8J5rIZJnUBUzmfsp/NNRUrWpI2bVrvlhkrOQ74QQAEQAAEQAAEQAAEQAAEQAAEQCCiEoBgHkZq3h3B/KcFPxHbXVbdODGCfK0YSa66FClS0MIFC+l/Qjxn9+b1a6pTr46wn/1IDeL0P7iCOUd+6PA5zYYyi3U1qpWhp0+fOKSriIPjpmlC1dQp42nG9EkOYVxtHD1+iaJEiaoEu3btMjVpVEMxFxEjRkwHsxHuiMbOBHMWqnbsPBJoQ1qMRm3dqn6QEeSpU6ellau3auH+unOLKlUMEDpdlUk9vm79Lkr1cRp1U4zs3US9enbSttnDwuEKIazL4davW6nYj1YDulN2PseZYM626Neu26ldWxyexfxNwkY0jzwuWqwkVaz4GeXOU4APObjQEMynTV8gZjoUU/JhJsB+3qYz+X3RyyGvdgrmHPGOXUcdFr41Wsg1XboMtGzFRu2aUTMkjzBv0LAZ9es/XD1EXfxa0759u7Rt9rBAP3P2Yod4jARzDmvl/pEXbr3xmxitXSPoaG02r5RPmOCRXXAFc46Lzd9UrVKcXgk77bJbvGQ9Zc6SXdulvzfixIlLu/Yc19oGDmhk8okXCF29Zrs2y4XDcWcGd2qozluCuZwOm7ypU6sCcaeIvi1r2LC5uEeHKu0mdxTUF+L+9etX1eziHwRAAARAAARAAARAAARAAARAAARAwAUBCOYuAPnKYauCeY/uPahGjZpatk8cP07dewaOjFUP1K5Vm7p27aZu0p9//iFGPDfWtp157BDMBw/5lmrVbqgl8/btG9q/bzddvXqJePQ0j4BVR4dyID5esnhup4tIapFJHtn0Au/+7907evz4HzHaOo7DiFN3RGNngjmn0aJlO+rWvT97NceLlv5y+oRiEib9J5koe7ZPtY4ADjSgfzfatDGwU0M70YmHzdqwaK52fHBQ5vT7jd/ojz9u0CcZMlMy3UKLRounulN2TsOZYM7H27bzo06de7LXqWMx7/mzZ9oCr6EhmNeqVZ8GDx0VmE/RwXHjxnU6IBZFZbE0hxgR/cGHiQKPv/fZLZjnyZOfZs8Ro5glxwL++fO/ioV5Hwa5H6RgDiPM9SZSOBzbFd+/f7dySv78hYjXB1BHSys7xY+ZYG7l/vlh8hzREVJKjUqYBnotzAz9SidOHKHs2XOJRXyzU0xheknv7BDMlThFnd26/SddvXKRUqZMTWnSpHO4J1hc5tkbLwVP2dWp24gGDhoh7yJmzjbsn4qFX7MKwV1dWFcNdOzoIWrbxrGdlIVsfWeUPJLdlW37ceOnUekyFZWkjMw5yWaY1Pw8evSAEsRP6NApJy90yuH016p6Lv5BAARAAARAAARAAARAAARAAARAAASMCUAwN+bic3utCOaFChUSi0wGmhV4+vQp1axVg16LEeRGbsL4CWK0aR7tkL//Bho9JvB87YDOY4dgzsLevPkriMVjV44FuH59u5jaRnZ2fmFhI3uKsJUdxAmRLXeudNpud0RjV4I5Rzp02CiqUbO+Fr8zz4L5M2ncWEfhzll4+Vip0uWFeZspDqOF5eOy/5kYwd+kcQ1FEJb3u1N2Ps+VYM5hmjRtTb2E2RW9MMvH2LGw36pFPfrq67GUWgic7EJDMI8UKTItWryWMmXOpuTB7Ievwd/EKF3uhGCnFyHdEUbN0jDqaDEKy2kXEeY21JkT8ghzDs9mftjcjyt3+Of92uh6M8Hcyv3DAjxfQ3HjxnOaJAvGvPBnXGHGhV1wBHPObywhwvPoameOzQ+1+byR0lllFE5vQskojLrv8qXzik1+/Wh2bwnmPCp+5+5jmqktNV/879eppdLJw37ZjBVvb9vqT316+7EXDgRAAARAAARAAARAAARAAARAAARAwAIBCOYWIPlCECuC+ZbNWwIFJCEIt+vQToyWvGia/ahRo9K6NesoVuzA0Z+tP28lRnk7n77viWButrAej0bu2LG7w4hQOcNsqqRly3qmNs7lsGZ+HkXcf8BXDmYVeKR5ntzptVNk0diZLWs+oVWrDtSlW1/lXGemVHihWD+/noJvHC0d2cOjvSdOGGlqV10O68zPpjpGjZ6kiblBwopr4ciRg9RTLPSpN3vDYd0pO4eXBXOzeuVwH4qR2T16filMcRRSRsHyPi4zjzyeOGGUmNVw00HcGzN6OC1aOIeDKc5ZOlxmNmmjOF3nR8DOwN9KlavTtyMnKjt4BHHBAgGid2AIUuyCswkgI/fPo4diBG8D+rxNJ22hVb1tdlkwd2Y73Ch+eV/5ClVowJdfOcyu0I6Lcm7ZskHpPJJNpRQrkiPIzAu+9nr3HmR4X7GI/NXwAfT4n0c0YdIsJXpnC4RauX9YzF0qRPPkYlS+kWOzPC2a11HM9aiLbTpbINQoDpnx3bt3qHnTWrRw0Tr6MNFHRsGJTTB169KWbt68YXhc3ckmgriTwSye18Lcy6qVi2nkyKHqKQ7/smC+fNlPNOKbQdpxOc+urgtXI8w5Ul68d9Kk2UHy2k6Mej8qRr+zqyoWAx721RilE+25GCnP9tY5bTgQAAEQAAEQAAEQAAEQAAEQAAEQAAFrBCCYW+MU6qGsCObeyqRVwdyd/LAQVLhwCUqfPoNiW/zwzweUEZNGAq878cphWWRNmy69GN38lo4d/dlQPJbD2+VnITZXrryUlM2jCHf16mU6++tpbUSoXemwCZFy5SsTlzNWrFjClMcjJS02E2EnR7vyy/EcPnKBoolRx+y6dWlDe/bsUPyh8cOjn3nkdvHipSl27LjCTMnfoo72ClNBjjbAvZG3IkVKUH5h8ztZ8hRikH4kRfxdtnQBPXz4wHLyvOhtTmHaqGSpcop5Gb4GfhXX3epVyzxaCNLK/ZMw4QfCrAhf7/lE510M+vOPm7R+/Sol/5YzbhJQFp9l8ybMidNMkSKlaDteKNf89m2b3E6T81yocDFKmzagI+3u3b/o3LkztGUzL5z5ziRXobM7ceKklClTFmWU/Zkzp4II4lGiRFHM4Zw6dSx0MohUQQAEQAAEQAAEQAAEQAAEQAAEQCAME4BgHkYqL068ZBQpcpRQz+07YUrj6ePboZ4PZMA3CbBIW1SIzjyq+9Sp48Qjbs0c22Bf779HO1z9s1IuRwNrgeGJcATMBPMIBwIFBgEQAAEQAAEQAAEQAAEQAAEQAAEQCFECEMxDFK99kceIlVCMxDU27WFfKq5jevXyKb14/tB1QISIkASmTV+g2cUmYUKkdq3ydF3Y/jZyc+etoJxi5D07M1MpRudhX8QkAME8YtY7Sg0CIAACIAACIAACIAACIAACIAAC3iYAwdzbxD1ML1LkaBQnXhIPz7bvtKeP/6J3b1/ZFyFiClcEMovFMxcv3aCV6f69v4UN5UoOpkR4FPqIbydQxUrVtHC7dm6hHt07aNvwgICeAARzPRFsgwAIgAAIgAAIgAAIgAAIgAAIgAAIhAQBCOYhQTWE4oweMwFFjxE3hGJ3He3LF0/o5b+PXAdEiAhNQF5ElEHwAquXLp2nO3duU9Jkyenjj9NQzJixNEa8qGL58oWIF9eEAwEzAhDMzchgPwiAAAiAAAiAAAiAAAiAAAiAAAiAgJ0EIJjbSdMLccWM/SFFjRYoNnohSSWJ16+e07/P7nsrOaQThgnEjh2HZs9ZKhYlzOqyFG/evCa/zq2IF3mFAwFnBCCYO6ODYyAAAiAAAiAAAiAAAiAAAiAAAiAAAnYRgGBuF0kvxuPtkeYYWe7Fyg1HSXXt2pcaN2klbO9HD1oqYd/8woWz1LVLW7p7907Q49gDAjoCbdv5UceO3ZW9V69eEqZ+KutCYBMEQAAEQAAEQAAEQAAEQAAEQAAEQAAEgk8AgnnwGYZKDGzTPFr02BQlSgyKFDmK7Xl49/YNvXnzQizG+Aw2y22nG7EiTJAgIZUoWZYyZMhMr1+/ot9+u0bbt22k58+fRywQKC0IgAAIgAAIgAAIgAAIgAAIgAAIgAAIgIDPE4Bg7vNVhAyCAAiAAAiAAAiAAAiAAAiAAAiAAAiAAAiAAAiAAAh4gwAEc29QRhogAAIgAAIgAAIgAAIgAAIgAAIgAAIgAAIgAAIgAAI+TwCCuc9XETIIAiAAAiAAAiAAAiAAAiAAAiAAAiAAAiAAAiAAAiDgDQIQzL1BGWmAAAiAAAiAAAiAAAiAAAiAAAiAAAiAAAiAAAiAAAj4PAEI5j5fRcggCIAACIAACIAACIAACIAACIAACIAACIAACIAACICANwhAMPcGZaQBAiAAAiAAAiAAAiAAAiAAAiAAAiAAAiAAAiAAAiDg8wQgmPt8FSGDIAACIAACIAACIAACIAACIAACIAACIAACIAACIAAC3iAAwdwblJEGCIAACIAACIAACIAACIAACIAACIAACIAACIAACICAzxOAYO7zVYQMggAIgAAIgAAIgAAIgAAIgAAIgAAIgAAIgAAIgAAIeIMABHNvUEYaIAACIAACIAACIAACIAACIAACIAACIAACIAACIAACPk8AgrnPVxEyCAIgAAIgAAIgAAIgAAIgAAIgAAIgAAIgAAIgAAIg4A0CEMy9QRlpgAAIgAAIgAAIgAAIgAAIgAAIgAAIgAAIgAAIgAAI+DwBCOY+X0XIIAiAAAiAAAiAAAiAAAiAAAiAAAiAAAiAAAiAAAiAgDcIQDD3BmWkAQIgAAIgAAIgAAIgAAIgAAIgAAIgAAIgAAIgAAIg4PMEIJj7fBUhgyAAAiAAAiAAAiAAAiAAAiAAAiAAAiAAAiAAAiAAAt4gAMHcG5SRBgiAAAiAAAiAAAiAAAiAAAiAAAiAAAiAAAiAAAiAgM8TgGDu81WEDIIACIAACIAACIAACIAACIAACIAACIAACIAACIAACHiDAARzb1BGGiAAAiAAAiAAAiAAAiAAAiAAAiAAAiAAAiAAAiAAAj5PAIK5z1cRMggCIAACIAACIAACIAACIAACIAACIAACIAACIAACIOANAhDMvUEZaYAACIAACIAACIAACIAACIAACIAACIAACIAACIAACPg8AQjmPl9FyCAIgAAIgAAIgAAIgAAIgAAIgAAIgAAIgAAIgAAIgIA3CEAw9wZlpAECIAACIAACIAACIAACIAACIAACIAACIAACIAACIODzBCCY+3wVGWcwUuRoFC16bIoSJQZFihzFOFAw9r57+4bevHlBr14+o3dvXwUjJpwKAiAAAiAAAiAAAiAAAiAAAiAAAiAAAiAAAiAAAmGDAATzsFFPDrmMHjMBRY8R12FfSG68fPGEXv77KCSTQNwgAAIgAAIgAAIgAAIgAAIgAAIgAAIgAAIgAAIgEOoEIJiHehW4l4GYsT+kqNFiuXeSDaFfv3pO/z67b0NMiAIEQAAEQAAEQAAEQAAEQAAEQAAEQAAEQAAEQAAEfJMABHPfrBfDXHl7ZLk+ExhprieCbRAAARAAARAAARAAARAAARAAARAAARAAARAAgfBEAIJ5GKlNtlkeJ16SUM/t08d/uWXTPFGixJQo0Ud04cLZUM+7swxkyZqDkidPoQS5cvki3bhx3VlwHAOBYBHg661atdqUP38hip8gIT198oSWLp1PS5csCFa8ZicXKVKCYsYKmJly9Mghevz4H7Og2O8GgQwZM9Pjfx7RX3/dceMs94JGixaNcubMS0ePHnLvRIQOdwTC23MqevTo9JloB0uWLEcZxb307r//6I+bN6hXz07hqo0Kb/Xm7MYqVbo8lS9fmXLkyE3cdj14cJ/GjB5OJ08ec3YajoEACIAACIAACIAACICAzxGAYO5zVWKcoRixEopFPuMYH/Ti3lcvn9KL5w8tpdh/wHCq36CZEvbm779R9WqlLZ0XGoGWLPOnTJmyKklv2+pPfXr7hUY2kGYEINCiZTvq1r1/kJJeunieGtSvEmS/HTuOHL0oTDlFU6Lq07szbdu60Y5oI3QcS5dtpIyZsigMNvqvpi8H9LCdR9mylWjUmO8psljY+dXLl6INLRWi4rztBUCEthIIT8+pePHi0+o12+mDDxMFYVSnVgW6du1ykP1hdUd4qjdndTBt+gIqWKhYkCBzf5xGEyeOCrIfO0AABEAABEAABEAABEDAlwlAMPfl2pHyFideMookRJPQdu/evqGnj29bysaxE5cVoUcN3LljCzp4cK+66VP/EeWD1qegR8DMNGrckvr0HWJYcgjmhlh8cuenOfPQvPkrtbz99+4d5cubkd69e6vts8PDgmKatOm1qNatXUFDBvfWtuGJWATC03Nq954TyuwaoxqEYG5Exbf3TZk6jwqLmUxGDoK5ERXsAwEQAAEQAAEQAAEQ8HUCEMx9vYbe5y9ewlQ+k9PHD29aysuhw+coRoyYWtjmTWvRmTOntG1f8oQnIcKXuCIvjgTWrd9FqT5Oo+xkkfXw4QO0dcsGZXYDm/WYM2ea4wk2bWGEuU0g30eTVojYq4SYrbo3b15TwfzCpISoUzvdgoVrKHv2nFqUixfNpdGjhmnb8EQsAuHlOZU3X0GaNXuJVnkP7t+jVSsX04OHD6hYsVLKDK9nz55qx8O6J7zUm7N6OHHyKv0vUiQlCM+G2bx5PZ06eZSKFC1JS5bMp+PHDjs7HcdAAARAAARAAARAAARAwOcIQDD3uSoxzlBYFMybN29DX3TtQ1HEyHgWBju0DzDPYlxC+/dGEh9v+w+e0SKuXKkY/fPI2JxMRPig1UDAE2oE5FkXLJT37fOFx3kpX6EKDRs+Rjn/77//ohrVypjGFRYFc3fuX9OCh+CBceOnU2lhr/etGFX+4+ypNGXyONtT45HsP0yeQ3HjxqO/7tyiunUq0dOnT2xPBxGGDQLh5Tk1cNA3VKdu4wDowm55tu5dVgAAQABJREFUoYJZ6KUQWcOSc6d98sV6W75iE6VI+bGCfIzohFu9epnH+PPkyU+z5wSe36tHR9qxY7PH8XnrRHfq0Ft5QjogAAIgAAIgAAIgAAK+QwCCue/UhdOchEXBnAsUKVJkMco8Oj1//txp+ULiIH8MHRejnlRXplReeihGsBk5X/ygNcon9oVdAimFOLHef49WgPr1KtPlSxe0bXc9deo2ooGDRiin/fv8GRUpnN00irAqmFu9f00LHsIHeAYNjy5/8+ZNiKbE9p6xUGuIIg4TkYeX59SixeuIF8Jkd/nSeapfL2TWbgjJSg3r7xd79p6kePETKIgmTRgVrNlNnTr3oLbtAjp/X79+RQXyZQpJ9LbF7U4d2pYoIgIBEAABEAABEAABEAgzBCCYh5GqCquCeWjidedjKLwIEaHJG2k7J6A345E7Z1rnJ7g4CsHcBSAcBoFwRiC8PKeWLBVmqDJnU2pn+7aN1LtX5zBXU2H9/cJOwfyLLr2p9eedlDq89/ddKl+uYJioT3fqMEwUCJkEARAAARAAARAAARCwlQAEc1txhlxkEMzdZ+vOx1B4ESLcp4QzvEUAgrl7pN25f92LGaFBIGwSCC/PKQjmfqF+AUIw5xmQ1mchhnqFIQMgAAIgAAIgAAIgAAJeJwDB3OvIPUvQqmCeJk0amjljFv3vf0TCNCg1a96U7ty5Y5johPETxIJyAWYcjh07Tv369zUMp99pddHP5MlTimnXAfH/LUYd/XL6hD4qZbtIkRJUVCz0xYvbJU2WnO7f+5suCVMVBw7spm1bNxqe42xnjhy5KHGSpMrH0Ogxk7Wgw4f2pcdPHivbf/5xky5cOKsdMxIikog4OnXuSVmyZKP4CRLSwwf3xTnnaP36lZYXsOLzOovpypnFaLrEiZMophv+vneXzvxykmbNnBwsMwvMLWasWIpN48M/H1DKUrBQUapevS7lFjZF2ebxVsFv/bqVDnaPU6VKTX5f9KYMGTJR7DhxRLjbdPbsafrh+7FkZaE1O8rEH6rly1eh/AUKU1YxNf/DRB8p9f7bb9foyOGDtGZNoD1UrZLee/gayZbtU2XrzC+n6O7dOxQ7dhyqVLkalS1bidKl+4QeiLria2jlikW2LTQbPXp0atPWj3LlyktJkiSjaNGiEV/X169fFffc93Tz5g19VpXt0mUqKNcin9O7z2AtTK+eHTX/m9evac+eHdq2M0/x4qUpmshLUbGYWq3aDZWgr1+9ov79u2qn/SoW1+VFRFVnZJIlV658YlRgR/pYLEIaI0YMun37Tzp//iwt/OlH+vNPawv7ZsiYmdq08aPUadJSwoQf0PNnzwSTv2jXrm20dMkCsQjmWzULlv89uX/19wJfX1xXhQsXE21BMnom7H7369uVrl277JAPNnVSsVI1ypu3AGXMmIVixIyp3Ddcp5s2rqOjRw85hJc3smbLQcmSpVB2Xbp43qH+7bpG2eRL0WIllTSMrhF9uTkgt6NVP6tJBQsWU67RGzeu00mx+N6Ps6dZqg+13cuUKQsl/OBDuiWuhX17d5G//2rlmool2pzCou1hd0Pcr1euXFL87v7wtVOmTEXlfkqTJh09//c5Xbt6mU6L58SihXNd5tXuNiSBaKtr1WpAZcpVooTCz3XPdp3l5xanWb9+U6pStSYl+igxvXr1kq5fu0rr1q2gXTu3GiIwuhY4nqZNW1M50QZ+JOJ5Le7/O6K95jaAF3Y1WzzW6DllmKjYace9aeezmTsM06XPoGS3Z6+B2r1z/doVmjx5rFYM/b2kHvC0/eXz2fxL8uTiXhXvRHv2bFeew5UqV6dq1WpT6tRp6c3bNzR71hTlWammZ/bvSftkVG/qfebp+4UnbRebBcuUOatStK++HksxY8ZS/FvEAp3bxEh/dtyGHzq0T/E7++H3gHxi8VZ2n31Wm0qJ9RzYvXjxLw38sofi5x+zdz873iM4/ty581GJEmUpx6e5KWXKVMq7zs2bv4tn2a80b+50Q9v4ntSh+hznNSTU9y1OX+/4Oi0mntHs+D7Wtwv6Ntvqs4rjKyvaJm6j+N2a3914TR5uN5YtW0j79+3iIHAgAAIgAAIgAAIgAAI2EoBgbiPMkIzKqmCeLVs2sfjcVC0rLVu1EILedW1b9ixauIhSpEip7Lp69aoQz1rJh039VgXzvv2GUMNGLZV4WIyrIhbdlB1/MM2evZjSf2Ju75IFro7tmyuiqHyuM/8GYSdaXczKLBwLjAXyB6Yrf9Bu9F9DF4WY3r3nl2anEy/Y2L9fV1Nhg0/8ZsR4qlKlBim9F0YxiR6NTZvW0YD+3YyOutwni6C1a5ajaTN+EqJ80qDniXTatW2iCEBNhEjTq/egoGHEnldi0bUe3duLjoo9hsd5px1lSpcuA82ctYg++DCRaToP7t9TPrqNPty7iIVkW7UOEJtZGF4kBKYRgrUZ541C6Bs0sJfTujLNyPsDA778iuqKRer+J4QuM3dBfKC3+bxRkE6Hk6eN7z+HeEQd5c6VzmGX2cYJYZffWT74PL5+Gzb4TItCvla6dWlDDRo210RPLdB7z3/iI/+7774WouUc/SFtO06cuDT7x6WUUYiqZo5te48eOYyWL19oFsRwvyf3r1w+v04tacS3EzT7vGoifJ9t2rhW3RQdLNVp+FdjKGrUaNo+vef8uTPUq2cnunXrD/0hWrV6G6UVnTPsuFNq8KBeWhi7rlEWvxcsXBMQr8E1Ipe7WtWSNHnqXNEBklbLh+x58vgf8vNr7SAAy8dZuJkwcQYVF+KTmWPxZ64QoebNX6kE4Y6IYkUDOq/MzjHa/82IcUJ0rmV0SNn3RHRs9uzewbTDwu42ZMOGVaLDeLhhfi5ePEcN61cl7ihYt3630rlnFPDwz/upU8cWQdoZ/bXw/aQxNPH7WaKTKqZRNEo7zNfSFvGM0Tv5ObVtqz/16R10pLId92ZIPJuVRXJF56Er5y/qYuCXPR2CBaf95Yhkbty5WbJkuSBtF1/b/Pxz5Txpn+T07Xi/8LTtGjJ0JNUUgqsrV6dWhSCdi/pzKot3G25nXTmjdz873iP4fpwydT7lFB3YZo7f83744TuaP2+mQxBP6lB+jleuVJTu3L7lEKe64WommdxmW31Wcefs5ClzKUGCD9Rkgvxz+96hQzM6d/ZMkGPYAQIgAAIgAAIgAAIg4BkBCOaecfP6WeFNMGfBg6dlRxWjdF05XkSqSKFslhfWs/QxpFuYSv6g5RHLhsKzLqNmtldZePpJiFzqoma604Js8oi6BvWrBNnvaof84cUCU9y48UxP4Q/HWbMmU8dO3U3D8AEOV6xoDjFy8pVDOLvKVLHiZzRy1CRTcdshUSEQsujLgpXsZAGKF7tURsnxlAonbtnSBfTtiMDR3U6CBjk0f8EqZfRakAMGO1hA5AXsZIFV/tA2OCVgl4EYahbWimB+5fIFqle3shaFfK1w3niEmivXr88XhqIdj4xcvnKL0+tNjnvB/Jk0buwIeZdTvyf3r1y+f8VIZXXkpJyQLJjzYqlsA96Ke/7sKZUskTtI+2NVMA/ONeqOYM6dTM46obis3JaWEmUxWoR57fqdpmK7zOn3369r4ZhN0SIBizfKYcz83I74b9wrZhIFjMw3C6fub/N5wyCzeexuQ3hErJl4reaDO0QKFy6ujCpX9xn9z583g8aP+9bhkNxeKXUkRu2bde7JJ44eNUwZbS7vk59TRoK5HfdmSD2bPRXMg9v+Mj+Zm1l92yqYh+D7RXDaLquCuZUFqT0RzO16j+D3M26vXN236r2jX9TUk2eM/Bz/rEoJ01lYfP+sXB0420S/Vom7zyqeUTZxkpg16qSzXi0nTyv169zK6aAHLSw8IAACIAACIAACIAACLglAMHeJiBTTEY0at1SmfnLwkyePKR+y6hRWC1EEO0h4E8xlG6YMhwW+fWJK6bGjP1P+/IWpZKly2uhNPj5t6gSaPm0ie126ocNG06dieu7/hIiaRkwDVx2bFngpRlGze/ToAbVuFTjSSv6gVsPzSNtzYoQpjyZ/KoShChWqUsFC0ih58XFSvVppB1MMfC6Phqsnpu2rjj/QT4lrZsvmDRQnblzFlEa+/IUoSpSoahBhLmEK8chDd5z84aWex+YDNm5cQ48ePqSWrdpT5iwBJnHU4/zP5dq/f7cyuj16tOjUrkMXbXo8H18hRgR/8/VA9mrOrjLt2HWUPvggcGT5zd9/U0zvHDiwl9KJumrcpBUlSZpcS5cFprJl8mvb7JEFKPUAl+mMGG3O9ySL1mwyIZ+4jlTHx3khsvsiPnecvtwcD5uN2bN7O927/7cwAVNRmIfJqZhIUePl66yq+KBW3fIVmyhy5CjEU7WTp0il7hamHK5ofjZj0r5d4DWjHTDw8Ijj2LFiU/z4CRwEUjm+I4cP0MiRQ7Wzja4VnlFw/Phh2iym4ycQcdWp11gTQvlE7oQpUSynFofqWbNuhzBjEDga/sGDe8oUdWbCI84LFChC2YVZJNm1alGPTp06Ju8y9Xty/xqVj+vqkmhX2MxHzpx5aMQ3gxQhgU3H7Nwl8vK+k4XDcafMjh2b6bIw48Omaho2buEgxnDZunVt65Bnq4K5ehKn4+416o5grqbD9wy3pYcO7qVPhNmlJuKeiimuF9Xt2rlFjKTtoG4q/3oRTmXCpnVevnyhmE7Jlv1T5TqWT3RXMO/s11MxlaPGwXndu3cH7RbpsGmMEmLkL5vHUevm119PU7MmNdXgyn9ItSFcFh7VzXXN1y+3n3IbrWaCO1T9N6ymkyeOKs+p2sIskipmvRWmPQrky+QwytyoveK42JzCiRNHlLaYr7lCwnzQRx8lUZNR2unPxKwBufNNfk4ZCeZ23Jsh9Wxu1aoDVateRykfmwZRO8u5Q+mOMAumOjbPsmP7ZmXTjvaXI5K5qenwP49+5mcmmwQ6IeqTOylcOU/aJ6P0+R5z9/0iuG1XvXpNiN9l2XGZ1euWOxnlEdOdOrVw2FZO0P3wNTt4SEDn0Iditlg88Qxhx/fA7zd+U/z8s2/fTq0TSV+fnr4bTZw0U2kr1ES4HTl27Gdhgs5feS7ydcb5Ux2zlu8lT+owJARzOX9GzyqeLbJz9zGHWVD8zsSmm3755YQwu1VUed6m+jiNGpViEqd0ybzKv7YTHhAAARAAARAAARAAAY8IQDB3ge2LLr2FqZJOhqE8ETkNI7KwM7wJ5rLAZTZSe5KYtq6aB2BxoVTJPBZIBQbh0UzHhfkK1ZUplZcePnygbjr8B/mgFWK4asZEDlhVCLFfs/mP927N6qU0bGg/dVOYuElFPHpJFXxYhGGhVj+iM1OmrPTTojWaIMMjP1loccfJDPk8tn2r/+DXix8czmjk8O49JxQ77Xz86pWLVLdOJfYqzq4yla9QhWSb8kb55QRHj/mByovOCdWxYMbCmeqCCFCirtgUgt58C4vvss3wCeO/FTZNZ6jRuPxnUWf9ht1aXfJHdxORFzbTITu2Zb5p8wEH8dooLVdTteU4rfh5hDQLnexYdCpSOLvpafprha/LKkLU5/tKdt+NnSLspAaOTG8vTPkcOXJQC9KgYTMH0xVsEqdZ06CmNRoKky99+weKT5cvnVdG3msRWfC4c//qy8flqlihsNZBJienv77atWkcxPRHlChRlPtY7bxh8zL582aUo7FskkU5ycNr1F3BXD+zgNOOFCky7d5znOIKe+3s9NcK2//ff+AX7TrnUYpG9xO3WQsXr3UQzd0VzOX26J6w/891pLfXXb1GXRo2/H3nochLmdL5tHY7pNoQFu7YZJj8fGAzCAsXrVOYqT/cGVbts1IOea5dpyENGhw4qryRmBUjr48RpL0SkZ0SNuVbtayvRqv9Dx02imrUDNzPZp4aNaymHZefU3rB3K57U76XQurZLF8HZmnY2f7K3Bgmt+XMVT97SQNtweNO+6RPn+8xT94v7Gq7uHjeXvTTrvcItt3O7yuq2M8dxbVrlQ9SY/p3tSWL59IoYSJMdu7UYUgJ5s6eVdOmL3AYpGE2cER+V+byse32CeNHykWFHwRAAARAAARAAARAwAMCEMydQONFCUd/F7hopFHQPr06a4slGR23a194E8yPnbisCS9rxQKPQ4f0DYKKRy1NF3a5/xALdPIosB9/nBokjLMd7nwM6T9oh4n8mC08KY/i48U7mzerrWVDnvLMH+UNGlRVRq1qASQPL5I1fkKggMuLQKoj66Rgpl5Z2DCyE8on8kJVPBVedXvFgmdduziOlOVjPXoOEAvEBuxnW5gligeOELarTLVq1acOwiRMYjGK8q4YUV2xfOAIcDV//M/1tv/gGc2shl581gtQU6eMpxnTJ8lRaP5dQihU7X7ywmb9+nbRjrnysGjH4p3q+vQW97pYRNXIJUqUWDE1wYtxsrsjRi5W1tns9xXBnK/LWsLmPS8GqXcsFB86fE7ryJks7L/y4rSqk6ey84d+hfKFgpjvUcOyfVuetq84IRAVKpjFUMBWw+v/3bl/5XuBxW0WNeURk3LcAwd9o8wWYQGZZ4/0FaZnjJwi8AjzIarTd7i5M8Lc02vUHcGchXDuVNSbU+L860Vo2V5+u/ZdHEw1yaZr1LKr/7zQ7A+ThW3796Pz3RXM16wVsxPEyFZ2+pkYahr8P1OsccBCOi/cO1uYknr0vmMnpNqQL4Rtd6NF87ZsO+RgnquYMD9jtDDykWMXtVGgPJNh+bKftOLo2ytejLlK5RKifMYL4i5avC7QnJe4bwoWyKzVqfyc0gvmdt2b3ng2WxHM7Wx/ZW5cMUadxlqFWfS40z7p0/f0/cKutouL6G3B3K73CF7MdoxYzD1lqo+VmqpUoSjdEwupGznZnI9RJ5U7dRgSgrmzZxV3dB47fknrGOA1Ejq0b2ZUTGXf5i0HtNl5PGOtQrlCpmFxAARAAARAAARAAARAwBoBCOZOOP04ZxnlzuNoDkIfnKdlt24VOCJMf9yu7fAmmMuiM380tGhex/bFitz5GJI/aF2N9lYWrBIjzdnx9HxZ+JUFWh7x3KlDc6eXgGyPevWqJTR8WH+n4eWDskjIC1t+OaCHfFjxs61PFn1UN3xoX1q9epm6qf3zFObhX32nbPNoy8IFs2rH7C4Ti7KRI0d2Kp6yDfhsYsFDdlu3+AtR00/Lj16AKi4WHXwqzLAYuQU/rdbMg5iNhjY6j/fJgsJZMcK9qc40hP68Nm07U2e/XtpuFi/lEdy+IpgbjULWMi088oe3LCjz9PB9PBL5vRshzPY4W9CzSJESYhHKeWpwMhrJrR008Lhz/8r3gr4TyyBqZRcvGvfixQuH0cL6sIePXNDM7eg7tNwRzD29Rt0RzJ0JKmzbevPWwHZAXrRu6bKN2gKIfL26mskjXx/uCuZfDvya6gqzEKpzdQ2p4fT/trYhQpTOm+cTw+tAFtycsZHNxOhHgerbqw7tmyomjPRlUre5823bjsPqpmJKSBXg5eeULJjbeW9649lsRTC3s/2VubH5EV4TJbjOnfZJTj847xdqnoPbdnE8Ml+9jW81Hav/8kxMnjnCs+r0zu73CI6fZ8cYdWCpaXfo2I3ad+iqbBqJyO7UYUgI5s6eVTXFTJMhYsaJ6ooWzhZkpqJ6jP/lDibuFM+TO9AcoRwOfhAAARAAARAAARAAAesEIJg7YXXy1DVtJJ1pMPGxLY/WMw0XzAPhTTDv3qM/NW/RzoEKi8+Hfz5AB4Xt3X17dzr9EHI40WTDnY8h+YPWbIqvmkznzj2oTbuAUal6G9uyAM4LaLKNaGcuf4HC2kh7tjnMphCsOlkkHDK4N61buyLIqbwoFo8YVl05YQ/cyI532bKV6LtxASP49YJ5SJaJ85c7dz5lVPlDYVf+t+tXlY9CeYE4/ah4WYDSm5dQy6n+jxs/TYyyr6hs6s0bqGHM/uVym5mPkc/NnDkbLRYL2arOr1NLh8W3fEUwN5qaruaZ/xcvWa/ZvpcXwuNFD6dMm68FZXMGDx/c17b1Hr7/Cggbq6r7+qsBtHLFYnXT5b879698L8ya+QNN/mGsy/jlADybJWvWHML+7lvFnjIvbPnmzRvasVPY3BfH2A0e1It48UfVWRXMg3ONuiOY62diqPlU/2XBp7oYgX/z5g3l0Lbth7XFLE8Km9ry2g7qufK/PP3fXcHcyMwJ28rn0Z8HxToGu8UMGLOZAXIeZH9w2xBez4Jt/hq5GTMXUn5hk5/d6VPHqWWLwBkncnh5JLorwTx/3gxBFpCV42L/UTGyVLWfLs/Akp9TsmBu573pjWezFcHczvZX5nbxwlllMWk9c3e33Wmf5PSD835hlEdP2i6Ox9uCuVyfdr8bcV3wugPxxawh7jzndUbYvJK8MCmvtVG2tOMAGHfqUG4/7Vr009mziu2s16hZT6vyn8UADGeOZ0TJtsyttDPO4sMxEAABEAABEAABEAABIQenTp36P4AwJgDB3JjL44c3jQ/o9vbtN4QaNmqp7DUyGaK3z6g7nViM3rVrK40ZPdzpaGT9eeq2Ox9D8gftju2bqFdPY7v1HHcnIZi3NRDMeVHHn8WIVE+duyOgZZHQzFyIXjA3MylgJpiHRJn4w26sELJ5kT/On96xwMgmH2LGjKUcciaYm41mU+P0VDDXczMz2aCmo/7LbQbbk2ehXXW+Ipi7Mkcgm4SQBXO9jWS1XFb/nZklMYrDnfvXyr2gT6N48dLUXyzQ+9FHiTVxUg7DAkvCBB9oU+I9FcyDc426I5ibtQFqmWTBRxbMDx76VVsU1JmAo8bTvHkb6t7zS2XTXcGcT+LFH7t0C2qCS42fRwAfO3pIsTf8p7AZbuS81YbIgjnnqa2wd2/krArmVnlt2ryfkiZLoSQld6TKzylZMLf73gzpZ7Mrwdzu9teMm1FdWt3nTvskp+/p+4Wcr+C2XRyXNwXzkHiP4LVDxgiTiXnzFqTYYvaT3vFIfh59rppk80XB3Fmb7eoe1JdXvy3PItIfwzYIgAAIgAAIgAAIgIA1AhDMnXCCSRZjOHYJ5hw7j9auLRYv/OCDgFGcRimygMKLD54RCwy64zz9oJWFCKP0zARzvc1jo3Od7TOyseksvBWRUC88uCuY210mXiBvgBApI0eO4qxoDsdCQzDXl9tsZL5DRsXGwZ/PakL/zBnf05TJ47QgviKYO/tI58yaCeby9HatUG54XI2A1kflzv1r5V6Q45enr8v7nfnDrWAuXbNTJo+lmTN+cIaBZHHWqgCsj5AX7+zs15NSf5zWdBYXmxX47ruvadFCYTNdct5sQ+wWzG/d+oOqVi4ulcbYu0CYpOLOEnay2QZZeJWfUyFxb4bks9mVYG53+2vGzZi+tb3utE/upG/2fqHmyo62i+PypmCur0+1LFb/9e9GWcRsIF7fJm7ceFajoLAmmMtm6SwXUgpYWpiEU9d+kHbDCwIgAAIgAAIgAAIg4AYBCOZOYIX3RT9XrVhFHyYKEKqvXr1KrT9v5YRG4CE7BXM11lSpUlPVz2pRzpx5FNMI8eInUA8p/zxtv1SJPKYLpTkEfr/h7Q9atqt79PhlLSvjx41QTMtoO1x4eAqxOx84VkTC4ArmdpZJb9OacbDgdvnyRbp+/YoyEiyVWMgrTdr0DoJ6aAjm+nL379eVNm9a57QGeZGu4yevaGG+Gt6fVq1com2HdcG8jujYGjhohFaeOrUq0H//vdO2XXlu374lbIb/6yqYdtyd+9fKvaBGLC8+p+wTZrUePLxPF86fJbZz+5FYlDZduk8oadLkDmJueBXMZbMzPO2/o4t1F0aP+YHKV6iqoPNUMFfrgm1v84KkecRaIdmyfRqEubjAqE7tinTtWkC76u02xG7BXG/uSuWg/5frRG7/zITXkLw3Q+LZ7Eowt7v9NeOm5+7OtjvtkzvpOxPM7Wq7uJzeFMz19RmcdyO23753/2mHdwQ28XLjxjU6d07MlokZk5KJ2RmfZMjkMIMtrAnmU8T6H4XFOiDs+P23hbS4vLLTxc91Yd4ODgRAAARAAARAAARAIHgEIJi74CcvZqQP+uPsKfT9pDH63SGybdWGeZo0aWje3EA7w926d6WTJ08a5mnr5q0UPUYM5VhoC+b6DCZPnpJmzlpEyYX5DtWZLVipHtf/h8YHrWyn05WtaH1+3d22IhIGVzDnPNlVpmXLN1KGjFmUYvJCr00b1yS2g23kZLvKsmDEYWUb5sExd2GUrrxPLvfaNctp6JA+8uEg/vz5C9MMcc2qrs3nDen4sUAb9mFdMNeXr5lYBPVXsRhqSDl37l8r94KazyPHLlLUqNGUzfv3/qbPqpY0FPIVMwKHz2uieXgVzGVb7MyjXNkCKirD/3Xrd2m2coMrmOsTYDGMFx8uW66ydujA/t3k1zmgM9fbbYjdgjkXymyWj1Zg4ZHbHl7wc8Q3g5TDZsKrN+9NO57NrgRzLqzMILjtrxk3BaqHP+60T+6k70wwt6vt4iJ7UzDn9OT6DM67Ubfu/ahFy/YcpeJGfTuEliwJfOdV9/M/m2wpV76KsstOwbxm9TJCoL8uJ6X5q4oF4b8eMV7bzp1TzKKRnNVn1eAh31Kt2g2VM/l9KX/ejFIs8IIACIAACIAACIAACHiDAARzC5R5pHmjxi2VxQk5+MmTxxTbxNu2bbRwtj1BrArmMYQAvkUI4aobN24srV23Vt3U/uPGjUsb1m3QxCBvC+YpU35MBQsVpdixYtP8+bO0fMke/iD9WQhWUYWtSnby4mdyODO//oO2fNmCdO/eXcPgdn3QyrZsrSwy2bhJKzp/7oxyTRlmzMlOKx9edgjmdpWJR4WpU6i3bvGnvn38TEsnf1yHlmC+ecsBSsKjjIXj0Ws1q5c1zS8f6NN3iNJOKIHEyNhCBbM42N4PUcFcmC0qUiibaf6sXCvqyWYmWdhm7GG20S/sy7ObJUzOTJZMzqjnq/8sODdv0ZY2bVxHf/zxu7rb8r8796/V8sWOHYf2Hzyj5aFXz460Y/tmbVv2FBCLPU4Xiz6qLrwK5j17DaSmzT4PKKa4bpuLkYxm5q/SpctAK1Zu1uy6uyuYx0+QUNwXRYkX/5w4YbTpjCG5Pb4l7JhXrRIw0tLbbUhICOYDB3Qnf/816mUV5D9TpqzE5Vddrx7iGt0RcI3KXGSTLHbem954NlsRzO1sf824qYw9+XenfXInfTPB3M62i8srC+Y/fP8dzZ412RMMyjnywBKzTmy73iPke5JnBFUoV8g03xv891AK8a7Jzopg7uwdUV6fxNk6IKNGf08VKn6m5clTwbx0mQrEi5+rTl53Qt0n/2fImJny5StE/htW0+PH/8iH4AcBEAABEAABEAABEPCQAARzD8F5+zSrgjnna/fO3ZqgcezYUerZq2eQ7PbvN4AqVaqk7femYF62XCX6buxULW1nixPJH1muFsvSInzv0X/Qfv3VAFq5YrE+mLJtxwctR9Sj5wBq1rytlsaIrwfS8uWBopt2QHhYLO/dZ7CyixeoKlUiNz1//lwO4tRvRSS0QzC3q0yy2LVu7QoaMri3Yfnate9CHTt1146FlmAuj2TnzMz5cSpNmjhay5fsyZUrH82Zu0wTk69cvkD16gaOkuWwdgvmtWrVp8FDR2nZKF70U3r69Im2LXusXCtqeDPBnI8vX7FJTHXPrAR9+/YN1a9bRTOXoZ6v/svCxu+/X6ca1cqohyz9u3P/Wi1fvHjxac++wLUQOndsQQcP7jXMz4KfVlP2HLm0Y+FVMP/ww0S0fedRrZzcFtWrUynICMqECT8g/037NBv9fII7grliluHYJe0eGSvsk/+0YLaWruwZOWoSVaxUTdklj3r3dhsiX8N2LPrJBXr18iVVqVyM7otFrfWOhW9+5qkLFepHljp7Ttlxb3rr2WxFMLez/XXGTV8HVrfdaZ/cSd9MMLez7eIy7t5zgrgDi528sKyyw80fK4K5Xe8RbLu8gOh0Y+dsTYBPhXm/efNWaO2NFcHc2TuivDiy2fsLd2ps23HYoY30VDDn8skzCh6I9qJihcL05s0bPuTg2Bzc7j3HKa54vrEzyh/XdbGiJWnTpvWmHZUOkWIDBEAABEAABEAABECAIJiHkYvAHcF8w3p/MZI3bkDJxIjBL7p+Qb/88otW0ipVqlDf3n21Dwk+4E3BnNM7dPicZl+SP2RYTNOLfcoIm3HTtHxOnTKeZkyfxKdbdkePX6IoUaIq4dkObpNGNRTzCywky/aU7fig5UT4o2THziOB9jUF/9at6gcZQZ46dVpauXqrFu6vO7eoUsWAj0CrhbMiEtohmNtVpmnTF4hZBcWU4pmJRp+36Ux+X/RyQBBagjnbV94lPkLV64czZWQWKIUwG7R6zXZtJgSH696tHe3etY29mrNbMOdFAXlxQNWtEB0z34gOGnb669vKtaLG40wwL1W6PI2fMEMNSs+EQF9FLGKoH9GmF/M3bVxLA/p3086z6rF6/7pTvr1CMFeFhRu/iZkDNYLOHGBzUPmEiR3ZhVfBnMso28vlbb4/t23zF8LLSuJFl2vUrEeVK1enWEIQkp07gjmfJy9kxx0uPJr93NnAEf8cJmmy5Mr9xNcwu1/FYs/NmtZS/N5uQ0JCMOeC8CjcqlWK0ythe1l2i5esp8xZsmu79J3Ezp5Tdt2b3ng2WxHM7Wx/nXHTYHvgsdo+uZO+mWDO2bOr7eK4ZFNM/C7Ea1KwAK1/dnBYV86KYG7Xe4S86DDnq4tfa9q3b5dDFnPnzkczZy/W3q/4oJFgzvut1uHa9TvpY16kmJ14r2vSpIZD28UdKGyuSh3RHhCQKDiCOZunqla9jhqV0ha2aF5HCN7vtH3smThpJpUoWU7bp3//aNiwOfXtN1R5l+ZOuPqiMx82zjVc8IAACIAACIAACICAKQEI5qZofOuAO4J5xw4dqWHDRoEFEC/3V69dI15U8mOxqGLiJEkCj733eVswl+0zchZYPNm/b7cQ7i/RJ59kJB4dpI6yU4+XLJ6bnolFIt1x8rRuPu8/8aHB4l7sOHEcbELa9UHLabRo2Y66de/PXs3xok2/nD6hmIRJ/0kmyi4WuFNNW3AgFhNZVHTHWREJ7RDMOU92lEkvovJHJ9sBPXBATJsWonMOMZr3AzHaVe9CSzDnfOgX0+N9LCay7fWn4lrMKsQtFgJkZzYS1W7BXFlk9IRYDPG9iRTOAy9+xh/Ed8VUddmEjJVrRS2DM8Gcw/BI+ly586vBlX+eGn/s6M+K/9NPczuIBnzPVShf2NQckkNEug2r96875fth8hwqWqyUlhLzOi8Wiztx4ghlz55LLDqcnWIKU1F6F54FczafwwtNxhadRK7c9WtXKK1YFJWdu4K53swNx8Ht4qlTxyhhwg9FJ0UhSqZbbFUWxLzdhoSUYM7l5vbv1u0/6eqVi5QyZWpKkyadNjOMD7OIybOOXor2RnWunlN23JveeDZbEcy5zHa1v664qXzd/bfaPrmTvjPB3K62i8v5jbCzXUXY25bdo0cPKEH8hIad/HI4vd+KYM7n2PEeoTdNw/HyLJT9+3ezl/KLNoTt7MvPRd5vJphbrUMWrlnAlt1ZsYbHFXH/Zs6cjdKL91a5c10NFxzBnJ/x+/afcuio5Ocpvzdxmxlf1BW3maqpO07TyCSOvIgwh9G/U/E+OBAAARAAARAAARAAgaAEIJgHZeKTe9wRzHla9yb/TRQlasDIaqMC/fXXHTFK5T9KliyZctjbgjl/9Mybv0J8ZGQyyp7DPha0+vXtYmpr2CGwbqNw4eI0Zdp83V6xKcSK3LnSafvt+qBVIxw6bJQYlVlf3XT6v2D+TBo3doTTMEYHrYiEdgnmnH5wy8Qff4sWr6VM4uPSmeP6/u36Vc30h/7jTp6qb/RxKMc9bvw0Kl2morLLik15+VzVr59Kru43+r986Tw1FYth6keOcli7BXOO88uBX1Pdek3Y6+BuCyGuSqWA0fx8wMq1okbgSjBncXXJUn9Kkza9eor5v7jPeMFG7hTxxFm9f90pH4spfL/LIoNR3vja4rKqo9HDs2DO5eeOH657RWwyAiL2cWfQ98Le8bz5K5UQ7grmfNI3I8YJoS5gxLgSiZMfNtnCpltU5+02xG7BnEW7WKIzRh09r5ZL/89mcdp83kjpTJCPuXpO2XFveuPZbFUw57Lb0f664iYzdsdvtX1yJ31ngrldbReXkUfw79x9TFsAWS63X6eWbrXZVgVzTiO47xEcB5uyY5N2rtzhn/drs9rMBHOrdchp8UwyV889nhEjm/IKjmDOafJ7w0LRLseMGYs3nTqeDVRNLGKtN/ckmzbkCOT1D5xGiIMgAAIgAAIgAAIgEMEJQDAPIxeAO4I5F4mF8GlTplGChI6jX1ko/uOPP6hdh3Y0fdp0SiVGnLO7fPkStWnbRvG7+nn88KarIMrxvv2GUMNGLRW/2aKJbdv5UceO3R1G1smRs6mSli3r0Z3bt+Tdbvl5VGL/AV85mMzgUTp5cgcKfvIHrZH9RznBVq06UJduwqSNcM5MqfBCsX5+PR1GB8nx8KjziRNGmtpVl8Ma+WWR0MwWs52COefBjjLxQlZsbsfI/fPooRjd1oA+b9NJG/2mXyBUFsyd2TDl+O0QzDmeimIRL/5I/zDRR7wZxPHI7lUrF9PIkUODHFN3JEmSlDZvPaRuBpmqrR1ww8PTwAd8+TXVqdPQYUSd3ma4lWtFTXbOvOXENtnZbRSLE34pFinUO053iLCfXqVqDcNRdRye7/mhg/sqI+H057uzbeX+dad8nDaLRUuFaJ5czGwwchcvnCWe+r523U5t4Vf9AqGySYPly36iEd8M0qKy6xqVze68FbNw8uXJoKXBHnfKffL0de3cimLE/927d7Rt2VNJmF5p3boDJRUjvWPEZNNVL5RRiwsX/qi0VWXLijUoxgWsQcFtWIliOeXTLfmLFCkh1rGYYjiSnyPg0dW82KVZR4u32hC7BXNm3lyYl1m4aJ1pW8Kmw7p1aUs3b94IwtLKc8quezMkn83c4cKzyNhtF4un9+7VOUhZ5R3BbX+tcJPTc8dvpX1yJ31X7xd2tF1q+Xjx3UmTZge5Ftu1aUxHReeYVeeOYM5x2vEewXH07j3I8N2RO5y+Gj6AHv/ziCZMmqUUw9kCoVbqkCPhwSijx0ymkqUCzZ8okfOPeLc+duwwtW3TiLS2Vjcwg4O502ZzeHa8fgSbQsvJ94w0oyzgqPgV6Rw+fIAGftnTcCZXVTGTYNhXYxQTNdzJyeur8LsTHAiAAAiAAAiAAAiAgHMCEMyd8/GZo+4K5pxx/nDOkiWLmKKanxKK0YOnT58WNjD3Gi4a5E5BrQrm7sTJH26FC5eg9OkzKGLJ4Z8PKGKJ3q65O3Hqw6ZLl0GYEkgvzL+8VcxH2Bm3Pi15m8XhXLnyKgIU77969TLxVF4zMUg+11f9wS0Tj4QsIhagKl68NMWOHVdMl/5b8NgrzPI42iL1tfKzkFyocDFl1Bfn7e7dv+jcuTO0ZTMvpOVoV9SbeecFFdmkTaKPEtM/jx4pH+7v3r0N8SywgMBT1TNlyqp81D979kyZos7mWS4I0dlOFxL3LwsRAddyPjHqNwb9+cdNWr9+lelCpnaWJ6zGJY+AddZhaKV8KVN+TIWFeJ4rVx6h+fxHZ8TozH17d1kSc8JKGyJ3nsgzYvILG/l87aVIkVLplODnwvZtm2y79uy6N73xbLZyrXAYX21/OW8h0T5xvGbOzrYrceKkog3Posx+4HvQW2JqcN8j+B2XRWQWsNmsG7/T/SrerVavWubRwpZW65DXoOH3F+7QZHGebajv2b092O/WZnWt7ud6qlS5mnhPzijqKpZiiuayMAnD7008a9SZ43cENjnGplzgQAAEQAAEQAAEQAAErBGAYG6NU6iHihMvGUWKHCXU8/FOjHJ8+vh2qOcDGQABEAABELCHAM9+4I6PTz/NI0b7dnKwm61PQZ6B4KmZI32c4XnbTDAPz2VG2UAABEAABEAABEAABEAABEAgrBOAYB5GajBGrIQULXqcUM/tq5dP6cXzh6GeD2QABEAABEAg+AR4pOrO3ce1iNjub4f2zbRt2aO3wz9zxvc0ZfI4OQj8OgIQzHVAsAkCIAACIAACIAACIAACIAACYYAABPMwUEmcxUiRo1GceElCPbdPH/9F796+CvV8IAMgAAIgAAL2EJAXYeQYvxvzFS386UeHyNnm9NSp8wLXZBAmVIoV/ZSeCZu4cOYEIJibs8EREAABEAABEAABEAABEAABEPBVAhDMfbVmDPIVPWYCih4jrsER7+x6+eIJvfz3kXcSQyogAAIgAAJeIZAlaw5atHidQ1oPHtyjK5cvKrbF2WYvLwIqLzi3dPE8p4vcOkQWgTcgmEfgykfRQQAEQAAEQAAEQAAEQAAEwiwBCOZhrOpixv6QokaL5fVcv371nP59dt/r6SJBEAABEACBkCfANsyHDB1JkS2slXHq5FFq1bJ+yGcqHKQAwTwcVCKKAAIgAAIgAAIgAAIgAAIgEOEIQDAPg1Xu7ZHmGFkeBi8SZBkEQAAE3CSQMuXHNG36AkqRIpXDaHI1mufC/MqsmZNpzpxp6i78uyDQtp0fdezYXQl19eolqle3soszcBgEQAAEQAAEQAAEQAAEQAAEQCC0CUAwD+0a8DB9tmkeLXpsihIlhrBvHsXDWMxPe/f2Db1584JevXwGm+XmmHAEBEAABMIlAbZZXrxYKWEGLAbdu/c3nTxxlM6cORUuy4pCgQAIgAAIgAAIgAAIgAAIgAAIgIBMAIK5TAN+EAABEAABEAABEAABEAABEAABEAABEAABEAABEACBCEsAgnmErXoUHARAAARAAARAAARAAARAAARAAARAAARAAARAAARAQCYAwVymAT8IgAAIgAAIgAAIgAAIgAAIgAAIgAAIgAAIgAAIgECEJQDBPMJWPQoOAiAAAiAAAiAAAiAAAiAAAiAAAiAAAiAAAiAAAiAgE4BgLtOAHwRAAARAAARAAARAAARAAARAAARAAARAAARAAARAIMISgGAeYaseBQcBEAABEAABEAABEAABEAABEAABEAABEAABEAABEJAJQDCXacAPAiAAAiAAAiAAAiAAAiAAAiAAAiAAAiAAAiAAAiAQYQlAMI+wVY+CgwAIgAAIgAAIgAAIgAAIgAAIgAAIgAAIgAAIgAAIyAQgmMs04AcBEAABEAABEAABEAABEAABEAABEAABEAABEAABEIiwBCCYR9iqR8FBAARAAARAAARAAARAAARAAARAAARAAARAAARAAARkAhDMZRrwgwAIgAAIgAAIgAAIgAAIgAAIgAAIgAAIgAAIgAAIRFgCEMwjbNWj4CAAAiAAAiAAAiAAAiAAAiAAAiAAAiAAAiAAAiAAAjIBCOYyDfhBAARAAARAAARAAARAAARAAARAAARAAARAAARAAAQiLAEI5hG26lFwEAABEAABEAABEAABEAABEAABEAABEAABEAABEAABmQAEc5kG/CAAAiAAAiAAAiAAAiAAAiAAAiAAAiAAAiAAAiAAAhGWAATzCFv1KDgIgAAIgAAIgAAIgAAIgAAIgAAIgAAIgAAIgAAIgIBMAIK5TAN+EAABEAABEAABEAABEAABEAABEAABEAABEAABEACBCEsAgnmErXoUHARAAARAAARAAARAAARAAARAAARAAARAAARAAARAQCYAwVymAT8IgAAIgAAIgAAIgAAIgAAIgAAIgAAIgAAIgAAIgECEJQDBPMJWPQoOAiAAAiAAAiAAAiAAAiAAAiAAAiAAAiAAAiAAAiAgE4BgLtOAHwRAAARAAARAAARAAARAAARAAARAAARAAARAAARAIMISgGAeYaseBQcBEAABEAABEAABEAABEAABEAABEAABEAABEAABEJAJQDCXaYQhf6TI0Sha9NgUJUoMihQ5iu05f/f2Db1584JevXxG796+sj1+RAgCIAACIAACIAACIAACIAACIAACIAACIAACIAACvkYAgrmv1YiF/ESPmYCix4hrIaQ9QV6+eEIv/31kT2SIBQRAAARAAARAAARAAARAAARAAARAAARAAARAAAR8lAAEcx+tGLNsxYz9IUWNFsvscIjtf/3qOf377H6IxY+IQQAEQAAEQAAEQAAEQAAEQAAEQAAEQAAEQAAEQCC0CUAwD+0acCN9b48s12cNI831RLANAiAAAiAAAiAAAiAAAiAAAiAAAiAAAiAAAiAQnghAMA8jtck2y+PESxLquX36+C+3bJonSpSYEiX6iC5cOBvqeXeWgSxZc1Dy5CmUIFcuX6QbN647C45jYYhA3nwFKUGChEqOT586Qffu3Q1DuSfyZv4TJvyA8uQtoPB58vgxHTly0CdZZciYmR7/84j++uuOT+QvrLRzoQkrceKkVKNmXSpStCSlSJFKrI/xUrm+hg/rHyLZSposOWXL9qkS9/179+jUqWMhkk5EizRatGiUM2deOnr0UIgW3dfu8RAtLCI3JRA9enQqVry0cvzt27e0e9c207Bh5QC/b1arVpvy5y9E8cW7ydMnT2jp0vm0dMmCsFIEl/kMj/VmVmhvP9vM8oH9IAACIAACIAAC9hOAYG4/0xCJMUashGKRzzghErc7kb56+ZRePH9o6ZT+A4ZT/QbNlLA3f/+NqlcL+OixdLKXAy1Z5k+ZMmVVUt221Z/69Pbzcg6QXEgR2LP3JMWLn0CJfsL4b2ne3BkhlVSIxOvN/Ner14QGDPxaKce/z59RkcLZQ6RMwYl06bKNlDFTFiWKjf6r6csBPYITXbDPDUvtXLAL62EEn+bMQ7N/XCIWqY7qEMPr16+oQL5MDvvs2ujStQ+1at1Rie7e33epfLmCdkUdYeMpW7YSjRrzPUUWC41zh0f1aqVCpNPK1+7xCFvhPlDwdOky0MrVW7Wc5M6ZVvOHRU+Llu2oW/egnYSXLp6nBvWrhMUiGeY5vNWbYSHFztB4tpnlBftBAARAAARAAATsJwDB3H6mIRJjnHjJKJL4SA1t9+7tG3r6+LalbBw7cVn5sFYDd+7Ygg4e3Ktu+tQ/BHOfqg5bM+NNwdnWjL+PzJv593XBnD9O581fqWH+7907ypc3I71791bb521PWGrnvM2G0/vkk4y0bPkm+l+kSEGSh2AeBIlP71i9ZjulSZtey+O6tStoyODe2rYdHl+8x+0oF+LwjEB4El4bNW5JffoOMQQBwdwQi0/vDK1nm09DQeZAAARAAARAIJwRgGAeRio0XsJUPpPTxw9vWsrLocPnKEaMmFrY5k1r0Zkzp7RtX/JAMPel2rA3L94UnO3NeUBs3sy/rwvmaYVYt0qIdqp78+Y1FcyfWQjm79RdXv8PS+2c1+GIBAcOGkF16jbSkr5y+QKtWrWU4saNRx9/nJoGftlTO2anByPM7aQZENeChWsoe/acWsSLF82l0aOGadt2eHzxHrejXIjDMwLhSTBft34Xpfo4jQKCO3sPHz5AW7dsUGY3snmxOXOmeQbJB88KT/Vmhje0nm1m+cF+EAABEAABEAAB+wlAMLefaYjEGBYF8+bN29AXYlp8FDEynj8MOrQPMM8SIoAMIo0kRjTuP3hGO1K5UjH655GxOZmIKJiXr1CFhg0fo/D5+++/qEa1Mhqr8OTxpuAcEty8mX9fF8yZ77jx06l06fL0Vowq/3H2VJoyeVxIYKflKzZRipQfK3GPEaLg6tXLDNMJ7XbOMFM+tHPt+p1CGA8wo3D37h2qWL5wsHJntV7CqmA+ZOhIqlipmsJo396d1LfPF8HiZefJPPr7h8lzlM6Ov+7corp1KtHTp0/sTEKJy1v3uO0ZR4S2EwhPwqs8G4mFcl+6t61WnNX2yRfrze53XrufbVbrILjhrD5Dg5sOzgcBEAABEACB8EAAgnkYqcWwKJgz2kiRIotR5tHp+fPnXifNgvnxk1e1dMuUyksPHz7QtmVPRBTMedQnj5Bh56v2quU68tTvTcHZ0zw6O8+b+Q8Lgjmz4pkrPLr8zZs3ztAF65jMfdKEUU5H/4VmOxesQnrh5MNHLoj1N6IrKc39cRpNnDgqWKlarZewKphPmTqPChcpoTDihUpbtagXLF4hcXK8ePHp8eN/QiJqLU5v3ONaYvD4LAFfFF49gZVSdL6u99+jnVq/XmW6fOmCth1WPFbbJ1+sN7vfee1+tnnrGrD6DPVWfpAOCIAACIAACPgyAQjmvlw7Ut7CqmAuFcHrXgjmzpHb/fHgPLXQOyp/HGDRT+f1EFYEc+elsOeofN24EsztSTF8xnLk6EWKGi2aUrh+YrT0FjGyMjjOar1AMA8OZZwLAr5BwBeFV0/I6E0NhdXFSyGYB9a+3c+2wJhD1mf1GRqyuUDsIAACIAACIBA2CEAwDxv1RMERzGPEiEHp06endOnSUaT/RaKbf9yk33+/Sffu/e1R6a3aMPcochtPgmDuHCYEc+d8fOWo/HET0oI/BPPAWpe5QzAP5OKuz25RwWq9QDB3t6YQHgR8jwAEc9+qEwjmgfVh97MtMOaQ9Vl9hoZsLhA7CIAACIAACIQNAhDMw0Y9eSSYly1bjvw6d6YPPvjQsJSvXr2is2d/pYmTJtL169cNwxjttCqYJ0+ekrJkza5E8fffd+mX0yeMoqMiYvp50WKllMXEkiZLTveFkH9JTFU9cGA3bdu60fAcZztz5MhFiZMkFeZgItHoMZO1oMOH9qXHTx4r23+KToMLF85qx4xMsiQRcXTq3JOyZMlG8RMkpIcP7otzztH69Svp+LHD2rnOPHxe5849KHPmbJQ4cRLFhMTf9+7SmV9O0qyZk22Z1p4hY2YqU6Yi5cqVl9KkSUfP/31O165eptOC96KFc8WCiG8dsli8eGnFRELRoiWpVu2GyrHX4lro37+rFu5XsTgrL0KldzwVn+3r5s1bgDJmzEIxYsYktmV7/fpV2rRxHR09ekh/iradJWsOSp48BdF/RHv2bFdYcH1Xq1abSpQoSx99lJj+EPVy6dJ5mj1rMt2/f08718zDddy02efEZUqWLAVFihxZuX44/rlzpitpyB8HzgTn4JSNr+GYsWIp9nwP/3xAufbatPWjwoWLiWsxGT0Tdn779e1K165ddiiKnfl3iNhkg8WH9h26UOrUaSmhaBeePX1KN25cp2lTJ9DFi+fIHcHc3Wub006bLr2SM76XTpw4apLLgN1cH/kLBNi7viuuRXXB4KzZcih1zaEuXTxPN2/eMIzHk/rkafOZMmdV4vvq67EUM2Ysxb9l83rati2gLXr+7BkdOrRPS9NqO8cn8PXevn0X0YGZkRKJ650Xfrt9+5Zoh0/TjOnf07NnT7V49R79NcbHeQHGqp/VpIIFi1E0MYqb6/LkyaPCtvu0IPe9Pj6r27lz56MmTVsTs+Frhst/W9zze3dvpyVL5htGw+d88GEi5djIUZMoSpSoin/tmmW0b98u7Ry+V6zYwPakXowE8+jCNEybNp2pkLhfP0r0Ef3777905cpFOrB/D60RebPi2PxOq9YdqFChosp1GJnbHNFW3bhxTbRbU4Pc41bijB07DhUSbQU7vj4yiLaVHcf5/aSAdSZ4m22a83ObHV9L2bJ9qvjP/HKK2D483xstWrRT2uaoUaPSfsF65MihShj5h+uH29wcn+YW9ZpKqYObN3+n8+d/pXlzp9PLly/l4JqfzaQULVZS2X7z+rVox3dox9hj1zXq7B43Kjfzq1S5GpUtW0kMDPiEHoj2hd8hVq5YpLUbDhk12KhZs75yLyUR7TW7U6eO09at/nTwwF7lXuJ7LUlScUw8v3bt2ubR/cX3aPnyVUS7VoSyincjbqP4mXf58nny37CGfv31tEHOHNMq7CEAADqkSURBVHelSpVaiSOXqMP06TPQ27dv6c8/b4rr+BItXjSXbt36w/EEacuofgqK67h69bqUO09+5Vm+VbxzrV+30uG+5DT9vuhNGTJkothx4ohwt5U264fvxxq2WXyfFRPPZHZ/iOuKny3s+DnNz2t+VkcR1ye362fP/qKsQ2HW9rkjmNtxb7r7PqUUzMlP6TIVlPcBvq569xmshezVs6PmN7qX1IOetL98rlEdJBDvo35f9FKeG3HFtcfvbq1bNVCTMv33pH0yq7dq1etQrVr1Sb3P+JnF76pzfpyqtW2mGREHPGm7gvPOq89LcJ9tZctVEuVvIN6FUyr3Eq+rdEfUw7JlC5X2Wp+e0ba33m14VkQ60cawU58xRvnhfdr7vfAfPXLI4dvGqM22+qxy9z3TLH/YDwIgAAIgAAKeEoBg7ik5L5/n7gjzIYOHChHV2iKOa9aspvETxlsukVXBvG+/IdSwUUsl3tu3/6QqYtFN2fGL0OzZiyn9J5nk3Q5+Fhg7tm+uiAEOB5xsbBB2ItXF+syCsUBcIH9gurJgvtF/DV0UYnr3nl+anU68YFP/fl3FR/M70zDfjBhPVarUIPrf/4zD/Pcfbdq0jgb072Z83MLeb0aMoypVa5mGfCI6CHp27+AgZJ8Qdt3/J4RmZ47L37DBZw5BKlWuTsO/GkNRowaYV3A4+H7j/Lkz1KtnJ8OPdpnxlMljhVCTmqrXqGsUjRAB3tCY0cNp6ZIFhsd5Z8WKn4n8fKfZR9YHfCVEnyaNq9NMcY0lSPCBcthMMA9u2eSRRn6dWtKIbydQvPgJHLLE9bxp41ptn5351yI18bBQM3PWYuJF+8zcNiEO7d+/W1sI1plde0+u7e49+lNzIeaxY6G4UMEsTj+QeXGxmuLDkh13OBQrGiAOrlq9TQjvnyj7WdgZPKiX4pd/PK1POU05Pr2/Tq0KmjDqqp3jc1lonD7jJ6f8mcn69atoyODe+uSUbfkaq1a1JE2eOldbTFN/whNhX9rPr7VpJ6U+vNE2Cx5Tp88XHX1JjQ4r+/geGz16mBAmFzuE2bHzqCaYOxzQbXwh8siirivnSb3IgjkLQ717dabZc5aatl/Xr12hz1s3MF3ngvPYoGEz6tlroGkcHObK5QsinoYOggHvd+YKCAF1+syFzoIox36cPUUT0OXycQfnZZGu2gGqRvRACPlly+RXNymW6NSbMnU+5RSdq2aOn40//PAdzZ83M0gQFo0XLFwTsF88v3LnSucQxq5r1Nk9ri/3IiESjxDPWrPn7Eb/1TRoYC/TZ3XefAXp++9niw7P2A5lUTeYR/NmtYk7flKLDml2/GxatHCOGsTSP7ObNn2BEMnimobnNpifE2ZrMyhtTcMWpmUlUScbxTNm+LB+hp0ecv3UrlmOpok2yfD+FvG0a9tEeW/gzrJevQcZ5pnv/x7d24vBDYG2uTmgLJa+ePEvVataiub/tErr6NRHxm0fd76NFosr650cFx8zM2Vix73pyfuUPr/67ZOnr+t3Bd02uJeC0/5yAjI3roMR3wyiwUO+1Tov1UyY8VSP878n7ZOcPl+XxYvlpNVrtisdxXLcqv+56Cz269xKdPgeU3c5/Aen7fL0ndchA+83PH22sUA8ecpc7V3UKG5+bnfo0IzOnT1jdFjZ5813m/ETZlApscA6O37GNGtq/q2xZOkGMdggmxKWBxj069tF8fOPvs228qzi8zx5z+Tz4EAABEAABEDATgIQzO2kGYJxuSOYlypVmoYNdfzw4BFXd+4EjBhOnDgxJRRideQoUZQch4Zgzi/T/IKl2rZ1hu7161dUpFA2049I/bmWBHMRZ4F8xoI5j9Qz/IjUJbRdjDhlEUbveNTwT0JU4BEXVhyPkm1Qv4qVoFoYTsN/414xylCM2Lbg2nzeUBsVb+XjgUWfenUrazHz4qBswsWK4w+fkiVyB6kvWTDnUTXcYeLKtWvT2EHsV8M3atyS+vQdom6a/vO1w+KDOlLYSDC3o2yyEPGvGOGvpidnTBbM7cy/nIaRnz8016zbKUbwJzE67LCPO7Z49B87I8E8ONc2j27btSdwlokr0UmeGcCi15cDeij5ciamcYDg1KdVYVZesM2VYM5tyfIVm4J0oCiFMfjh0ZiNG1YLIvDJ1xgLoeoIboMolF187ZcS96EnCy7z7JOJ38+iyJEDnhFmaaj7WTzk+lSdp6KCer7+35N6kT/SuU2KLkyTuSrPPTETqny5gvrklW25w8cwgLST24DKooOY2zkrzqogNX/eDBo/7lslSrl8LIhxp4zeyYI5X4dr1+80DKc/j7eNzBC5I5gH5xp1do/L5eY2SmlrzTql3xds2dIF9O2IwNG9anm505KFcDOxXQ3HCwzzbIS4ceMpu8aPG2HYoaCG1//XrtOQBvEC2y7yyedxx03tWgEilRzPmrU7NMFe3m/kN1ssVm5DuDNdLY9RHNxRMEvM9OrYqbvRYW0fhytWNIdD56csluqfwdqJBp49YtZKt65tHY7IcfEBI4E3uPdmcN6nHDJrsOGJYB7c9pezIXPjDgl2RgMljHgqgaUfT9onOX0WzB/989CpWMzJcT65g+/hwwdS6qS8jwen7fLkndchA9KGJ882HuE+cdIsQ/5S1AFewYo7DvSdUHzQ2+82smB+Vsx+adqkZpDsqjvk93v9t5HcZlt5VgXnPVPND/5BAARAAARAwC4CEMwtkOQptCxw8VQ8djwCgqe+qlP0LUQR7CDuCOZTJk8RU7WzB6QpXr769O1Dh48cDpKHmjVqUrNmzWj9hvU0d+7cIMfNdtgxwlwejcDpsEDLU/WPHf2Z8ucvTCVLldNGkfJxNhkxfdpE9rp0Q4eNpk/FVPP/iY/TNGJKoepuiWnL6lTzR48eOExFlV/21PD88n5OjJjm0eRPheBSoUJVKlhIGiUv2FavVjqISYgBX35F9eo3VaMhfkE8Ja6ZLZs3UJy4cYk/hvLlL+Qw0kceOaid6MTT2a8nsckP1bE4sXfvDtotpoqzuY0SJcspZlPUD3Se6t3s/cvu/9u78kAdqjZ+2kv1Fe1afH0RRcW1k6XslKWyhCwlFZISpf0TStaUNqSUCCH7vu9d7YskoQVfGy1KUd/zm3vP3GfOe2bemfvOdV0954935p0562/OnDnnd54FEoLHkzTdSSQBzUk3LNR1WLd2pavKnz9/AbVoMUn9ZC72gQtIvYUL56jPSO29ZMkyqkXLth4ixrbwtWEMbN5at4reJSIUSUW4Jb1nBc8+V1fDMa9Ss0Y59z9Ozqb72BTR9cE1bHKsXrVcvf/+2+ryy6urtLRyVkLeJMzjahsnIlAfBOC0kfo1zONcRpLdkPDCIijO+meUFPwLqaZK1Od0AIEBCaZFi+aqE0naEe9aYdLyMBfTNsI81b49dRqRPoUypDShPQJJbVuAWvyEibPdWw2vqu6+Z0FkWqrPEyZpMNYjwLyRxgQE6A4ynaJDp05t3f/JCHPeZqQH/p98/KHz/gB/SHDBRIsuC3HenDpRPfJwT5y6wdbH8N5j3Fy9apkqTOYSWrVq75GUXUzP+C7SMIkSTqA6LVqS7pGihuQbSDiY4LjookuoP1V1N1Z03t26dnBNdDwx4GmnT+Ee1Lr1uwpCGkQdArRIOndqH0p7KDvPhS/SnQIzf77ctsXp+5/SRmX58pUccxQce9tGTsWKVdQzz41xs8G7DZNeMBn2/Q/fOWNOBYrDCUiblo6bgXECcmngoGecq2eR2SpNfqOcLVs2u7FhqmomaUAh+LXvp9271Pr169QJZDoDG9Lt2zZ14j85bITzXXD+0A/6Tnr6GsfsCL4FMJWAsVwHlH0VaTJwEx9RCHOdT3b6aNA7bms36gqTTZiTQRulfoPG9I2tqKvgjMXYCOFmvrBhO3/BGk8/xwbH2rWr1JrVy1TJUmUdMzm2zfOohLnn3aV5QzqZdIPZMPRFmOyoXr2W53vFNVjQCDwbaFPpgO/me5kmY2BWq2q1GqoeaYDxfgxNlWlvTtJJnKOnHpl3YCpv1qypatePP6p27W9RxS4q4UmDP8AX2kfQiDvm6GNURzLrpTdWcX/SxLGqb58HcOoED1mqL9IREunvkzm6xYvnEQl6hqpG8xSMs3p8QFSYzpsyJcs8kpmXSfDG8W6mMp9izbOeYrMUG3UwkcLnNny+9e23O9UtHTPmjHGMv6iIiZuuXMYzeJvG4Z8VzBf6bRDq+DqvqOOTX/mYe6+kvrSCzGBdQJpiLemblY9MKumQTmb9biZBCR5SHbuiznl52eZ51G+b7Xnivce3FPPV8uUrOxL85573b7covN9XVCvtrB30xdyY2+QEYa7bg6PftyrVeSYvQ84FAUFAEBAEBIFUERDCPAmCt3ftoW68qZM1VlSS05pJyItRCPMZ02fSwj1D7feLLzbTIqhdyFLCRYuDMOcLN1MaQddiGEk4ViE7qwhYyFavlqZvhTpCSmE9mR/R4crqpRMkV/S9BDKXFrVaJVnHwbEBLcT7QP07M0yd8jpJ89+r/yaQoZBsxILElPIsWvRi9eprU13SHCQal3h3M/Q54RsOIKHq1K6YIJEKcyf/7Z1p/5bac+UVZTztD+v0EwuEWrRZoINN6vtI0lYAiX3GmQWdaJDIK1v6Qp3EOZoYg4SEmZ5dhhTmC2SaADZedbiCnjuPY+YzftxLqv/jXo0KpH15zBsJJjBMwjyutvH+jLLRX/FM9AYNrukQZ/11nn5HqAGPfW2aexsLMWBuSnBh4Tzmlcke4sIkzE2iPzt926PeT32yImmOoE5mgNQnbOUjmFK/QWRaXM8T5XIJd5u0LeIgBBHmIAO43VosEOvUrpTQZpALEybNypKAJmwgZQrfADqYfczUAkE82PBdsnS9gn1aBPMZOheT/IwY+ZqHbLQRGMiC27vHf7+yeL3v7Xm7mksbkKmEsM/FRqzavtmwr4qxS0uff/3VNoco5nVctvxdF1NIS7Zte12CuRuQ3MjnFLKNrkOLZg1c+836WrJjWKd6tvYNHPCoGvvqiwlFYDNyCWl3aELVT4rZ/L6ZY2tUwjy7fTToHU9oNz2PTre19fgVAADmu2eO/YOHPO+Q1Rosvw0O/jx03CiEOTaMJpMpCh1s7wC+n3PnrXY3sFfRxmrnTu10EiL217qmLCDRfQXNZUyb3xifsTmn/QXYnjF/F5E5BD9MMyh8bqErYKsz+pPWEvuc/ABcd21dHd1K1mKjrC59E825EOzODxz8rJsWhG75csXc/ybxahLmcbybvM3ZnU+5FfY5MfuB2Q6dLK7x18QN+UMQQhPzuryoR/4++GkyIE9b+RvIR8L1pD3FA75Zc+atdDXgsDmTVipL0CWusQtlhp3z8voFnfP3yfaOIC3MMHFBGz/hH77eQTr4khg65HGcOiE35jY5SZj7favimGdqzOQoCAgCgoAgIAjEgYAQ5gEoQrL8iYHDA2Io1ZNMchwISfNIhPm0GbS4z1Ad3vv776p2XbsUZ2DDAm7GQZinv/2ZS1DAEdwjD9+TUOIp5DQOdn/hFAtSUC+SU6AoIRXC/L9UHz8ncFxiFM47Yd9UB246ABP/5s0bOFLY+j4/QrIUE1Id4ARq4YI5+m/gkatnQ3K+Qf2q1vhYfMHOOhygQTqRE89hFw8PPNjXka4HCQdp+3uI9LIFZ6JLZmJ0MDcoTKLYlKLT6WBCZOXqj/Rfx0bq4kXznP8gpVavoXuZ0u7vkoPD9u2auXH5CUiIOXNXeQgskzSJq2184YTNgqtJIppLJOt6xV1/na/fEVJhNWpmmNZBf0Rf9XMs55gNeCjD3APyMwnQOPo2ngmw0sSdHxG9ctUHrtTZyBFPq+FPD3KbGESmxfU8UVhYYjaIMJ85e7nj3Av5gehq2PAKa7/A/WokJTqU1LZ14GZocI33MTwbbCBqB5A6DY7mRplpZ5rHNc/N5wPyGFo0fr4aTEmwrmSTnDv1RP683n6kglmPoP9hn4tJrMJhZtfbb7JmzduBjTyYANPBNEdgk0DXcSFNCAJP9+95c2fSeNlF3w51DEtIme0LGpuhsTGAHGCfc+55Th3q1q6sviPn07aAjTM4A0Uwx9cohHkqfTToHTfb/ewzQ8hh7jBbU8gE1HrXDIRpV3f12o9dSf4dZIqqQf1q1M/3W/N5Y8o8hwDUN6MQ5vAbgc1bHbh5NH0NR5iHgTPZzaTpBQ0tvrH0yqtTHA0SfD+C3qEON3dWnbtk+HQwx2+Uwd9Fm18ZxIHEOzYTdFhGkvB3dL1Z/3WPd3W/T93QJuM6NFCqVinp3jPJUnwTmzSqSXO5bW4cfgLH6B06Zs0r7r6L5kKkwYZg5sWJ5rjezTjmU7w9tvMwhHmc46+JG7Tw6tWp7DuW2+psuxZ2fDLLh6YJhAhs9vmh2TL65YlucXVqVXQ1j+Iau5B52DmvW5EkJ/x9sr2X2AxIX7/R/R6sXbNC3XrLDb65zpm70hU6gdZB7ZoV3Li5MbfJKcI86FsVxzzTBU1OBAFBQBAQBASBGBAQwjwAxBdHT1Cl0soGxCDzLG+/RaY97IRdYMKIN6MQ5i+OGk0q/lkSGitWrFBPDOivdu/eHbFUe/Q4CHNOOmMx1bbNtYGObuw1Cb6aXcI8mbS344iGJM0RsAjB5F4HvkBfvXq56nRrG33LeuS2FadMHk/OunpZ45kX73+gj7qOzEfo0I/UoSeSWnSUEHXxACL7d9qA8SPPUPbadRtcJ5zmBgAnzM0FtllvTmZwQsSUGqxCjiB/IRV8v2BKr5mEuU6Xatv4wsncRNFl4JhT9edl8PMVK993nczB9A20JoLC3PmrXfv9JuESV9/mkv9bt25WjRvW8FTJs3gm6VE4++TSlEFkms4o1eeJfMISs36EOaQvIYWpA0xKQbosKHCy0nxHeB8LWnifccaZJLG32i2mXt3KviS9GynzxJQav4o24r6mDbmgsIo2sLTNflu9eL1tpEJQ3rZ7YZ+LSaxyu/Nmvp7NCupzfJNhGDmErFL1SicJNATgnyEo8E0SqN5jwyFKCEtIme2D9O7OnTuSFnU8mT/g75OZ4Nbbuqlbbr3DuWySNlEIc1tf0GUl66NB77jZ7qBvAIjmEqQ9g8Cd1plk3qO9e6nJb4zX1Us4evoH3Y1CmCMzLiCAOUPzpvU9m9cJBfpcSPbszE1rTi4jS/4umhtyukiYoMF3QAfTRIq+zs3EQEuoYvmL9a0EkttPKMJNQCd8HFlDc6fbMudO5rPibYrr3YxjPsXbYjsPQ5jHOf6auA0nR74jRwQLANnqbV4LOz6Z5XP/C2ae+P/Ou5tdQQi+YcLjJuv/QWMX8ok65+Vl2875+2T7tjVu3Ew9/N/+btLKFYsnaFi4N+kEGqHY8EYwJe2di/RzIOc2OUWYB32r4ppnarzkKAgIAoKAICAIpIqAEOYBCPIJnG80Y3HtGy/FG1EI80YNG6m77uqeUOLPP/1ENpU30sT0HTVnzhz17bffJsQJcyEOwtzmpAkLybVrVqpVZI8X0oBBi/ow9cwuYW5TZeblcWkoSM3ASZEOnACHROn69Ym243VcHMuWq+hK2sMOMVTLwwTT1AbSQOUZEoGrVi4jom5BUpIslcUDpP8vJqem+/fvJ2ey29W2bV84kkPcIdJDD96tpk/LkqzjhLkpuWi2ecHCda5k+MgXnlLDhw92ovTpO0g1uCpDoh/4litb1Ezq+Y8F1gqSVtbBjzDX93HMTtv4wsmUiOZ5H4j68/L4GBZUL52Gqw+bhHlcfduziUHjZ5XLL/NsenB7pTaTDkFkmm4HP2bneSJ9WGLWjzA3beu2atkw6aZg97sfUK1vyJSCNr4tvI8l68fc0Ry3/85xsZ3D/0Ojxk2dWzazSrY0k96Yoy4gG/gINqlVXm8bqWDLM+ha2OfCidVkbTn33EJq2owlbrGclINzZW57GGReUChe4jLXlnkYgt3MKywhxdsXZiw0y8H3EWTySaQ5hE1H2EqHqaZ69Rupfo9lbOz8QPbZa1yR9X2LQpin0keD3nHebnOMMts4eMhzJDFdx7nMzUHUqk3agyRxr4OpDaWv6yPsT6+hzWAdohLmsGNduEiWmRGY9YG5JWyqryAfBLCb7ifdrss0jyAkzyWNATgjxaaW3tji7z7vx0jP30WbjXPEcbSgSPpeh5o0v+G23/V1Po4nI8y5w2ud3jzycYRrzZnEK29TXO9mHPMpsz3m/zCEeZzjr4lb44ZXqq1bvzCrFfl/2PHJLB8+dPy021AJLmyRrL9kZ+xCGanMeZHeDPx9sn3b+PNE2mTfDmx4cVvmZUsXsUrk63rk9NwmJwjzZN+quOaZGiM5CgKCgCAgCAgCqSIghHkAgpxs8o1mkBq+8VK8EYUwR1FDBg1RaaVLB5b6ww/fkyOp3uTE9J3AeObNOAhz5MnJObMM/AcZDedQUIG32YK2peHXskuYL1wwW93d3W63Hvl3IvXhmzPVhzlhbi6qeV3CnHMJuDDx27e/VXXtlmjKRqeFaQHYH4Z9b72Y1vdwjLp4qFLlCtWLHJqedtrprp1Unh/IlfwnF3DVT4MI8/nzZqqePfxNFfgR5ty+OcxFwCldssAXYn4kTqpt4wunnj3ITBM5A7SFnKq/rSxIInHTNreQdPk6kjIPCrxvczIq7r7Nn4lp05Pfs0k3BpFpum2pPk/kE5aY9SPMW7Roo+7plWlbP+R3olKlqmr4sy/rZjhSm9rGe9g+hsScNItCmMMEVjlyQoZgI7+dG8YPl4rDpl1V2gDhgdfbRirwuGHOwz4XTqx+/923ynQezMs655zz1HQ4Es4MnJTz2EjWEUIeTSIxTLKwhBRvn2nn36+co8kJ6AAyM1e6dHlX84THhXYVNqpPpnEcIRXCPGgcRN5BfTToHY/Sbj/CnH87kxE4qCsCNxMVlTCHtsnkyfNcG+UZObJfGh+2fblFTZwwVr36yih2w3uKzfprrrve853VMSCRumPndo8zTt6PEY+/i37PxyTML690iVV4IQphDvNR8OsRFPr2G0zOWps4UfhGk0m88jbF+W7yPmGrZ7L5lC0NvxaGMI9z/A3Cjdcr6nnY8Slq+fy7byPMUx270M6oc95k2PD3yfZtS7bGSZa/TTvsQM5tcoIwD/pWxT3PTIav3BcEBAFBQBAQBMIgIIR5AEp51SSLblKDBg1Uq5atyBHlOfqS9di3bx81b36GjWhrBONiXIQ5stULwAIFTjVKyfqLhQrIvg8+eDfrYoiz7BLmychcTipywtxUhw5RRU+UZFLXnsiZfyAp17lLd1XovPNddVYzHhbSAwf2Ua+NHe25FWXxwEkxTyYBf3KCMH917FQFCU6E995dr9qR871kgZPvNsI8jrbxhZMfEYF65kT9/dpv9kfTeaotXd16DdVjjz/p3OKEuZmXLW3QNbNv84UYlyasXLmaevqZl5ysIBVcvmyxBBNAQWQaEsbxPJFPWGLWjzDn6uGmXWzkbwv58xdQi5asd29dTRtC2u5v2D6GxEFkpJu55YT3zyDTQjzpTR06qy63Z9hNNh32IR6vt41U4HmFOQ/7XKIQq0GEOSdywtSPx+HvEL8edB6WkIrSPpR3EWkEgZA78cQM/yZBddD3DlXCnNv6DrupwcnZqIQ58AQZBHNulS+v7tpO1zjzI8z4wDEi17CD48ORo8apIhdexKMmPefkMiLzd9HvOxU7YR5ysxBmgDBmIvDxMoh4jfvdTGU+5VQ84CcMYR7n+BuEW0A1k94KOz5FLZ8/S5Mwj2PsQsOizHmTAkER+Ptk+7bx5xkmPzOOOWc70HMbPk/76MP3VGvSEvALXIN0wfxZqgf599Ih7Lcq7nmmLl+OgoAgIAgIAoJAKggIYR6AXl51+mk2CZIZFSpUIKdMVVVaWmkyOXGKJwoWjPXq10sgpjyR2J84CXOdLVTiG1zVRF1GDrJg6uNfJ52sbzlHSC5Wr5oWSW35QBPmcNj01vrP3HpjUQ3TMmED1OG5U86w6RAPzuZg+zCNbO4XL36pOvPMgl4CnRat115ThxyKZdUv7OKBO+Fx6kR5/fDj92rDJx+RWZ+dJHF+BtksLZxQZk4Q5nyxZtqP98PrLXK6dOSRRzm3TcI8rrbxhZMfEYEKxF1/vzbjutkf/eyC8jy4SRBO9pl5pdq3sQB+bdw0t2i9MOQSdn42kIMI87ieJyoWlpj1I8ybNGmmHnoky35pMvVqlAnHf48/8RROncDThO1jSJhdwvzp4aMdQg95JJPKRhwESCzXJAfZCJAihTQpD7zeNlKBxw1zHva5hF2ko8wgwpyX987b69Sjve8LU00nzm/0bbU5/w3KgI8R776brtq3zTCRY6aJ0j5omyxb8Z5r/gt5QbIaPgQ+/vhDskF/nCOZXLhIUQ+Ze6gS5tzsDLDwk6LGPYTDyXnfenJUrp1NZ4cwz8gp47d0mfIKEtowcVO06MWu3w8dJ/2tNermDtfrv2oGaT+cTVoQOmATfPuOb8gu+3tksuEPx+/EhUSmm/Omg4Iwp0o3qFdFffPNV7r61iMcjcLhKALvd0HEa069m9mZT1kbxS6GIczjHH+DcGPVinwadnyKWr4fYR7X2IWGhp3zhgUl2beNY4U1TFtyuh4lwGyTDrkxtznQhHnc80yNnRwFAUFAEBAEBIFUEBDCPAl6t3ftoW68yW6e48VRz6inhg1IkkM8t6OaZAkq9dJLLyUzJwM8C+ObOtyoNm3aFJTMvZcThLmbeeZJwYLnqBEjX/PYjrWZZzDT8f8HmjBH2dz+3vhxLznmUHidDtQ5Fhm9Hx2oatSs5xa5csUS1aVze/d/2MXDuvRP1VFHHe2kA4kGMyjaTISbGZ046pRrP3FJhZwgzPmiIZldYtTt1FNPV/MXZtmRNwnzuNrGF05BhHnc9ef4286j9seXXp6kLiuZYcqJE+bIO2petvrwa5zsGP3is2rYk08o/jw63NRCrU/PenY6bRBhztOn0ldRFq/fsKH91ejRz+kqeI5+hDk2r0aR42gd4AAYNouDwkMPP6aaXNPCiWI6/Qrbx5A4u4T5Aw/2JVKhpbV856LlZ9r0xa7dVZuTS17vvEiY8/Yl829hgSfyJU6yxEWYd7vzXtW23S1uXfo/9rAaP36M+5+f8A0QTlwiThQb5kHjIPIK6qNB73iUjQI/kyymzepe996h5szO2sBD/XgoW7aieoHmIzqkSpjrfPSxXLlK6smnRnrmZBXKFXNM0YFQh/SmDtiE73p7pp8DfTHzaNpmP1gI88cfe0i9Pv4Vo7bev/w9486gg4hXniYn380w8ylvaxL/hSHM4xx/g3BLrF34K2HHp6jl+xHmcY1daGHYOW9YNJJ92/j3PMx8Najc3JjbcML80w0fqRbNr/KtIvdflF0Jc2Qe9zzTt8JyQxAQBAQBQUAQCImAEOYhgIKk+fUt26lSpco4sd95J12Ne+0lNZ/Uzg5UiJMwR53LlS2nBgwY6FZ/4KABavr06e7/oJM4CHNI9JWvUFkdn+94NWbMSGtxILzXEAF7FEnII7w5dYJ65GF/m91mJiZhXqtGefXdd/8zozn/uTphdk2yIKO581c70l44507G8N8WWrZqrz75+AOyI59uu+17DTZRK5CtYSz8nxz6hK/kPW8XN32BjD2LBzJ7U6lC8YTyTKeZd3e/TS1cMCchHi5g0f/8iLHuvZwgzE0JXG6ywi2YnTRt1lrdR3bXdeCEeZxt4wunIKIozvrrNgUduTka9LOW1zcMiq642QGTMI+7b9//QB91XdNWTn12krTkkMGPudLVe8iOcmWynWsLfmRanM8T5XLC/OmnBqpRI7OcBPJ6+RHm0OwBCaClUidNHKv69nmAJ004520zNSjC9jFkGkRGJhTKLlSrVkMNHZY1Ht/Yrmng2ASJsFVrPnI31ObNnaHu6Xk7yzG52roncog/YZ9LFGI1SML88f7DVJ26Vzs1s5mcMasMyWHgMn/+bN9x2UzD/3NC6v333lZt21zLb7vnUdrHfSdAK6h2zQpuPuYJl2Y+VAlztJkTUMnMDTz73BhVoWIVF6oohDnmIcUuKq5Aun/15Ta1cKH9+2kSjLfe0tpxgo65Z897Hs4om7S7SqcV8e1XfEMWCQ4WwnzJ4vnqzm4dXfzME2eut47mepkb83wcMXHhbYrr3YxjPmW2yfwfhjCPc/wNws2sW5T/YcenqOX7EeZxjV1oY5g5bxQs+DfZthkMjQloTuiQzJ9IkQuLqTJlKqiZM6aon37arZOp3JrbwPkztHEQgmyPmxo4qRDmcc8zXRDlRBAQBAQBQUAQyCYCQphnE7gDnSxuwjwtLY0IqqFuMx57rJ+aM9e+kHMjZZ6kSpjXqFlXDRz0rJutzbGNvsknT8mcceo0+mgS5n0evU+9MWmcvu05cmI5FcL8ru73qRva3Ozm3Y8IsolElNkCyPIePR9ybsHZWvWqpdSePXtsUT3XHLXF9I0uETeI7JP7OQrjC0rTxIJpMqJK5UvVL7/87CkLtlOXLn/Xvdb5trZq1apl7n9+8sqrU1SJS0q6l3KCMMczBdFxxBFHOuWgTXXrVCK19H1uufoE0uWzZi93N1xwnRPmcbaNL5yCCPM466/bGXTkpDTiBWlpcGkoxDUJ87j79umnn+lsMKEshM83faouKFzUOZ/25iT18EM9nHPzh5PK06e9odDPEOJ8nshvydK3FYgUhNXU5ztR37cFP8Iccfm4oojsuqVja1/Hqx1v6apu63SnW8SYl19wNhH0hbB9DPGzS5gjLS8HfaAemVPwc9g35pXJ6pJLSyGZE1o0a6A+/fRj/dc58vxspIIncog/YZ9LFEI5iDAvVqy4Gvf6DLdmy5ctJAnfDu5/fuKQRJPnZozN9LzvvaermkubCFECN8vAnR+aeURpHzd1BNMYMJFhC5eSSbSXSctEb/IcyoQ5J+KAxby5M2mzp0sCLNxMlb4ZhTDv/8TTqnadBk7SoI1AROCO5vW7wp0Hm1onuj44wozInLkrPc5cObmMOPxd9PtOxW7DHAXTu3A7ScWvWL4Y/xLCM7QhUZFtSLRq2VB9/NEHTrwg4jWOdzOu+VRCo4wLYQhzJOHPKJXxNwg3o2qR/oYdn6KW70eYxzV2oZFh5rxRwODPSr+vZnq+MQefR3VqV7TOV0E6L1m6Xp1Ic24EPgfKrbkNd4S7f/8+Ml11qVW7FH6UOtycNXamQpjHPc+EI3UIH2zaRGsmCYKAICAICAKCQDYQEMI8G6DlRpIohPmMaTPIvuV2NerFUWrNmjUJ1T3qqKPIAeQ4koQ+3b3XsNHVavfuLIkG94blJFXCHFmuXvuxq36MRXmjq69MIGsd6YzBz7mL92efGaJeeH6YpUb+l7j9atjvbnV9I2fCh0UhNyvCia1UCHMQbAsXrXMJXSwUb2zfLEFKs1Ch89UbU+a58SBhW7dOZf+GGHe4MyFMZNuQbUS9wNRRzzyroJoydYGL84fkNPWG1k30ba96PV3lErAcHy51vHXLZtW4UQ03D30C8zllSIKOh5wgzJH/k8NGqKrVarpF2cwWQLp31uwV6pRTT3Pj4YQT5vgfV9v4wsmPiEB5CHHWPyNH/98zzjhTzZ6zUh1GGw0IIFwgsWo60OWSVzo3kzDPib49kzY0YH7JDFfVr6q+/vpL87Lz348wx824nify4uVgrLi2SW3HDi9/NxAviDDnTkwRF2rZzZs28PgSwHVT8wDvdI0ry3mI6ih9LBXC3Nw4wWITknF79+5FVd1gOiDbvv1rVb/u5e59fcLr7Ucq6LhhjmGfSxRCOYgwR51mzVnh2PjW9Xv+uSfVc89mbTjjOkxSzZy13B1z8K5dXvmSUJugOl8ceX/Cfy1pDELl8MMPc8mWKO1r3uIGdW+v3sjOCV273KiWG+QlNOhGkGNJvRmJiIcyYQ6/KW9OW+SOjWgvzA7MJtMs0KKqfHk1570slVYOtzwhCmFuEod+vhnMzU1t99skyyZOeFX16/ugpz6I8+b0Rerkkwt4rh80hDnVCmNfs+vqKW6XGZU1zR6aG/smfmab4ng345hPeYC3/AlLmMc1/ibDzVLFUJfCjk9Ry/cjzOMau9A4j0kp+u835w0FBEUK822DacSrG2ZpCWEejjnYX/R94MGcF0IjA5oZOuTG3MY0K4e59k3tm3vqbpqBQn1TIczjnGfOX7BWnXpaxjp36ZIFqtsdWcJMGlc5CgKCgCAgCAgCyRAQwjwZQgfJ/SiE+cL5C9WRRIoj/EYSy99s/0Zt27aNVPx+InKqoEorlaaOIJVxHbZu3aratL1B/016jIMwNxcFIIhWLF+iPv98oypc+EIFSTe++MP9alVKqV/JVEOUAImrM+AAMzOAxICq4/EnnKDKlr5QX/ZIgqZCmCPDtu06qm539nLzxgkc/kC9HiZhIEVbghxzaik+3L+vVzc1e9abOA0VTPMnSIT8MaHNn/8UIq8rqLMMx58mSWKqUSIPOILDwvZ/pLbfuGEGMc4lihAH9z8hR3FvkwO8EiVKkpPWEuo4Mq1jhpwizEFYYvGgTfWgXPSPrVu/UJs+20hS7pepgmed7cFX180kzONqG184JSPM46y/blfQ0SYhCclVkOaoC8z6HHdcvoQsTMIcEeLu2zd16Ky63J4hIa4rkGzziBOmXMIc6eN6nsirb78hqn6Dxjh1w65dP6iTT8rv2QTjBIKNNB7+zEuqUuVqbh44+ZnGIEhiH3bY4ap4iUvdTS0dacATvWlTc7T+6xyj9LFUCHNoQSxc/JZn/MXG386d29XGjRvIue9Z6j8XFPEQq7h/TZNaCWQYKs7rHQdhHva5RCGUkxHmDvmjJccznwrGyg1EsG7c+Ik6++xznTFXOxdGlGTfkcxsEg6mWQZE+JU0f4459lg1dcoE16xPlPaZKv3IE8TkihVLcErmQipkbFwddpjzX/8cyoQ52nhzxy6qU+fuurm+R3zz9vz6q+tUMwphjky5rW38h6T54sXzSPJxpypFvg6KksNO/g01xxGuVaHTp6evoU3Fr1Tp0uXpfSzsOrbGfR1Mcpm/i37fKXwTINCgg59DVJgeGjg4Q1MQG4oVy1+sk5AT8CKOQIB7gZ1gDP10w8fONwcS4kfTRhMPbWhTn2/omnmZbYrj3YxjPsXbYDsPS5jHNf4mw81WxzDXwo5PUcv3I8zjGrvQtrBz3jA4IA5/n/y+bShz+Yp3Vb7jT3CzxToE81XM10+i+QTm6yee+C/3vs38SW7MbVAhzAUKFDjVrRvGLvhi+Zu++Wmly3nu6UipEObII455ZgOau/WhOZwbqL7VSIuXm7px78mJICAICAKCgCAQgIAQ5gHgHEy3skuYJ2sDFjrNWzRXu3btShbVvR8HYY5J8MtjJrkmGNzMLSdYrEK13c92tiWJewlqvlD3TQg0eSpV8j/u5bgkzHWGj/y3v2rUuJn+G3h8ZcwINXhQv8A4tpt9+w0mQi9LYtwWR1+DyRaYbjGDKdWm7/MFe8GC5zgbCnxCr+PxIyb5kLLUKqU5RZijTEhDwl66tnnK68HPYepm164f1WmnneFcNgnzuNrGF05+RASvV1z153kGnZsq735xYbII0uYINsIc1+Ps2w45Qzaw+eYRJHchwesXggjzuJ4nyoaJg0VL0q19rEundmrlyqVOFZMR5lD5H/3SRI+5Ir+24bpNghTXo/SxVAhzlAUcx42f7hKEuOYXsPiH00Q/0yO83n6kgl/etuthn0sUQjkZYY56OAvwvoM9fdVWP1z7jEj0Zk3r+91Oen3qtIWqUKGs75NOwDeIorQP6WH+C2bAkgVIQJevkKEpcKgT5sCiVesb1d13P+D7XPfTZmz7tk3Vo30GqUL/zngmUQnziy6+RI2g79XxNKYkCyCU27S+Rn355VY3KrTtBpEZO60p5N4wTmA6qiKZINDBJJf5u+j3nYqbMMf4sO3LLdb+rOupj0MG9U3waROGeI3j3YxjPqXbYTuGJcyRNo7xNwxutnqGuRZmfIpavh9hjvrEMXbpdoWZ8+q4yY78fQr6tuHZjx03zSqYYJbxG/kTgm+e78l8Cw+5MbdB+fA19dzzr/KqJJzjHd9C2qfn/6ewcy9VwhyZpDrP5Bt6TqVozVe5UonIGl9OWvkRBAQBQUAQ+EcjIIR5Hnn8UQjznj16kj3IirTzf4pv6zDBWbpsqRo0eJAjee4b0XIjO4T51q1kyiNTYplnCQmv226703chCGnTduR4bgdJyWc3wG5hr/se9Ugko/1ppS5ws+SEObcd6EZgJ9yuX5A0LJx1dSHbflyyhGXjSJ0/OfRxX7vqPK7fOezzDRz0jEc6jcfFhsjdd93mknv8Hs4hzXTf/X3Utde28BAG27Z94ZjJ0fFBUr0+YaYqSJKUtgBVdqiZQsVdS/SbDkKjYMydVY584Sk1fDgRVUbAImQQmezRk3TjNknwbFYdO7Siyf4rbhyosoOQ5CGOtvGFU5Cdd15uXPXneQadg2Br3fomz3ug42NT6on+vR0HtK+MnepchhR01SoldRTPMc6+DWK22EUlMvIPsajhhLmNXI7jeerGQvp+2LBRrpkNfb1jh5bqrbdWO385Ye43ziFitzvvpc3JNgnS5DpPEGVwfIrxxxai9DFOmNepVdGx4WnLM+gaiDOMLRhj/Ig6mGjqRdoxcCjrF+AUVGswBJEKfult18M8F04oB9ntRv7wdzB/4dqMoozNVF4+VNRBnPqNg3iPJr8xXkFDwOZXgecVdA619KeeGuWxD4/4b0x6TfV59H4naZT26bLw3vbo8aD1eWJz8dHe9ylon2jHr6aDUG7SAERyGXJAyUNcfTToHY/S7sFDnlNXXFnHqWKQE+5TTjlV3dX9fkfSExokCNAKgxbVk0P7O+ahuD8VmwaIkyjgBxtnqE+VqokmzXSydWtXqs60GWfrO+jzI0eNd98lncY5Up99882JjlN0bgc9iDD3+07FTZhD+wSOSl8c/bq6rGRpT7X1H4x9fXrfb3WI6iFec/jdTHU+pdtjO8I82px5Gd8M3DefjZkm1fE3LG5muWH+hxmfopa/avWH7jy2W9cOaunShZ6qpDp26czCznl1/KBjlG9b/vwF1JChL6jLSHuWCwi4+VPfXkvv/wP3d3c0Ud3r7ORAz2100UHvBdYYMHXSvPkN7lgbRJgn+xbrMnFMdZ7pfkec8XESjY89efZyLggIAoKAICAIhEJACPNQMOV+pCiEua7tcccdp8qVLafOOeccUhk/21mE7di5g5zrfa4+/OhDMm/yq44a6RiWMI+SKRaDFStWVReQqj8mYGvXrHRIXtMJZZQ8zbiYwJ//nwvIfMd+lf7WmgSb6Wb8uP5DOqwkLRTPzDQN8/nnn6mPPnzPl8TOTrmQkIRkWcmSaY6qJFSaly9b7NhcDpMfFvOXkMNO2PvbTdoG6elryU7h/oSkmPRntKcMEX/Hqq+/+lJNnz45wSZzQsIcvIDnWrNWPafvoJgdtMkye9Y0x1xClGJzq21x1T9MW6EefNXVTVRxMgmEDTU4mQXZOYmIOBtJkyzPA9G3k9XB736czxMOSosWvUjlI9NDeLew6MtugM1PEI8Z48Fhahtt7Kxbt9ol4LObb06ly5cvn2pw1TWqSJGiZO6pANky/11t/nyTQ25BrTw3Q5zPJUo78L2qUuVKx/TE33//pbZ/87Xa+NkGtWjhnARb71HyNeNCEwsmO445+hgyrfZ14MaEmdbvPwgjkDbVqtd0TMngG/shfY+mTJ5gHfP98vmnXecSsDZCLywe8K9RpkwFVa58JUeSGNpca1avcN7/MGMwNlqrV69Fm4zFnTH7iy82qQmvv3pQmRrwkKUEjCaHMU+5hjbnYT8e5ou2fPG54wQZJh7iCnG8m6nOp+JqC/I5mMffnBifgrCLc+wKO+cNqk927uGbVbfe1TRfvdB5tjCN9Rk5PIdD3J20PgsTcmNug3ELpuWgHXkWmTzcvHmTmkFz/6++2hamyinFSWWeibFo9+4fEyT2U6qQJBYEBAFBQBD4RyEghHkeedwn/OssdfgRR+Z6bf8iqbJfftqe6/WQCggCgoAgIAgIAoKAIJAdBEC+wSlv3XoNyZbw+gTNI56nabIHTnC5yRQeV85Vgg1zTZgLNoKAICAICAKCgCAgCAgCgkBeQkAI8zzytI7Nl5+cI2U5jcmtav+x9xf1+54fc6t4KVcQEAQEAUFAEBAEBIGUEICpLm2rPchpLQp56eVJrjmRP/buVeXLFUup7EM9sZ+E+aHebmmfICAICAKCgCAgCAgCgsChhYAQ5nnkeR5+xNHqhH9lOC7MzSr/8tNO9df+P3KzClK2ICAICAKCgCAgCAgC2UagWLHiatzrM9z0MI3Q9Lq66scff3CvQQq932NDVZ26V7vXFi+aq+6681b3v5wkIiCEeSImckUQEAQEAUFAEBAEBAFBIO8hIIR5Hnpmxxx3sjrm2BNzrcZ7f/9Z7f1tV66VLwULAoKAICAICAKCgCAQBwLcETXygzPwjRs/IT8Y29WZZxVU5533b4+TzT//+EPVqlWB/HyIll0Q/kKYB6Ej9wQBQUAQEAQEAUFAEBAE8goCQpjnlSeVWc/jjj9FHXV0vgNe6z//2KN++/X7A16uFCgICAKCgCAgCAgCgkDcCMBp4ajRr5ND34uTZr1v35+qS+f2jkPypJH/4RGEMP+HdwBpviAgCAgCgoAgIAgIAocIAkKY58EHeaAlzUWyPA92EqmyICAICAKCgCAgCCRF4I477lEtW7UnPzHHJMb9+2+1YcNH6o6uN6v//W9H4n25koBAoULnqylTFzjX9+3bp8qVLZoQRy4IAoKAICAICAKCgCAgCAgCBzsCQpgf7E/Ip36waX70McerI488Vh1+xJE+sbJ/+a/9+9S+fb+rP/b+KjbLsw+jpBQEBAFBQBAQBASBPIDAySfnV1Wr1VBFihRTf/75h9qyZbNaMH+W2rNnTx6ovVRREBAEBAFBQBAQBAQBQUAQEATiREAI8zjRlLwEAUFAEBAEBAFBQBAQBAQBQUAQEAQEAUFAEBAEBAFBQBAQBPIsAkKY59lHJxUXBAQBQUAQEAQEAUFAEBAEBAFBQBAQBAQBQUAQEAQEAUFAEIgTASHM40RT8hIEBAFBQBAQBAQBQUAQEAQEAUFAEBAEBAFBQBAQBAQBQUAQyLMICGGeZx+dVFwQEAQEAUFAEBAEBAFBQBAQBAQBQUAQEAQEAUFAEBAEBAFBIE4EhDCPE03JSxAQBAQBQUAQEAQEAUFAEBAEBAFBQBAQBAQBQUAQEAQEAUEgzyIghHmefXRScUFAEBAEBAFBQBAQBAQBQUAQEAQEAUFAEBAEBAFBQBAQBASBOBEQwjxONCUvQUAQEAQEAUFAEBAEBAFBQBAQBAQBQUAQEAQEAUFAEBAEBIE8i4AQ5nn20UnFBQFBQBAQBAQBQUAQEAQEAUFAEBAEBAFBQBAQBAQBQUAQEATiREAI8zjRlLwEAUFAEBAEBAFBQBAQBAQBQUAQEAQEAUFAEBAEBAFBQBAQBPIsAkKY59lHJxUXBAQBQUAQEAQEAUFAEBAEBAFBQBAQBAQBQUAQEAQEAUFAEIgTASHM40RT8hIEBAFBQBAQBAQBQUAQEAQEAUFAEBAEBAFBQBAQBAQBQUAQyLMICGGeZx+dVFwQEAQEAUFAEBAEBAFBQBAQBAQBQUAQEAQEAUFAEBAEBAFBIE4EhDCPE03JSxAQBAQBQUAQEAQEAUFAEBAEBAFBQBAQBAQBQUAQEAQEAUEgzyIghHmefXRScUFAEBAEBAFBQBAQBAQBQUAQEAQEAUFAEBAEBAFBQBAQBASBOBEQwjxONCUvQUAQEAQEAUFAEBAEBAFBQBAQBAQBQUAQEAQEAUFAEBAEBIE8i4AQ5nn20UnFBQFBQBAQBAQBQUAQEAQEAUFAEBAEBAFBQBAQBAQBQUAQEATiREAI8zjRlLwEAUFAEBAEBAFBQBAQBAQBQUAQEAQEAUFAEBAEBAFBQBAQBPIsAv8HqUGwcb1YIaoAAAAASUVORK5CYII=)"
      ]
    },
    {
      "cell_type": "code",
      "metadata": {
        "id": "9fQlDPKCh8sc"
      },
      "source": [
        "from sklearn.preprocessing import StandardScaler\n",
        "sc = StandardScaler()\n",
        "X_train = sc.fit_transform(X_train)\n",
        "X_test = sc.transform(X_test)"
      ],
      "execution_count": null,
      "outputs": []
    },
    {
      "cell_type": "code",
      "metadata": {
        "id": "syrnD1Op2BSR",
        "outputId": "711172c9-25a5-4c03-e835-6ab94766bdc0",
        "colab": {
          "base_uri": "https://localhost:8080/",
          "height": 1000
        }
      },
      "source": [
        "print(X_train)"
      ],
      "execution_count": null,
      "outputs": [
        {
          "output_type": "stream",
          "text": [
            "[[ 0.58164944 -0.88670699]\n",
            " [-0.60673761  1.46173768]\n",
            " [-0.01254409 -0.5677824 ]\n",
            " [-0.60673761  1.89663484]\n",
            " [ 1.37390747 -1.40858358]\n",
            " [ 1.47293972  0.99784738]\n",
            " [ 0.08648817 -0.79972756]\n",
            " [-0.01254409 -0.24885782]\n",
            " [-0.21060859 -0.5677824 ]\n",
            " [-0.21060859 -0.19087153]\n",
            " [-0.30964085 -1.29261101]\n",
            " [-0.30964085 -0.5677824 ]\n",
            " [ 0.38358493  0.09905991]\n",
            " [ 0.8787462  -0.59677555]\n",
            " [ 2.06713324 -1.17663843]\n",
            " [ 1.07681071 -0.13288524]\n",
            " [ 0.68068169  1.78066227]\n",
            " [-0.70576986  0.56295021]\n",
            " [ 0.77971394  0.35999821]\n",
            " [ 0.8787462  -0.53878926]\n",
            " [-1.20093113 -1.58254245]\n",
            " [ 2.1661655   0.93986109]\n",
            " [-0.01254409  1.22979253]\n",
            " [ 0.18552042  1.08482681]\n",
            " [ 0.38358493 -0.48080297]\n",
            " [-0.30964085 -0.30684411]\n",
            " [ 0.97777845 -0.8287207 ]\n",
            " [ 0.97777845  1.8676417 ]\n",
            " [-0.01254409  1.25878567]\n",
            " [-0.90383437  2.27354572]\n",
            " [-1.20093113 -1.58254245]\n",
            " [ 2.1661655  -0.79972756]\n",
            " [-1.39899564 -1.46656987]\n",
            " [ 0.38358493  2.30253886]\n",
            " [ 0.77971394  0.76590222]\n",
            " [-1.00286662 -0.30684411]\n",
            " [ 0.08648817  0.76590222]\n",
            " [-1.00286662  0.56295021]\n",
            " [ 0.28455268  0.07006676]\n",
            " [ 0.68068169 -1.26361786]\n",
            " [-0.50770535 -0.01691267]\n",
            " [-1.79512465  0.35999821]\n",
            " [-0.70576986  0.12805305]\n",
            " [ 0.38358493  0.30201192]\n",
            " [-0.30964085  0.07006676]\n",
            " [-0.50770535  2.30253886]\n",
            " [ 0.18552042  0.04107362]\n",
            " [ 1.27487521  2.21555943]\n",
            " [ 0.77971394  0.27301877]\n",
            " [-0.30964085  0.1570462 ]\n",
            " [-0.01254409 -0.53878926]\n",
            " [-0.21060859  0.1570462 ]\n",
            " [-0.11157634  0.24402563]\n",
            " [-0.01254409 -0.24885782]\n",
            " [ 2.1661655   1.11381995]\n",
            " [-1.79512465  0.35999821]\n",
            " [ 1.86906873  0.12805305]\n",
            " [ 0.38358493 -0.13288524]\n",
            " [-1.20093113  0.30201192]\n",
            " [ 0.77971394  1.37475825]\n",
            " [-0.30964085 -0.24885782]\n",
            " [-1.6960924  -0.04590581]\n",
            " [-1.00286662 -0.74174127]\n",
            " [ 0.28455268  0.50496393]\n",
            " [-0.11157634 -1.06066585]\n",
            " [-1.10189888  0.59194336]\n",
            " [ 0.08648817 -0.79972756]\n",
            " [-1.00286662  1.54871711]\n",
            " [-0.70576986  1.40375139]\n",
            " [-1.29996338  0.50496393]\n",
            " [-0.30964085  0.04107362]\n",
            " [-0.11157634  0.01208048]\n",
            " [-0.30964085 -0.88670699]\n",
            " [ 0.8787462  -1.3505973 ]\n",
            " [-0.30964085  2.24455257]\n",
            " [ 0.97777845  1.98361427]\n",
            " [-1.20093113  0.47597078]\n",
            " [-1.29996338  0.27301877]\n",
            " [ 1.37390747  1.98361427]\n",
            " [ 1.27487521 -1.3505973 ]\n",
            " [-0.30964085 -0.27785096]\n",
            " [-0.50770535  1.25878567]\n",
            " [-0.80480212  1.08482681]\n",
            " [ 0.97777845 -1.06066585]\n",
            " [ 0.28455268  0.30201192]\n",
            " [ 0.97777845  0.76590222]\n",
            " [-0.70576986 -1.49556302]\n",
            " [-0.70576986  0.04107362]\n",
            " [ 0.48261718  1.72267598]\n",
            " [ 2.06713324  0.18603934]\n",
            " [-1.99318916 -0.74174127]\n",
            " [-0.21060859  1.40375139]\n",
            " [ 0.38358493  0.59194336]\n",
            " [ 0.8787462  -1.14764529]\n",
            " [-1.20093113 -0.77073441]\n",
            " [ 0.18552042  0.24402563]\n",
            " [ 0.77971394 -0.30684411]\n",
            " [ 2.06713324 -0.79972756]\n",
            " [ 0.77971394  0.12805305]\n",
            " [-0.30964085  0.6209365 ]\n",
            " [-1.00286662 -0.30684411]\n",
            " [ 0.18552042 -0.3648304 ]\n",
            " [ 2.06713324  2.12857999]\n",
            " [ 1.86906873 -1.26361786]\n",
            " [ 1.37390747 -0.91570013]\n",
            " [ 0.8787462   1.25878567]\n",
            " [ 1.47293972  2.12857999]\n",
            " [-0.30964085 -1.23462472]\n",
            " [ 1.96810099  0.91086794]\n",
            " [ 0.68068169 -0.71274813]\n",
            " [-1.49802789  0.35999821]\n",
            " [ 0.77971394 -1.3505973 ]\n",
            " [ 0.38358493 -0.13288524]\n",
            " [-1.00286662  0.41798449]\n",
            " [-0.01254409 -0.30684411]\n",
            " [-1.20093113  0.41798449]\n",
            " [-0.90383437 -1.20563157]\n",
            " [-0.11157634  0.04107362]\n",
            " [-1.59706014 -0.42281668]\n",
            " [ 0.97777845 -1.00267957]\n",
            " [ 1.07681071 -1.20563157]\n",
            " [-0.01254409 -0.13288524]\n",
            " [-1.10189888 -1.52455616]\n",
            " [ 0.77971394 -1.20563157]\n",
            " [ 0.97777845  2.07059371]\n",
            " [-1.20093113 -1.52455616]\n",
            " [-0.30964085  0.79489537]\n",
            " [ 0.08648817 -0.30684411]\n",
            " [-1.39899564 -1.23462472]\n",
            " [-0.60673761 -1.49556302]\n",
            " [ 0.77971394  0.53395707]\n",
            " [-0.30964085 -0.33583725]\n",
            " [ 1.77003648 -0.27785096]\n",
            " [ 0.8787462  -1.03167271]\n",
            " [ 0.18552042  0.07006676]\n",
            " [-0.60673761  0.8818748 ]\n",
            " [-1.89415691 -1.40858358]\n",
            " [-1.29996338  0.59194336]\n",
            " [-0.30964085  0.53395707]\n",
            " [-1.00286662 -1.089659  ]\n",
            " [ 1.17584296 -1.43757673]\n",
            " [ 0.18552042 -0.30684411]\n",
            " [ 1.17584296 -0.74174127]\n",
            " [-0.30964085  0.07006676]\n",
            " [ 0.18552042  2.09958685]\n",
            " [ 0.77971394 -1.089659  ]\n",
            " [ 0.08648817  0.04107362]\n",
            " [-1.79512465  0.12805305]\n",
            " [-0.90383437  0.1570462 ]\n",
            " [-0.70576986  0.18603934]\n",
            " [ 0.8787462  -1.29261101]\n",
            " [ 0.18552042 -0.24885782]\n",
            " [-0.4086731   1.22979253]\n",
            " [-0.01254409  0.30201192]\n",
            " [ 0.38358493  0.1570462 ]\n",
            " [ 0.8787462  -0.65476184]\n",
            " [ 0.08648817  0.1570462 ]\n",
            " [-1.89415691 -1.29261101]\n",
            " [-0.11157634  0.30201192]\n",
            " [-0.21060859 -0.27785096]\n",
            " [ 0.28455268 -0.50979612]\n",
            " [-0.21060859  1.6067034 ]\n",
            " [ 0.97777845 -1.17663843]\n",
            " [-0.21060859  1.63569655]\n",
            " [ 1.27487521  1.8676417 ]\n",
            " [-1.10189888 -0.3648304 ]\n",
            " [-0.01254409  0.04107362]\n",
            " [ 0.08648817 -0.24885782]\n",
            " [-1.59706014 -1.23462472]\n",
            " [-0.50770535 -0.27785096]\n",
            " [ 0.97777845  0.12805305]\n",
            " [ 1.96810099 -1.3505973 ]\n",
            " [ 1.47293972  0.07006676]\n",
            " [-0.60673761  1.37475825]\n",
            " [ 1.57197197  0.01208048]\n",
            " [-0.80480212  0.30201192]\n",
            " [ 1.96810099  0.73690908]\n",
            " [-1.20093113 -0.50979612]\n",
            " [ 0.68068169  0.27301877]\n",
            " [-1.39899564 -0.42281668]\n",
            " [ 0.18552042  0.1570462 ]\n",
            " [-0.50770535 -1.20563157]\n",
            " [ 0.58164944  2.01260742]\n",
            " [-1.59706014 -1.49556302]\n",
            " [-0.50770535 -0.53878926]\n",
            " [ 0.48261718  1.83864855]\n",
            " [-1.39899564 -1.089659  ]\n",
            " [ 0.77971394 -1.37959044]\n",
            " [-0.30964085 -0.42281668]\n",
            " [ 1.57197197  0.99784738]\n",
            " [ 0.97777845  1.43274454]\n",
            " [-0.30964085 -0.48080297]\n",
            " [-0.11157634  2.15757314]\n",
            " [-1.49802789 -0.1038921 ]\n",
            " [-0.11157634  1.95462113]\n",
            " [-0.70576986 -0.33583725]\n",
            " [-0.50770535 -0.8287207 ]\n",
            " [ 0.68068169 -1.37959044]\n",
            " [-0.80480212 -1.58254245]\n",
            " [-1.89415691 -1.46656987]\n",
            " [ 1.07681071  0.12805305]\n",
            " [ 0.08648817  1.51972397]\n",
            " [-0.30964085  0.09905991]\n",
            " [ 0.08648817  0.04107362]\n",
            " [-1.39899564 -1.3505973 ]\n",
            " [ 0.28455268  0.07006676]\n",
            " [-0.90383437  0.38899135]\n",
            " [ 1.57197197 -1.26361786]\n",
            " [-0.30964085 -0.74174127]\n",
            " [-0.11157634  0.1570462 ]\n",
            " [-0.90383437 -0.65476184]\n",
            " [-0.70576986 -0.04590581]\n",
            " [ 0.38358493 -0.45180983]\n",
            " [-0.80480212  1.89663484]\n",
            " [ 1.37390747  1.28777882]\n",
            " [ 1.17584296 -0.97368642]\n",
            " [ 1.77003648  1.83864855]\n",
            " [-0.90383437 -0.24885782]\n",
            " [-0.80480212  0.56295021]\n",
            " [-1.20093113 -1.5535493 ]\n",
            " [-0.50770535 -1.11865214]\n",
            " [ 0.28455268  0.07006676]\n",
            " [-0.21060859 -1.06066585]\n",
            " [ 1.67100423  1.6067034 ]\n",
            " [ 0.97777845  1.78066227]\n",
            " [ 0.28455268  0.04107362]\n",
            " [-0.80480212 -0.21986468]\n",
            " [-0.11157634  0.07006676]\n",
            " [ 0.28455268 -0.19087153]\n",
            " [ 1.96810099 -0.65476184]\n",
            " [-0.80480212  1.3457651 ]\n",
            " [-1.79512465 -0.59677555]\n",
            " [-0.11157634  0.12805305]\n",
            " [ 0.28455268 -0.30684411]\n",
            " [ 1.07681071  0.56295021]\n",
            " [-1.00286662  0.27301877]\n",
            " [ 1.47293972  0.35999821]\n",
            " [ 0.18552042 -0.3648304 ]\n",
            " [ 2.1661655  -1.03167271]\n",
            " [-0.30964085  1.11381995]\n",
            " [-1.6960924   0.07006676]\n",
            " [-0.01254409  0.04107362]\n",
            " [ 0.08648817  1.05583366]\n",
            " [-0.11157634 -0.3648304 ]\n",
            " [-1.20093113  0.07006676]\n",
            " [-0.30964085 -1.3505973 ]\n",
            " [ 1.57197197  1.11381995]\n",
            " [-0.80480212 -1.52455616]\n",
            " [ 0.08648817  1.8676417 ]\n",
            " [-0.90383437 -0.77073441]\n",
            " [-0.50770535 -0.77073441]\n",
            " [-0.30964085 -0.91570013]\n",
            " [ 0.28455268 -0.71274813]\n",
            " [ 0.28455268  0.07006676]\n",
            " [ 0.08648817  1.8676417 ]\n",
            " [-1.10189888  1.95462113]\n",
            " [-1.6960924  -1.5535493 ]\n",
            " [-1.20093113 -1.089659  ]\n",
            " [-0.70576986 -0.1038921 ]\n",
            " [ 0.08648817  0.09905991]\n",
            " [ 0.28455268  0.27301877]\n",
            " [ 0.8787462  -0.5677824 ]\n",
            " [ 0.28455268 -1.14764529]\n",
            " [-0.11157634  0.67892279]\n",
            " [ 2.1661655  -0.68375498]\n",
            " [-1.29996338 -1.37959044]\n",
            " [-1.00286662 -0.94469328]\n",
            " [-0.01254409 -0.42281668]\n",
            " [-0.21060859 -0.45180983]\n",
            " [-1.79512465 -0.97368642]\n",
            " [ 1.77003648  0.99784738]\n",
            " [ 0.18552042 -0.3648304 ]\n",
            " [ 0.38358493  1.11381995]\n",
            " [-1.79512465 -1.3505973 ]\n",
            " [ 0.18552042 -0.13288524]\n",
            " [ 0.8787462  -1.43757673]\n",
            " [-1.99318916  0.47597078]\n",
            " [-0.30964085  0.27301877]\n",
            " [ 1.86906873 -1.06066585]\n",
            " [-0.4086731   0.07006676]\n",
            " [ 1.07681071 -0.88670699]\n",
            " [-1.10189888 -1.11865214]\n",
            " [-1.89415691  0.01208048]\n",
            " [ 0.08648817  0.27301877]\n",
            " [-1.20093113  0.33100506]\n",
            " [-1.29996338  0.30201192]\n",
            " [-1.00286662  0.44697764]\n",
            " [ 1.67100423 -0.88670699]\n",
            " [ 1.17584296  0.53395707]\n",
            " [ 1.07681071  0.53395707]\n",
            " [ 1.37390747  2.331532  ]\n",
            " [-0.30964085 -0.13288524]\n",
            " [ 0.38358493 -0.45180983]\n",
            " [-0.4086731  -0.77073441]\n",
            " [-0.11157634 -0.50979612]\n",
            " [ 0.97777845 -1.14764529]\n",
            " [-0.90383437 -0.77073441]\n",
            " [-0.21060859 -0.50979612]\n",
            " [-1.10189888 -0.45180983]\n",
            " [-1.20093113  1.40375139]]\n"
          ],
          "name": "stdout"
        }
      ]
    },
    {
      "cell_type": "code",
      "metadata": {
        "id": "JUd6iBRp2C3L",
        "outputId": "3ed7b1f1-8fb7-48bc-8df8-39b6f65081ae",
        "colab": {
          "base_uri": "https://localhost:8080/",
          "height": 1000
        }
      },
      "source": [
        "print(X_test)"
      ],
      "execution_count": null,
      "outputs": [
        {
          "output_type": "stream",
          "text": [
            "[[-0.80480212  0.50496393]\n",
            " [-0.01254409 -0.5677824 ]\n",
            " [-0.30964085  0.1570462 ]\n",
            " [-0.80480212  0.27301877]\n",
            " [-0.30964085 -0.5677824 ]\n",
            " [-1.10189888 -1.43757673]\n",
            " [-0.70576986 -1.58254245]\n",
            " [-0.21060859  2.15757314]\n",
            " [-1.99318916 -0.04590581]\n",
            " [ 0.8787462  -0.77073441]\n",
            " [-0.80480212 -0.59677555]\n",
            " [-1.00286662 -0.42281668]\n",
            " [-0.11157634 -0.42281668]\n",
            " [ 0.08648817  0.21503249]\n",
            " [-1.79512465  0.47597078]\n",
            " [-0.60673761  1.37475825]\n",
            " [-0.11157634  0.21503249]\n",
            " [-1.89415691  0.44697764]\n",
            " [ 1.67100423  1.75166912]\n",
            " [-0.30964085 -1.37959044]\n",
            " [-0.30964085 -0.65476184]\n",
            " [ 0.8787462   2.15757314]\n",
            " [ 0.28455268 -0.53878926]\n",
            " [ 0.8787462   1.02684052]\n",
            " [-1.49802789 -1.20563157]\n",
            " [ 1.07681071  2.07059371]\n",
            " [-1.00286662  0.50496393]\n",
            " [-0.90383437  0.30201192]\n",
            " [-0.11157634 -0.21986468]\n",
            " [-0.60673761  0.47597078]\n",
            " [-1.6960924   0.53395707]\n",
            " [-0.11157634  0.27301877]\n",
            " [ 1.86906873 -0.27785096]\n",
            " [-0.11157634 -0.48080297]\n",
            " [-1.39899564 -0.33583725]\n",
            " [-1.99318916 -0.50979612]\n",
            " [-1.59706014  0.33100506]\n",
            " [-0.4086731  -0.77073441]\n",
            " [-0.70576986 -1.03167271]\n",
            " [ 1.07681071 -0.97368642]\n",
            " [-1.10189888  0.53395707]\n",
            " [ 0.28455268 -0.50979612]\n",
            " [-1.10189888  0.41798449]\n",
            " [-0.30964085 -1.43757673]\n",
            " [ 0.48261718  1.22979253]\n",
            " [-1.10189888 -0.33583725]\n",
            " [-0.11157634  0.30201192]\n",
            " [ 1.37390747  0.59194336]\n",
            " [-1.20093113 -1.14764529]\n",
            " [ 1.07681071  0.47597078]\n",
            " [ 1.86906873  1.51972397]\n",
            " [-0.4086731  -1.29261101]\n",
            " [-0.30964085 -0.3648304 ]\n",
            " [-0.4086731   1.31677196]\n",
            " [ 2.06713324  0.53395707]\n",
            " [ 0.68068169 -1.089659  ]\n",
            " [-0.90383437  0.38899135]\n",
            " [-1.20093113  0.30201192]\n",
            " [ 1.07681071 -1.20563157]\n",
            " [-1.49802789 -1.43757673]\n",
            " [-0.60673761 -1.49556302]\n",
            " [ 2.1661655  -0.79972756]\n",
            " [-1.89415691  0.18603934]\n",
            " [-0.21060859  0.85288166]\n",
            " [-1.89415691 -1.26361786]\n",
            " [ 2.1661655   0.38899135]\n",
            " [-1.39899564  0.56295021]\n",
            " [-1.10189888 -0.33583725]\n",
            " [ 0.18552042 -0.65476184]\n",
            " [ 0.38358493  0.01208048]\n",
            " [-0.60673761  2.331532  ]\n",
            " [-0.30964085  0.21503249]\n",
            " [-1.59706014 -0.19087153]\n",
            " [ 0.68068169 -1.37959044]\n",
            " [-1.10189888  0.56295021]\n",
            " [-1.99318916  0.35999821]\n",
            " [ 0.38358493  0.27301877]\n",
            " [ 0.18552042 -0.27785096]\n",
            " [ 1.47293972 -1.03167271]\n",
            " [ 0.8787462   1.08482681]\n",
            " [ 1.96810099  2.15757314]\n",
            " [ 2.06713324  0.38899135]\n",
            " [-1.39899564 -0.42281668]\n",
            " [-1.20093113 -1.00267957]\n",
            " [ 1.96810099 -0.91570013]\n",
            " [ 0.38358493  0.30201192]\n",
            " [ 0.18552042  0.1570462 ]\n",
            " [ 2.06713324  1.75166912]\n",
            " [ 0.77971394 -0.8287207 ]\n",
            " [ 0.28455268 -0.27785096]\n",
            " [ 0.38358493 -0.16187839]\n",
            " [-0.11157634  2.21555943]\n",
            " [-1.49802789 -0.62576869]\n",
            " [-1.29996338 -1.06066585]\n",
            " [-1.39899564  0.41798449]\n",
            " [-1.10189888  0.76590222]\n",
            " [-1.49802789 -0.19087153]\n",
            " [ 0.97777845 -1.06066585]\n",
            " [ 0.97777845  0.59194336]\n",
            " [ 0.38358493  0.99784738]]\n"
          ],
          "name": "stdout"
        }
      ]
    },
    {
      "cell_type": "markdown",
      "metadata": {
        "id": "bb6jCOCQiAmP"
      },
      "source": [
        "## Training the Logistic Regression model on the Training set"
      ]
    },
    {
      "cell_type": "code",
      "metadata": {
        "id": "e0pFVAmciHQs",
        "outputId": "67f64468-abdb-4fe7-cce9-de0037119610",
        "colab": {
          "base_uri": "https://localhost:8080/",
          "height": 103
        }
      },
      "source": [
        "from sklearn.linear_model import LogisticRegression\n",
        "classifier = LogisticRegression(random_state = 0)\n",
        "classifier.fit(X_train, y_train)"
      ],
      "execution_count": null,
      "outputs": [
        {
          "output_type": "execute_result",
          "data": {
            "text/plain": [
              "LogisticRegression(C=1.0, class_weight=None, dual=False, fit_intercept=True,\n",
              "                   intercept_scaling=1, l1_ratio=None, max_iter=100,\n",
              "                   multi_class='auto', n_jobs=None, penalty='l2',\n",
              "                   random_state=0, solver='lbfgs', tol=0.0001, verbose=0,\n",
              "                   warm_start=False)"
            ]
          },
          "metadata": {
            "tags": []
          },
          "execution_count": 11
        }
      ]
    },
    {
      "cell_type": "markdown",
      "metadata": {
        "id": "yyxW5b395mR2"
      },
      "source": [
        "## Predicting a new result"
      ]
    },
    {
      "cell_type": "code",
      "metadata": {
        "id": "f8YOXsQy58rP",
        "outputId": "2e1b0063-548e-4924-cf3a-93a79d97e35e",
        "colab": {
          "base_uri": "https://localhost:8080/",
          "height": 34
        }
      },
      "source": [
        "print(classifier.predict(sc.transform([[30,87000]])))"
      ],
      "execution_count": null,
      "outputs": [
        {
          "output_type": "stream",
          "text": [
            "[0]\n"
          ],
          "name": "stdout"
        }
      ]
    },
    {
      "cell_type": "markdown",
      "metadata": {
        "id": "vKYVQH-l5NpE"
      },
      "source": [
        "## Predicting the Test set results"
      ]
    },
    {
      "cell_type": "code",
      "metadata": {
        "id": "p6VMTb2O4hwM",
        "outputId": "a4f03a97-2942-45cd-f735-f4063277a96c",
        "colab": {
          "base_uri": "https://localhost:8080/",
          "height": 1000
        }
      },
      "source": [
        "y_pred = classifier.predict(X_test)\n",
        "print(np.concatenate((y_pred.reshape(len(y_pred),1), y_test.reshape(len(y_test),1)),1))"
      ],
      "execution_count": null,
      "outputs": [
        {
          "output_type": "stream",
          "text": [
            "[[0 0]\n",
            " [0 0]\n",
            " [0 0]\n",
            " [0 0]\n",
            " [0 0]\n",
            " [0 0]\n",
            " [0 0]\n",
            " [1 1]\n",
            " [0 0]\n",
            " [1 0]\n",
            " [0 0]\n",
            " [0 0]\n",
            " [0 0]\n",
            " [0 0]\n",
            " [0 0]\n",
            " [0 0]\n",
            " [0 0]\n",
            " [0 0]\n",
            " [1 1]\n",
            " [0 0]\n",
            " [0 0]\n",
            " [1 1]\n",
            " [0 0]\n",
            " [1 1]\n",
            " [0 0]\n",
            " [1 1]\n",
            " [0 0]\n",
            " [0 0]\n",
            " [0 0]\n",
            " [0 0]\n",
            " [0 0]\n",
            " [0 1]\n",
            " [1 1]\n",
            " [0 0]\n",
            " [0 0]\n",
            " [0 0]\n",
            " [0 0]\n",
            " [0 0]\n",
            " [0 0]\n",
            " [1 1]\n",
            " [0 0]\n",
            " [0 0]\n",
            " [0 0]\n",
            " [0 0]\n",
            " [1 1]\n",
            " [0 0]\n",
            " [0 0]\n",
            " [1 1]\n",
            " [0 0]\n",
            " [1 1]\n",
            " [1 1]\n",
            " [0 0]\n",
            " [0 0]\n",
            " [0 0]\n",
            " [1 1]\n",
            " [0 1]\n",
            " [0 0]\n",
            " [0 0]\n",
            " [0 1]\n",
            " [0 0]\n",
            " [0 0]\n",
            " [1 1]\n",
            " [0 0]\n",
            " [0 1]\n",
            " [0 0]\n",
            " [1 1]\n",
            " [0 0]\n",
            " [0 0]\n",
            " [0 0]\n",
            " [0 0]\n",
            " [1 1]\n",
            " [0 0]\n",
            " [0 0]\n",
            " [0 1]\n",
            " [0 0]\n",
            " [0 0]\n",
            " [1 0]\n",
            " [0 0]\n",
            " [1 1]\n",
            " [1 1]\n",
            " [1 1]\n",
            " [1 0]\n",
            " [0 0]\n",
            " [0 0]\n",
            " [1 1]\n",
            " [1 1]\n",
            " [0 0]\n",
            " [1 1]\n",
            " [0 1]\n",
            " [0 0]\n",
            " [0 0]\n",
            " [1 1]\n",
            " [0 0]\n",
            " [0 0]\n",
            " [0 0]\n",
            " [0 1]\n",
            " [0 0]\n",
            " [0 1]\n",
            " [1 1]\n",
            " [1 1]]\n"
          ],
          "name": "stdout"
        }
      ]
    },
    {
      "cell_type": "markdown",
      "metadata": {
        "id": "h4Hwj34ziWQW"
      },
      "source": [
        "## Making the Confusion Matrix"
      ]
    },
    {
      "cell_type": "code",
      "metadata": {
        "id": "D6bpZwUiiXic",
        "outputId": "f202fcb3-5882-4d93-e5df-50791185067e",
        "colab": {
          "base_uri": "https://localhost:8080/",
          "height": 68
        }
      },
      "source": [
        "from sklearn.metrics import confusion_matrix, accuracy_score\n",
        "cm = confusion_matrix(y_test, y_pred)\n",
        "print(cm)\n",
        "accuracy_score(y_test, y_pred)"
      ],
      "execution_count": null,
      "outputs": [
        {
          "output_type": "stream",
          "text": [
            "[[65  3]\n",
            " [ 8 24]]\n"
          ],
          "name": "stdout"
        },
        {
          "output_type": "execute_result",
          "data": {
            "text/plain": [
              "0.89"
            ]
          },
          "metadata": {
            "tags": []
          },
          "execution_count": 14
        }
      ]
    },
    {
      "cell_type": "markdown",
      "metadata": {
        "id": "6OMC_P0diaoD"
      },
      "source": [
        "## Visualising the Training set results"
      ]
    },
    {
      "cell_type": "code",
      "metadata": {
        "id": "_NOjKvZRid5l",
        "outputId": "6fa60701-9aa4-46f2-a6aa-0f9b0aad62b3",
        "colab": {
          "base_uri": "https://localhost:8080/",
          "height": 349
        }
      },
      "source": [
        "from matplotlib.colors import ListedColormap\n",
        "X_set, y_set = sc.inverse_transform(X_train), y_train\n",
        "X1, X2 = np.meshgrid(np.arange(start = X_set[:, 0].min() - 10, stop = X_set[:, 0].max() + 10, step = 0.25),\n",
        "                     np.arange(start = X_set[:, 1].min() - 1000, stop = X_set[:, 1].max() + 1000, step = 0.25))\n",
        "plt.contourf(X1, X2, classifier.predict(sc.transform(np.array([X1.ravel(), X2.ravel()]).T)).reshape(X1.shape),\n",
        "             alpha = 0.75, cmap = ListedColormap(('red', 'green')))\n",
        "plt.xlim(X1.min(), X1.max())\n",
        "plt.ylim(X2.min(), X2.max())\n",
        "for i, j in enumerate(np.unique(y_set)):\n",
        "    plt.scatter(X_set[y_set == j, 0], X_set[y_set == j, 1], c = ListedColormap(('red', 'green'))(i), label = j)\n",
        "plt.title('Logistic Regression (Training set)')\n",
        "plt.xlabel('Age')\n",
        "plt.ylabel('Estimated Salary')\n",
        "plt.legend()\n",
        "plt.show()"
      ],
      "execution_count": null,
      "outputs": [
        {
          "output_type": "stream",
          "text": [
            "'c' argument looks like a single numeric RGB or RGBA sequence, which should be avoided as value-mapping will have precedence in case its length matches with 'x' & 'y'.  Please use a 2-D array with a single row if you really want to specify the same RGB or RGBA value for all points.\n",
            "'c' argument looks like a single numeric RGB or RGBA sequence, which should be avoided as value-mapping will have precedence in case its length matches with 'x' & 'y'.  Please use a 2-D array with a single row if you really want to specify the same RGB or RGBA value for all points.\n"
          ],
          "name": "stderr"
        },
        {
          "output_type": "display_data",
          "data": {
            "image/png": "[encoded data removed]",
            "text/plain": [
              "<Figure size 432x288 with 1 Axes>"
            ]
          },
          "metadata": {
            "tags": [],
            "needs_background": "light"
          }
        }
      ]
    },
    {
      "cell_type": "markdown",
      "metadata": {
        "id": "SZ-j28aPihZx"
      },
      "source": [
        "## Visualising the Test set results"
      ]
    },
    {
      "cell_type": "code",
      "metadata": {
        "id": "qeTjz2vDilAC",
        "outputId": "00fb10bc-c726-46b8-8eaa-c5c6b584aa54",
        "colab": {
          "base_uri": "https://localhost:8080/",
          "height": 349
        }
      },
      "source": [
        "from matplotlib.colors import ListedColormap\n",
        "X_set, y_set = sc.inverse_transform(X_test), y_test\n",
        "X1, X2 = np.meshgrid(np.arange(start = X_set[:, 0].min() - 10, stop = X_set[:, 0].max() + 10, step = 0.25),\n",
        "                     np.arange(start = X_set[:, 1].min() - 1000, stop = X_set[:, 1].max() + 1000, step = 0.25))\n",
        "plt.contourf(X1, X2, classifier.predict(sc.transform(np.array([X1.ravel(), X2.ravel()]).T)).reshape(X1.shape),\n",
        "             alpha = 0.75, cmap = ListedColormap(('red', 'green')))\n",
        "plt.xlim(X1.min(), X1.max())\n",
        "plt.ylim(X2.min(), X2.max())\n",
        "for i, j in enumerate(np.unique(y_set)):\n",
        "    plt.scatter(X_set[y_set == j, 0], X_set[y_set == j, 1], c = ListedColormap(('red', 'green'))(i), label = j)\n",
        "plt.title('Logistic Regression (Test set)')\n",
        "plt.xlabel('Age')\n",
        "plt.ylabel('Estimated Salary')\n",
        "plt.legend()\n",
        "plt.show()"
      ],
      "execution_count": null,
      "outputs": [
        {
          "output_type": "stream",
          "text": [
            "'c' argument looks like a single numeric RGB or RGBA sequence, which should be avoided as value-mapping will have precedence in case its length matches with 'x' & 'y'.  Please use a 2-D array with a single row if you really want to specify the same RGB or RGBA value for all points.\n",
            "'c' argument looks like a single numeric RGB or RGBA sequence, which should be avoided as value-mapping will have precedence in case its length matches with 'x' & 'y'.  Please use a 2-D array with a single row if you really want to specify the same RGB or RGBA value for all points.\n"
          ],
          "name": "stderr"
        },
        {
          "output_type": "display_data",
          "data": {
            "image/png": "[encoded data removed]",
            "text/plain": [
              "<Figure size 432x288 with 1 Axes>"
            ]
          },
          "metadata": {
            "tags": [],
            "needs_background": "light"
          }
        }
      ]
    }
  ]
}